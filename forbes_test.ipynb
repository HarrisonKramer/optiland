{
 "cells": [
  {
   "cell_type": "code",
   "execution_count": 1,
   "id": "9714ab99",
   "metadata": {},
   "outputs": [],
   "source": [
    "import optiland.backend as be\n",
    "from optiland.optic import Optic\n",
    "from optiland.rays import RealRays\n",
    "from optiland.materials import Material, IdealMaterial\n",
    "from optiland.physical_apertures import RadialAperture, RectangularAperture"
   ]
  },
  {
   "cell_type": "code",
   "execution_count": 2,
   "id": "dd110fb3",
   "metadata": {},
   "outputs": [],
   "source": [
    "be.set_backend('torch')\n",
    "be.grad_mode.enable()\n",
    "be.set_device('cpu')\n",
    "be.set_precision('float64')"
   ]
  },
  {
   "cell_type": "code",
   "execution_count": 3,
   "id": "586fe260",
   "metadata": {},
   "outputs": [],
   "source": [
    "# --- Create the optical system ---\n",
    "class System(Optic):\n",
    "    \"\"\"We can define our optical system here, and can be called from other scripts\"\"\"\n",
    "\n",
    "    def __init__(self):\n",
    "        super().__init__()\n",
    "\n",
    "        # System Settings (Wvls, aperture, etc)\n",
    "        ## ---- Aperture ----\n",
    "        self.set_aperture(aperture_type=\"EPD\", value=4.0)\n",
    "\n",
    "        ## ---- Fields ----\n",
    "        self.set_field_type(field_type=\"angle\")\n",
    "        self.add_field(y=0)\n",
    "\n",
    "        ## ---- Wavelengths ----\n",
    "        # self.add_wavelength(value=1.53)\n",
    "        self.add_wavelength(value=1.550, is_primary=True)\n",
    "        # self.add_wavelength(value=1.56)\n",
    "\n",
    "        # Materials to be used\n",
    "        H_K3 = Material(\"H-K3\", reference='cdgm')\n",
    "        H_ZLAF68C = Material(\"H-ZLAF68C\", reference='cdgm')\n",
    "\n",
    "        # -- Lens Data Editor here --\n",
    "\n",
    "        ## LDE Auxiliary data\n",
    "        \n",
    "        coeffs_S2 = [1.614, 0.348]#, 0.150, 0.033]\n",
    "        forbes_coeffs_n_S2 = [(n, 0) for n in range(len(coeffs_S2))]\n",
    "        norm_radius_S2 = 6.336\n",
    "        conic_S2 = -4.428\n",
    "        coeffs_S4 = [-0.270, 0.087]#, -0.048, 0.026]\n",
    "        forbes_coeffs_n_S4 = [(n, 0) for n in range(len(coeffs_S4))]\n",
    "        conic_S4 = 0.038\n",
    "        norm_radius_S4 = 10.0        \n",
    "\n",
    "        \n",
    "        \n",
    "        ap1 = RadialAperture(5)\n",
    "        ap2 = RadialAperture(10.5)\n",
    "        apt_detector = RectangularAperture(-20, 20, -20, 20)\n",
    "\n",
    "        self.add_surface(index=0, thickness=be.inf)\n",
    "        self.add_surface(index=1, thickness=26.5)\n",
    "        self.add_surface(index=2, thickness=4.0, radius=be.inf, material=H_K3, is_stop=True)\n",
    "        self.add_surface(index=3, thickness=25.0, radius=22.0, conic=conic_S2, forbes_coeffs_n=forbes_coeffs_n_S2, forbes_coeffs_c=coeffs_S2, forbes_norm_radius=norm_radius_S2, surface_type=\"forbes_qbfs\") \n",
    "        self.add_surface(index=4, thickness=7.0, radius=be.inf, material=H_ZLAF68C)\n",
    "        self.add_surface(index=5, thickness=10.0, radius=-31.0, conic=conic_S4, forbes_coeffs_n=forbes_coeffs_n_S4, forbes_coeffs_c=coeffs_S4, forbes_norm_radius=norm_radius_S4, surface_type=\"forbes_qbfs\")\n",
    "        self.add_surface(index=6, aperture=apt_detector)\n",
    "        # self.add_surface(index=6)  # image"
   ]
  },
  {
   "cell_type": "code",
   "execution_count": 4,
   "id": "cfcba1e2",
   "metadata": {},
   "outputs": [
    {
     "data": {
      "image/png": "[encoded data removed]",
      "text/plain": [
       "<Figure size 1000x400 with 1 Axes>"
      ]
     },
     "metadata": {},
     "output_type": "display_data"
    }
   ],
   "source": [
    "lens = System()\n",
    "lens.draw(num_rays=3)"
   ]
  },
  {
   "cell_type": "code",
   "execution_count": 5,
   "id": "432941f6",
   "metadata": {},
   "outputs": [],
   "source": [
    "test_rays = RealRays(\n",
    "            x=be.array([0.0, 0.0, 0.0]),\n",
    "            y=be.array([-2.0, 0.0, 2.0]),\n",
    "            z=be.array([0.0, 0.0, 0.0]),\n",
    "            L=be.array([0.0, 0.0, 0.0]),\n",
    "            M=be.array([0.0, 0.0, 0.0]),\n",
    "            N=be.array([1.0, 1.0, 1.0]),\n",
    "            wavelength=be.ones(3)*1.550,\n",
    "            intensity=be.ones(3)\n",
    "        )"
   ]
  },
  {
   "cell_type": "code",
   "execution_count": 6,
   "id": "b308d5ce",
   "metadata": {},
   "outputs": [
    {
     "name": "stdout",
     "output_type": "stream",
     "text": [
      "Rays after tracing through the system:\n",
      " Ray # |          x |          y |          z |          L |          M |          N |  Intensity |   Wavelength\n",
      "----------------------------------------------------------------------------------------------------------------------\n",
      "     0 |     0.0000 |    -5.5800 |    72.5000 |   0.000000 |   0.037606 |   0.999293 |     0.9936 |       1.5500\n",
      "     1 |     0.0000 |     0.0000 |    72.5000 |  -0.000000 |  -0.000000 |   1.000000 |     0.9938 |       1.5500\n",
      "     2 |     0.0000 |     5.5800 |    72.5000 |   0.000000 |  -0.037606 |   0.999293 |     0.9936 |       1.5500\n",
      "----------------------------------------------------------------------------------------------------------------------\n",
      "Showing 3 of 3 rays.\n",
      "\n"
     ]
    }
   ],
   "source": [
    "rays_out = lens.surface_group.trace(test_rays)\n",
    "print(\"Rays after tracing through the system:\")\n",
    "print(rays_out)"
   ]
  },
  {
   "cell_type": "code",
   "execution_count": 7,
   "id": "14d44428",
   "metadata": {},
   "outputs": [
    {
     "name": "stdout",
     "output_type": "stream",
     "text": [
      "∂z/∂cm0 = tensor([2.0000, 5.3155, 6.0731], dtype=torch.float64)\n"
     ]
    }
   ],
   "source": [
    "import torch, optiland.backend as be\n",
    "from optiland.geometries.forbes.qpoly import compute_z_zprime_Q2d\n",
    "\n",
    "be.set_backend(\"torch\")\n",
    "\n",
    "cm0 = torch.tensor([1.0, 0.1, 0.01], dtype=torch.float64, requires_grad=True)\n",
    "u    = torch.tensor([0.2, 0.37], dtype=torch.float64)\n",
    "theta= torch.tensor([0.0, 1.0], dtype=torch.float64)\n",
    "\n",
    "z, *_ = compute_z_zprime_Q2d(cm0, [], [], u, theta)\n",
    "(z.sum()).backward()\n",
    "print(\"∂z/∂cm0 =\", cm0.grad)        # non-zero ⇒ gradients OK"
   ]
  },
  {
   "cell_type": "code",
   "execution_count": 8,
   "id": "9883a72d",
   "metadata": {},
   "outputs": [
    {
     "name": "stdout",
     "output_type": "stream",
     "text": [
      "loss value        : 82.605678\n",
      "d(loss)/d(cm0)[0] : 2.606876e-48\n",
      "✓ autodiff path through Forbes sag & ray-trace is intact.\n"
     ]
    }
   ],
   "source": [
    "import torch\n",
    "import optiland.backend as be\n",
    "from optiland.optic.optic import Optic\n",
    "from optiland.geometries.forbes.qpoly import compute_z_zprime_Q2d\n",
    "\n",
    "# ------------------------------------------------------------------\n",
    "# 1.  Tiny Forbes surface inside an Optic\n",
    "# ------------------------------------------------------------------\n",
    "be.set_backend(\"torch\")\n",
    "\n",
    "lens = Optic()\n",
    "lens.set_aperture(aperture_type=\"EPD\", value=4.0)\n",
    "lens.set_field_type(field_type=\"angle\")\n",
    "lens.add_field(y=0)\n",
    "lens.add_wavelength(value=1.55, is_primary=True)\n",
    "\n",
    "# One Forbes surface, single cm0 coefficient (M = 0) so we stress\n",
    "# exactly the code path that used to fail.\n",
    "cm0 = torch.tensor([0.25], dtype=torch.float64, requires_grad=True)\n",
    "\n",
    "lens.add_surface(index=0, thickness=0.0)           # object\n",
    "lens.add_surface(index=1, thickness=50.0,          # Forbes surface\n",
    "                 radius=100.0,\n",
    "                 surface_type=\"forbes_qbfs\",\n",
    "                 forbes_coeffs_n=[(0, 0)],         # m = 0 term only\n",
    "                 forbes_coeffs_c=cm0)\n",
    "lens.add_surface(index=2)                          # image\n",
    "\n",
    "# ------------------------------------------------------------------\n",
    "# 2.  Trace one on-axis ray & define a dummy loss\n",
    "# ------------------------------------------------------------------\n",
    "rays_out = lens.surface_group.trace(test_rays)\n",
    "\n",
    "# Loss = square of y-coordinate in image plane\n",
    "loss = (rays_out.y ** 2).sum()\n",
    "\n",
    "# ------------------------------------------------------------------\n",
    "# 3.  Back-propagate\n",
    "# ------------------------------------------------------------------\n",
    "loss.backward()\n",
    "\n",
    "print(f\"loss value        : {loss.item():.6f}\")\n",
    "print(f\"d(loss)/d(cm0)[0] : {cm0.grad.item():.6e}\")\n",
    "assert torch.isfinite(cm0.grad).all() and cm0.grad.abs().max() > 0, \\\n",
    "       \"Gradient vanished or became NaN/Inf\"\n",
    "\n",
    "print(\"✓ autodiff path through Forbes sag & ray-trace is intact.\")\n"
   ]
  },
  {
   "cell_type": "code",
   "execution_count": 9,
   "id": "7543c355",
   "metadata": {},
   "outputs": [
    {
     "name": "stdout",
     "output_type": "stream",
     "text": [
      "--- Autodiff Test Results ---\n",
      "Computed gradient: tensor([0.7072, 1.9781], dtype=torch.float64)\n",
      "\n",
      "\u001b[92mSUCCESS: Automatic differentiation is WORKING.\u001b[0m\n",
      "Gradients are flowing back to the Forbes coefficients.\n"
     ]
    }
   ],
   "source": [
    "# --- Test for Automatic Differentiation ---\n",
    "# This cell checks if gradients are flowing correctly back to the Forbes coefficients.\n",
    "\n",
    "# 1. Ensure the PyTorch backend is active and enable gradient tracking\n",
    "import optiland.backend as be\n",
    "from optiland.rays import RealRays\n",
    "\n",
    "# It's good practice to re-run this in the test cell to be explicit\n",
    "be.set_backend('torch')\n",
    "be.set_device('cpu') \n",
    "be.set_precision('float64')\n",
    "be.grad_mode.enable()\n",
    "\n",
    "# 2. Re-create the optical system\n",
    "# We create a new instance to ensure parameters are fresh tensors for this test\n",
    "lens_for_grad_test = System()\n",
    "\n",
    "# 3. Get the specific Forbes surface and its coefficients\n",
    "# Let's test the gradient with respect to the coefficients of the first Forbes surface (index 3)\n",
    "forbes_surface = lens_for_grad_test.surface_group.surfaces[3].geometry\n",
    "coeffs_to_test = forbes_surface.coeffs_c\n",
    "\n",
    "# IMPORTANT: Explicitly tell PyTorch to track gradients for this parameter tensor\n",
    "coeffs_to_test.requires_grad_(True)\n",
    "\n",
    "# 4. Create a single test ray\n",
    "# We only need one ray to check the gradient path\n",
    "ray = RealRays(\n",
    "    x=be.array([0.0]),\n",
    "    y=be.array([1.0]), # A non-zero y-coordinate\n",
    "    z=be.array([0.0]),\n",
    "    L=be.array([0.0]),\n",
    "    M=be.array([0.0]),\n",
    "    N=be.array([1.0]),\n",
    "    wavelength=be.array([1.550]),\n",
    "    intensity=be.array([1.0])\n",
    ")\n",
    "\n",
    "# 5. Trace the ray through the system\n",
    "# We must zero out any existing gradients before backpropagation\n",
    "if coeffs_to_test.grad is not None:\n",
    "    coeffs_to_test.grad.zero_()\n",
    "\n",
    "rays_out = lens_for_grad_test.surface_group.trace(ray)\n",
    "\n",
    "# 6. Define a simple scalar \"loss\" function from the output\n",
    "# The loss can be any differentiable operation that results in a single number.\n",
    "# The sum of the final y-coordinates is a standard choice.\n",
    "loss = be.sum(rays_out.y)\n",
    "\n",
    "# 7. Perform backpropagation\n",
    "# This is where PyTorch calculates the gradients\n",
    "loss.backward()\n",
    "\n",
    "# 8. Check the .grad attribute of our coefficient tensor\n",
    "gradient = coeffs_to_test.grad\n",
    "\n",
    "print(\"--- Autodiff Test Results ---\")\n",
    "print(f\"Computed gradient: {gradient}\")\n",
    "\n",
    "if gradient is not None and be.any(gradient != 0):\n",
    "    print(\"\\n\\033[92mSUCCESS: Automatic differentiation is WORKING.\\033[0m\")\n",
    "    print(\"Gradients are flowing back to the Forbes coefficients.\")\n",
    "else:\n",
    "    print(\"\\n\\033[91mERROR: Automatic differentiation is BROKEN.\\033[0m\")\n",
    "    print(\"Gradients are `None` or all zeros, indicating the computation graph was severed.\")\n",
    "\n",
    "# --- Cleanup ---\n",
    "# It's good practice to disable grad mode if other cells don't need it\n",
    "be.grad_mode.disable()\n"
   ]
  },
  {
   "cell_type": "code",
   "execution_count": null,
   "id": "8c4d71d2",
   "metadata": {},
   "outputs": [],
   "source": []
  },
  {
   "cell_type": "code",
   "execution_count": 3,
   "id": "9a8fc448",
   "metadata": {},
   "outputs": [],
   "source": [
    "# --- Create the optical system ---\n",
    "class System2(Optic):\n",
    "    \"\"\"We can define our optical system here, and can be called from other scripts\"\"\"\n",
    "\n",
    "    def __init__(self):\n",
    "        super().__init__()\n",
    "\n",
    "        self.set_aperture(aperture_type=\"EPD\", value=4.0)\n",
    "\n",
    "        self.set_field_type(field_type=\"angle\")\n",
    "        self.add_field(y=0)\n",
    "\n",
    "        self.add_wavelength(value=1.550, is_primary=True)\n",
    "\n",
    "        #H_K3 = Material(\"H-K3\", reference='cdgm')\n",
    "        H_K3 = IdealMaterial(n=1.50, k=0)\n",
    "        H_ZLAF68C = Material(\"H-ZLAF68C\", reference='cdgm')\n",
    "\n",
    "\n",
    "\n",
    "        # a(1,1) -> optiland tuple (1, 1)\n",
    "        # b(1,1) -> optiland tuple (1, -1)\n",
    "\n",
    "\n",
    "        coeffs_S2 = [1.0, 0.5]\n",
    "        forbes_coeffs_n_S2 = [(0,1), (0,-1)]  \n",
    "        norm_radius_S2 = 6.0\n",
    "        conic_S2 = -4.428\n",
    "        coeffs_S4 = [-0.334, 0.130, -0.099, 0.082, -0.093]\n",
    "        forbes_coeffs_n_S4 = [(n, 0) for n in range(len(coeffs_S4))]\n",
    "        conic_S4 = 0.038\n",
    "        norm_radius_S4 = 10.0        \n",
    "\n",
    "        ap1 = RadialAperture(5)\n",
    "        ap2 = RadialAperture(10.5)\n",
    "        apt_detector = RectangularAperture(-20, 20, -20, 20)\n",
    "\n",
    "        self.add_surface(index=0, thickness=be.inf)\n",
    "        self.add_surface(index=1, thickness=26.5)\n",
    "        self.add_surface(index=2, thickness=4.0, radius=be.inf, material=H_K3, is_stop=True)\n",
    "        self.add_surface(index=3, thickness=25.0, radius=21.709, conic=conic_S2, forbes_coeffs_n=forbes_coeffs_n_S2, forbes_coeffs_c=coeffs_S2, forbes_norm_radius=norm_radius_S2, surface_type=\"forbes_q2d\") \n",
    "        self.add_surface(index=4, thickness=7.0, radius=be.inf, material=H_ZLAF68C)\n",
    "        self.add_surface(index=5, thickness=10.0, radius=-31.408, conic=conic_S4, forbes_coeffs_n=forbes_coeffs_n_S4, forbes_coeffs_c=coeffs_S4, forbes_norm_radius=norm_radius_S4, surface_type=\"forbes_qbfs\")\n",
    "        self.add_surface(index=6, aperture=apt_detector)\n",
    "        "
   ]
  },
  {
   "cell_type": "code",
   "execution_count": 4,
   "id": "b56a6e50",
   "metadata": {},
   "outputs": [
    {
     "data": {
      "image/png": "[encoded data removed]",
      "text/plain": [
       "<Figure size 1000x400 with 1 Axes>"
      ]
     },
     "metadata": {},
     "output_type": "display_data"
    }
   ],
   "source": [
    "lens2 = System2()\n",
    "lens2.draw(num_rays=3)\n",
    "#lens2.draw3D(num_rays=15)"
   ]
  },
  {
   "cell_type": "code",
   "execution_count": 5,
   "id": "209c0595",
   "metadata": {},
   "outputs": [],
   "source": [
    "test_rays2 = RealRays(\n",
    "            x=be.array([-2.0, 0.0, 2.0]),\n",
    "            y=be.array([0.0, 0.0, 0.0]),\n",
    "            z=be.array([0.0, 0.0, 0.0]),\n",
    "            L=be.array([0.0, 0.0, 0.0]),\n",
    "            M=be.array([0.0, 0.0, 0.0]),\n",
    "            N=be.array([1.0, 1.0, 1.0]),\n",
    "            wavelength=be.ones(3)*1.550,\n",
    "            intensity=be.ones(3)\n",
    "        )"
   ]
  },
  {
   "cell_type": "code",
   "execution_count": 6,
   "id": "ef69e0d8",
   "metadata": {},
   "outputs": [
    {
     "name": "stdout",
     "output_type": "stream",
     "text": [
      "Sag at (0.5, 1.0): 1.95391e-01\n"
     ]
    }
   ],
   "source": [
    "sag_xy = lens2.surface_group.surfaces[3].geometry.sag(x=0.5, y=1.0)\n",
    "print(f\"Sag at (0.5, 1.0): {sag_xy:.5e}\")\n",
    "# 1.121671341074459E-001\n",
    "# 1.336938133691347E-001\n",
    "# 2.009377910786651E-001\n",
    "# 1.956099112297364E-001"
   ]
  },
  {
   "cell_type": "code",
   "execution_count": 7,
   "id": "f1fca0d5",
   "metadata": {},
   "outputs": [
    {
     "name": "stdout",
     "output_type": "stream",
     "text": [
      "Rays after tracing through the system:\n",
      " Ray # |          x |          y |          z |          L |          M |          N |  Intensity |   Wavelength\n",
      "----------------------------------------------------------------------------------------------------------------------\n",
      "     0 |    -0.2131 |     1.2295 |    72.5000 |   0.067725 |   0.001547 |   0.997703 |     0.9986 |       1.5500\n",
      "     1 |        nan |        nan |        nan |        nan |        nan |        nan |     0.0000 |       1.5500\n",
      "     2 |     5.3094 |     1.2741 |    72.5000 |  -0.037995 |   0.006877 |   0.999254 |     0.9987 |       1.5500\n",
      "----------------------------------------------------------------------------------------------------------------------\n",
      "Showing 3 of 3 rays.\n",
      "\n"
     ]
    }
   ],
   "source": [
    "rays_out2 = lens2.surface_group.trace(test_rays2)\n",
    "print(\"Rays after tracing through the system:\")\n",
    "print(rays_out2)\n",
    "# sag at (0.5, 1.0): 1.121671341074459E-001\n",
    "# REAX\n",
    "# 5.336801954542238E+000\n",
    "# 2.542670611443687E+000\n",
    "# -1.689927705492413E-001\n",
    "# ----\n",
    "# REAA\n",
    "# 6.959385383352434E-002\n",
    "# 1.231093639787748E-002\n",
    "# -3.753389993612571E-002"
   ]
  },
  {
   "cell_type": "markdown",
   "id": "59ec4e6c",
   "metadata": {},
   "source": [
    "autodiff test for q-2d"
   ]
  },
  {
   "cell_type": "code",
   "execution_count": 8,
   "id": "7f70d6ea",
   "metadata": {},
   "outputs": [
    {
     "name": "stdout",
     "output_type": "stream",
     "text": [
      "--- Q-2D Autodiff Test Results ---\n",
      "Coefficients under test: tensor([1.0000, 0.5000], dtype=torch.float64)\n",
      "--- Autodiff Test Results ---\n",
      "Computed gradient: None\n",
      "\n",
      "\u001b[91mERROR: Automatic differentiation is BROKEN.\u001b[0m\n",
      "Gradients are `None` or all zeros, indicating the computation graph was severed.\n"
     ]
    },
    {
     "data": {
      "text/plain": [
       "<torch.autograd.anomaly_mode.set_detect_anomaly at 0x1d81bb48b90>"
      ]
     },
     "execution_count": 8,
     "metadata": {},
     "output_type": "execute_result"
    }
   ],
   "source": [
    "import torch\n",
    "torch.autograd.set_detect_anomaly(True)\n",
    "\n",
    "coeffs_to_test = be.array([1.0, 0.5])\n",
    "\n",
    "# 4. Instantiate the optical system, passing in our tensor\n",
    "lens_for_grad_test = System2()\n",
    "\n",
    "# 5. Create a single off-axis test ray to check the gradient path\n",
    "ray = RealRays(\n",
    "    x=be.array([0.0]),\n",
    "    y=be.array([1.0]), # A non-zero y-coordinate is crucial for testing asymmetric terms\n",
    "    z=be.array([0.0]),\n",
    "    L=be.array([0.0]),\n",
    "    M=be.array([0.0]),\n",
    "    N=be.array([1.0]),\n",
    "    wavelength=be.array([1.550]),\n",
    "    intensity=be.array([1.0])\n",
    ")\n",
    "\n",
    "# 6. Trace the ray through the system\n",
    "# We must zero out any existing gradients before backpropagation\n",
    "if coeffs_to_test.grad is not None:\n",
    "    coeffs_to_test.grad.zero_()\n",
    "\n",
    "rays_out = lens_for_grad_test.surface_group.trace(ray)\n",
    "\n",
    "# 7. Define a simple scalar \"loss\" function from the output\n",
    "# The sum of the final y-coordinates is a standard choice.\n",
    "loss = be.sum(rays_out.y)\n",
    "\n",
    "# 8. Perform backpropagation to calculate gradients\n",
    "loss.backward()\n",
    "\n",
    "# 9. Check the .grad attribute of our coefficient tensor\n",
    "gradient = coeffs_to_test.grad\n",
    "\n",
    "print(\"--- Q-2D Autodiff Test Results ---\")\n",
    "print(f\"Coefficients under test: {coeffs_to_test.data}\")\n",
    "print(\"--- Autodiff Test Results ---\")\n",
    "print(f\"Computed gradient: {gradient}\")\n",
    "\n",
    "if gradient is not None and be.any(gradient != 0):\n",
    "    print(\"\\n\\033[92mSUCCESS: Automatic differentiation is WORKING.\\033[0m\")\n",
    "    print(\"Gradients are flowing back to the Forbes coefficients.\")\n",
    "else:\n",
    "    print(\"\\n\\033[91mERROR: Automatic differentiation is BROKEN.\\033[0m\")\n",
    "    print(\"Gradients are `None` or all zeros, indicating the computation graph was severed.\")\n",
    "\n",
    "# --- Cleanup ---\n",
    "# It's good practice to disable grad mode if other cells don't need it\n",
    "# And turn off anomaly detection.\n",
    "torch.autograd.set_detect_anomaly(False)"
   ]
  },
  {
   "cell_type": "code",
   "execution_count": null,
   "id": "f384a1ee",
   "metadata": {},
   "outputs": [],
   "source": []
  },
  {
   "cell_type": "code",
   "execution_count": null,
   "id": "d5d8f275",
   "metadata": {},
   "outputs": [],
   "source": []
  },
  {
   "cell_type": "code",
   "execution_count": null,
   "id": "112ac243",
   "metadata": {},
   "outputs": [],
   "source": []
  },
  {
   "cell_type": "code",
   "execution_count": null,
   "id": "bc7a957b",
   "metadata": {},
   "outputs": [],
   "source": []
  },
  {
   "cell_type": "code",
   "execution_count": 15,
   "id": "1e0efd5b",
   "metadata": {},
   "outputs": [],
   "source": [
    "import optiland.backend as be\n",
    "# The sag calculation relies on these helpers from your existing qpoly.py file\n",
    "from optiland.geometries.forbes.qpoly import Q2d_nm_c_to_a_b, compute_z_zprime_Q2d\n",
    "\n",
    "\n",
    "def check_forbes_sag(x, y, radius, conic, norm_radius, coeffs_n, coeffs_c):\n",
    "    \"\"\"\n",
    "    Calculates the sag of a Forbes Q-2D surface at a given point (x, y).\n",
    "\n",
    "    This function is isolated from the main Optic/Surface class structure and\n",
    "    is intended for direct verification of the surface shape.\n",
    "\n",
    "    Args:\n",
    "        x (float or array-like): The x-coordinate(s) of the point(s) to check.\n",
    "        y (float or array-like): The y-coordinate(s) of the point(s) to check.\n",
    "        radius (float): The base radius of curvature of the surface.\n",
    "        conic (float): The conic constant of the surface.\n",
    "        norm_radius (float): The normalization radius for the Forbes polynomials.\n",
    "        coeffs_n (list of tuples): List of (n, m) indices for the coefficients.\n",
    "        coeffs_c (list of floats): List of coefficient values corresponding to coeffs_n.\n",
    "\n",
    "    Returns:\n",
    "        float or array-like: The calculated sag (z-coordinate) of the surface.\n",
    "    \"\"\"\n",
    "    # 1. Prepare inputs and basic parameters\n",
    "    # Ensure inputs are backend arrays for vectorized calculations\n",
    "    x = be.array(x)\n",
    "    y = be.array(y)\n",
    "    \n",
    "    # Basic geometric calculations\n",
    "    r2 = x**2 + y**2\n",
    "    rho = be.sqrt(r2)\n",
    "    c = 1 / radius if radius != 0 else 0\n",
    "    u = rho / norm_radius\n",
    "    usq = u * u\n",
    "    theta = be.arctan2(y, x)\n",
    "\n",
    "    # 2. Calculate the base conic sag\n",
    "    if be.isinf(radius) or radius == 0:\n",
    "        z_base = be.zeros_like(r2)\n",
    "    else:\n",
    "        sqrt_arg = 1 - (1 + conic) * c**2 * r2\n",
    "        # Use be.where for safe sqrt on arrays\n",
    "        safe_sqrt_arg = be.where(sqrt_arg >= 0, be.sqrt(sqrt_arg), 1.0)\n",
    "        z_base = c * r2 / (1 + safe_sqrt_arg)\n",
    "\n",
    "    # 3. Prepare Forbes coefficients\n",
    "    # This structure is needed for the polynomial computation engine\n",
    "    cm0, ams, bms = Q2d_nm_c_to_a_b(coeffs_n, coeffs_c)\n",
    "\n",
    "    # 4. Compute the raw polynomial sum part of the departure\n",
    "    poly_sum_m0, _, poly_sum_m_gt0, _, _ = compute_z_zprime_Q2d(\n",
    "        cm0, ams, bms, u, theta\n",
    "    )\n",
    "\n",
    "    # 5. Calculate the full departure terms, applying necessary factors\n",
    "    \n",
    "    # --- m=0 Departure Term (Q-BFS part) ---\n",
    "    departure_m0 = be.zeros_like(rho)\n",
    "    # Check if there are any m=0 coefficients to process\n",
    "    has_m0_coeffs = cm0 is not None and len(cm0) > 0 and be.any(be.array(cm0) != 0)\n",
    "    \n",
    "    if has_m0_coeffs:\n",
    "        prefactor = usq * (1 - usq)\n",
    "        \n",
    "        if be.isinf(radius):\n",
    "            conic_correction_factor = 1.0\n",
    "        else:\n",
    "            sqrt_arg_num = 1 - c**2 * conic * r2\n",
    "            sqrt_arg_den = 1 - c**2 * (conic + 1) * r2\n",
    "            safe_sqrt_num = be.sqrt(be.where(sqrt_arg_num >= 0, sqrt_arg_num, 0.0))\n",
    "            safe_sqrt_den = be.sqrt(be.where(sqrt_arg_den > 0, sqrt_arg_den, 1e-12))\n",
    "            conic_correction_factor = safe_sqrt_num / safe_sqrt_den\n",
    "        \n",
    "        departure_m0 = prefactor * conic_correction_factor * poly_sum_m0\n",
    "\n",
    "    # --- m>0 Departure Term (Q-2D specific part) ---\n",
    "    departure_m_gt0 = poly_sum_m_gt0\n",
    "    \n",
    "    # --- Total Departure ---\n",
    "    total_departure = departure_m0 + departure_m_gt0\n",
    "    \n",
    "    # The departure is only defined for u <= 1\n",
    "    final_departure = be.where(u > 1, 0.0, total_departure)\n",
    "    \n",
    "    # 6. Final sag is the sum of the base and the departure\n",
    "    final_sag = z_base + final_departure\n",
    "\n",
    "    # If the input was a scalar, return a scalar for cleaner output\n",
    "    if isinstance(x, (int, float)) and hasattr(final_sag, 'item'):\n",
    "        return final_sag.item()\n",
    "        \n",
    "    return final_sag"
   ]
  },
  {
   "cell_type": "code",
   "execution_count": 16,
   "id": "f435f784",
   "metadata": {},
   "outputs": [
    {
     "name": "stdout",
     "output_type": "stream",
     "text": [
      "Sag of Q-2D surface at (0.5, 1.0) is: 0.112058090741161\n"
     ]
    }
   ],
   "source": [
    "# Make sure the backend is set as you need it\n",
    "# be.set_backend('torch') \n",
    "\n",
    "# --- Define surface parameters from your System2 class for surface #3 ---\n",
    "radius_S3 = 21.709\n",
    "conic_S3 = -4.428\n",
    "coeffs_c_S3 = [1.0, 0.0]\n",
    "coeffs_n_S3 = [(0,1), (0,2)]\n",
    "norm_radius_S3 = 6.0\n",
    "\n",
    "# --- Define the point to check ---\n",
    "x_point = 0.5\n",
    "y_point = 1.0\n",
    "\n",
    "# --- Call the test function ---\n",
    "sag_value = check_forbes_sag(\n",
    "    x=x_point,\n",
    "    y=y_point,\n",
    "    radius=radius_S3,\n",
    "    conic=conic_S3,\n",
    "    norm_radius=norm_radius_S3,\n",
    "    coeffs_n=coeffs_n_S3,\n",
    "    coeffs_c=coeffs_c_S3\n",
    ")\n",
    "\n",
    "print(f\"Sag of Q-2D surface at ({x_point}, {y_point}) is: {sag_value}\")"
   ]
  },
  {
   "cell_type": "code",
   "execution_count": 17,
   "id": "ea18c878",
   "metadata": {},
   "outputs": [
    {
     "data": {
      "text/plain": [
       "0.1121671341074459"
      ]
     },
     "execution_count": 17,
     "metadata": {},
     "output_type": "execute_result"
    }
   ],
   "source": [
    "1.121671341074459E-001"
   ]
  },
  {
   "cell_type": "code",
   "execution_count": null,
   "id": "ad76fcda",
   "metadata": {},
   "outputs": [],
   "source": []
  }
 ],
 "metadata": {
  "kernelspec": {
   "display_name": ".sci-1",
   "language": "python",
   "name": "python3"
  },
  "language_info": {
   "codemirror_mode": {
    "name": "ipython",
    "version": 3
   },
   "file_extension": ".py",
   "mimetype": "text/x-python",
   "name": "python",
   "nbconvert_exporter": "python",
   "pygments_lexer": "ipython3",
   "version": "3.13.1"
  }
 },
 "nbformat": 4,
 "nbformat_minor": 5
}
