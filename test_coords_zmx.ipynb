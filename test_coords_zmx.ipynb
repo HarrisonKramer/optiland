{
 "cells": [
  {
   "cell_type": "code",
   "execution_count": 3,
   "id": "d9bf189a",
   "metadata": {},
   "outputs": [],
   "source": [
    "from optiland.fileio import ZemaxFileReader\n",
    "from optiland.optic import Optic"
   ]
  },
  {
   "cell_type": "code",
   "execution_count": 5,
   "id": "a9d5acc2",
   "metadata": {},
   "outputs": [],
   "source": [
    "lens = ZemaxFileReader(\"tests/zemax_files/simple_fold_mirror_up.zmx\").generate_lens()"
   ]
  },
  {
   "cell_type": "code",
   "execution_count": 6,
   "id": "2e28f726",
   "metadata": {},
   "outputs": [
    {
     "name": "stderr",
     "output_type": "stream",
     "text": [
      "c:\\Users\\mambf\\OneDrive\\Desktop\\Workspace\\Projects\\_Optiland_dev\\_Optiland\\optiland\\optiland\\rays\\real_rays.py:135: RuntimeWarning: invalid value encountered in sqrt\n",
      "  root = be.sqrt(1 - u**2 * (1 - dot**2))\n",
      "c:\\Users\\mambf\\OneDrive\\Desktop\\Workspace\\Projects\\_Optiland_dev\\_Optiland\\optiland\\optiland\\visualization\\rays.py:148: RuntimeWarning: All-NaN slice encountered\n",
      "  r_extent_new[i] = be.nanmax(be.hypot(x, y))\n"
     ]
    },
    {
     "data": {
      "image/png": "[encoded data removed]",
      "text/plain": [
       "<Figure size 1000x400 with 1 Axes>"
      ]
     },
     "metadata": {},
     "output_type": "display_data"
    }
   ],
   "source": [
    "lens.draw()"
   ]
  },
  {
   "cell_type": "code",
   "execution_count": 7,
   "id": "32e1499e",
   "metadata": {},
   "outputs": [
    {
     "name": "stdout",
     "output_type": "stream",
     "text": [
      "╒════╤═══════════════╤═══════════╤══════════╤═════════════╤═══════════════╤═════════╤═════════════════╕\n",
      "│    │ Type          │ Comment   │   Radius │   Thickness │ Material      │   Conic │   Semi-aperture │\n",
      "╞════╪═══════════════╪═══════════╪══════════╪═════════════╪═══════════════╪═════════╪═════════════════╡\n",
      "│  0 │ Planar        │           │      inf │         inf │ Air           │       0 │              10 │\n",
      "│  1 │ Planar        │           │      inf │          10 │ Air           │       0 │              10 │\n",
      "│  2 │ Stop - Planar │           │      inf │          30 │ Air           │       0 │              10 │\n",
      "│  3 │ Planar        │           │      inf │           0 │ Air           │       0 │              10 │\n",
      "│  4 │ Planar        │           │      inf │           0 │ 1.5000, 40.00 │       0 │              10 │\n",
      "│  5 │ Planar        │           │      inf │           0 │ Air           │       0 │              10 │\n",
      "│  6 │ Planar        │           │      inf │         -50 │ Air           │       0 │              10 │\n",
      "│  7 │ Planar        │           │      inf │           0 │ Air           │       0 │              10 │\n",
      "│  8 │ Planar        │           │      inf │           0 │ 1.5000, 40.00 │       0 │              10 │\n",
      "│  9 │ Planar        │           │      inf │           0 │ Air           │       0 │              10 │\n",
      "│ 10 │ Planar        │           │      inf │          50 │ Air           │       0 │              10 │\n",
      "│ 11 │ Planar        │           │      inf │         nan │ Air           │       0 │              10 │\n",
      "╘════╧═══════════════╧═══════════╧══════════╧═════════════╧═══════════════╧═════════╧═════════════════╛\n"
     ]
    }
   ],
   "source": [
    "lens.info()"
   ]
  },
  {
   "cell_type": "code",
   "execution_count": null,
   "id": "f161c184",
   "metadata": {},
   "outputs": [],
   "source": []
  }
 ],
 "metadata": {
  "kernelspec": {
   "display_name": ".sci-1",
   "language": "python",
   "name": "python3"
  },
  "language_info": {
   "codemirror_mode": {
    "name": "ipython",
    "version": 3
   },
   "file_extension": ".py",
   "mimetype": "text/x-python",
   "name": "python",
   "nbconvert_exporter": "python",
   "pygments_lexer": "ipython3",
   "version": "3.13.1"
  }
 },
 "nbformat": 4,
 "nbformat_minor": 5
}
