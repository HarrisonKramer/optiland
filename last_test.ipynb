{
 "cells": [
  {
   "cell_type": "code",
   "execution_count": 1,
   "id": "2b709fd3",
   "metadata": {},
   "outputs": [],
   "source": [
    "import numpy as np\n",
    "import optiland.backend as be\n",
    "from optiland.samples.objectives import TripletTelescopeObjective"
   ]
  },
  {
   "cell_type": "code",
   "execution_count": 2,
   "id": "a4abe739",
   "metadata": {},
   "outputs": [],
   "source": [
    "optic = TripletTelescopeObjective()\n",
    "wavelength = optic.primary_wavelength"
   ]
  },
  {
   "cell_type": "code",
   "execution_count": 3,
   "id": "91159a83",
   "metadata": {},
   "outputs": [],
   "source": [
    "num_points = 10\n",
    "max_field = np.sqrt(2) / 2\n",
    "extent = np.linspace(-max_field, max_field, num_points)\n",
    "Hx_np, Hy_np = np.meshgrid(extent, extent)\n",
    "flat_Hx = Hx_np.flatten()\n",
    "flat_Hy = Hy_np.flatten()"
   ]
  },
  {
   "cell_type": "code",
   "execution_count": 4,
   "id": "89aec27f",
   "metadata": {},
   "outputs": [],
   "source": [
    "be.set_backend(\"numpy\")\n",
    "\n",
    "\n",
    "# Convert to backend arrays (NumPy backend, so numpy.array)\n",
    "Hx_be = be.array(flat_Hx)\n",
    "Hy_be = be.array(flat_Hy)\n",
    "\n",
    "optic.trace_generic(Hx=Hx_be, Hy=Hy_be, Px=0, Py=0, wavelength=wavelength)\n",
    "y_np = optic.surface_group.y[-1, :].copy()"
   ]
  },
  {
   "cell_type": "code",
   "execution_count": 5,
   "id": "d24f7191",
   "metadata": {},
   "outputs": [
    {
     "name": "stderr",
     "output_type": "stream",
     "text": [
      "c:\\Users\\mambf\\OneDrive\\Desktop\\Workspace\\Projects\\_Optiland_dev\\_Optiland\\optiland\\optiland\\backend\\torch_backend.py:122: UserWarning: Creating a tensor from a list of numpy.ndarrays is extremely slow. Please consider converting the list to a single numpy.ndarray with numpy.array() before converting to a tensor. (Triggered internally at C:\\actions-runner\\_work\\pytorch\\pytorch\\pytorch\\torch\\csrc\\utils\\tensor_new.cpp:257.)\n",
      "  return torch.tensor(\n"
     ]
    },
    {
     "ename": "TypeError",
     "evalue": "sqrt(): argument 'input' (position 1) must be Tensor, not numpy.ndarray",
     "output_type": "error",
     "traceback": [
      "\u001b[1;31m---------------------------------------------------------------------------\u001b[0m",
      "\u001b[1;31mTypeError\u001b[0m                                 Traceback (most recent call last)",
      "Cell \u001b[1;32mIn[5], line 7\u001b[0m\n\u001b[0;32m      5\u001b[0m Hx_be \u001b[38;5;241m=\u001b[39m be\u001b[38;5;241m.\u001b[39marray(flat_Hx)\n\u001b[0;32m      6\u001b[0m Hy_be \u001b[38;5;241m=\u001b[39m be\u001b[38;5;241m.\u001b[39marray(flat_Hy)\n\u001b[1;32m----> 7\u001b[0m \u001b[43moptic\u001b[49m\u001b[38;5;241;43m.\u001b[39;49m\u001b[43mtrace_generic\u001b[49m\u001b[43m(\u001b[49m\u001b[43mHx\u001b[49m\u001b[38;5;241;43m=\u001b[39;49m\u001b[43mHx_be\u001b[49m\u001b[43m,\u001b[49m\u001b[43mHy\u001b[49m\u001b[38;5;241;43m=\u001b[39;49m\u001b[43mHy_be\u001b[49m\u001b[43m,\u001b[49m\u001b[43mPx\u001b[49m\u001b[38;5;241;43m=\u001b[39;49m\u001b[38;5;241;43m0\u001b[39;49m\u001b[43m,\u001b[49m\u001b[43mPy\u001b[49m\u001b[38;5;241;43m=\u001b[39;49m\u001b[38;5;241;43m0\u001b[39;49m\u001b[43m,\u001b[49m\u001b[43mwavelength\u001b[49m\u001b[38;5;241;43m=\u001b[39;49m\u001b[43mwavelength\u001b[49m\u001b[43m)\u001b[49m\n\u001b[0;32m      8\u001b[0m y_torch \u001b[38;5;241m=\u001b[39m optic\u001b[38;5;241m.\u001b[39msurface_group\u001b[38;5;241m.\u001b[39my[\u001b[38;5;241m-\u001b[39m\u001b[38;5;241m1\u001b[39m, :]\u001b[38;5;241m.\u001b[39mdetach()\u001b[38;5;241m.\u001b[39mcpu()\u001b[38;5;241m.\u001b[39mnumpy()\n\u001b[0;32m     10\u001b[0m \u001b[38;5;66;03m# 4) compare\u001b[39;00m\n",
      "File \u001b[1;32mc:\\Users\\mambf\\OneDrive\\Desktop\\Workspace\\Projects\\_Optiland_dev\\_Optiland\\optiland\\optiland\\optic\\optic.py:435\u001b[0m, in \u001b[0;36mOptic.trace_generic\u001b[1;34m(self, Hx, Hy, Px, Py, wavelength)\u001b[0m\n\u001b[0;32m    424\u001b[0m \u001b[38;5;28;01mdef\u001b[39;00m\u001b[38;5;250m \u001b[39m\u001b[38;5;21mtrace_generic\u001b[39m(\u001b[38;5;28mself\u001b[39m, Hx, Hy, Px, Py, wavelength):\n\u001b[0;32m    425\u001b[0m \u001b[38;5;250m    \u001b[39m\u001b[38;5;124;03m\"\"\"Trace generic rays through the optical system.\u001b[39;00m\n\u001b[0;32m    426\u001b[0m \n\u001b[0;32m    427\u001b[0m \u001b[38;5;124;03m    Args:\u001b[39;00m\n\u001b[1;32m   (...)\u001b[0m\n\u001b[0;32m    433\u001b[0m \n\u001b[0;32m    434\u001b[0m \u001b[38;5;124;03m    \"\"\"\u001b[39;00m\n\u001b[1;32m--> 435\u001b[0m     \u001b[38;5;28;01mreturn\u001b[39;00m \u001b[38;5;28;43mself\u001b[39;49m\u001b[38;5;241;43m.\u001b[39;49m\u001b[43mray_tracer\u001b[49m\u001b[38;5;241;43m.\u001b[39;49m\u001b[43mtrace_generic\u001b[49m\u001b[43m(\u001b[49m\u001b[43mHx\u001b[49m\u001b[43m,\u001b[49m\u001b[43m \u001b[49m\u001b[43mHy\u001b[49m\u001b[43m,\u001b[49m\u001b[43m \u001b[49m\u001b[43mPx\u001b[49m\u001b[43m,\u001b[49m\u001b[43m \u001b[49m\u001b[43mPy\u001b[49m\u001b[43m,\u001b[49m\u001b[43m \u001b[49m\u001b[43mwavelength\u001b[49m\u001b[43m)\u001b[49m\n",
      "File \u001b[1;32mc:\\Users\\mambf\\OneDrive\\Desktop\\Workspace\\Projects\\_Optiland_dev\\_Optiland\\optiland\\optiland\\raytrace\\real_ray_tracer.py:85\u001b[0m, in \u001b[0;36mRealRayTracer.trace_generic\u001b[1;34m(self, Hx, Hy, Px, Py, wavelength)\u001b[0m\n\u001b[0;32m     82\u001b[0m \u001b[38;5;66;03m# assure all variables are arrays of the same size\u001b[39;00m\n\u001b[0;32m     83\u001b[0m Hx, Hy, Px, Py \u001b[38;5;241m=\u001b[39m \u001b[38;5;28mself\u001b[39m\u001b[38;5;241m.\u001b[39m_validate_array_size(Hx, Hy, Px, Py)\n\u001b[1;32m---> 85\u001b[0m rays \u001b[38;5;241m=\u001b[39m \u001b[38;5;28;43mself\u001b[39;49m\u001b[38;5;241;43m.\u001b[39;49m\u001b[43mray_generator\u001b[49m\u001b[38;5;241;43m.\u001b[39;49m\u001b[43mgenerate_rays\u001b[49m\u001b[43m(\u001b[49m\u001b[43mHx\u001b[49m\u001b[43m,\u001b[49m\u001b[43m \u001b[49m\u001b[43mHy\u001b[49m\u001b[43m,\u001b[49m\u001b[43m \u001b[49m\u001b[43mPx\u001b[49m\u001b[43m,\u001b[49m\u001b[43m \u001b[49m\u001b[43mPy\u001b[49m\u001b[43m,\u001b[49m\u001b[43m \u001b[49m\u001b[43mwavelength\u001b[49m\u001b[43m)\u001b[49m\n\u001b[0;32m     86\u001b[0m rays \u001b[38;5;241m=\u001b[39m \u001b[38;5;28mself\u001b[39m\u001b[38;5;241m.\u001b[39moptic\u001b[38;5;241m.\u001b[39msurface_group\u001b[38;5;241m.\u001b[39mtrace(rays)\n\u001b[0;32m     88\u001b[0m \u001b[38;5;66;03m# update intensity\u001b[39;00m\n",
      "File \u001b[1;32mc:\\Users\\mambf\\OneDrive\\Desktop\\Workspace\\Projects\\_Optiland_dev\\_Optiland\\optiland\\optiland\\rays\\ray_generator.py:37\u001b[0m, in \u001b[0;36mRayGenerator.generate_rays\u001b[1;34m(self, Hx, Hy, Px, Py, wavelength)\u001b[0m\n\u001b[0;32m     35\u001b[0m vx \u001b[38;5;241m=\u001b[39m \u001b[38;5;241m1\u001b[39m \u001b[38;5;241m-\u001b[39m be\u001b[38;5;241m.\u001b[39marray(vxf)\n\u001b[0;32m     36\u001b[0m vy \u001b[38;5;241m=\u001b[39m \u001b[38;5;241m1\u001b[39m \u001b[38;5;241m-\u001b[39m be\u001b[38;5;241m.\u001b[39marray(vyf)\n\u001b[1;32m---> 37\u001b[0m x0, y0, z0 \u001b[38;5;241m=\u001b[39m \u001b[38;5;28;43mself\u001b[39;49m\u001b[38;5;241;43m.\u001b[39;49m\u001b[43m_get_ray_origins\u001b[49m\u001b[43m(\u001b[49m\u001b[43mHx\u001b[49m\u001b[43m,\u001b[49m\u001b[43m \u001b[49m\u001b[43mHy\u001b[49m\u001b[43m,\u001b[49m\u001b[43m \u001b[49m\u001b[43mPx\u001b[49m\u001b[43m,\u001b[49m\u001b[43m \u001b[49m\u001b[43mPy\u001b[49m\u001b[43m,\u001b[49m\u001b[43m \u001b[49m\u001b[43mvx\u001b[49m\u001b[43m,\u001b[49m\u001b[43m \u001b[49m\u001b[43mvy\u001b[49m\u001b[43m)\u001b[49m\n\u001b[0;32m     39\u001b[0m \u001b[38;5;28;01mif\u001b[39;00m \u001b[38;5;28mself\u001b[39m\u001b[38;5;241m.\u001b[39moptic\u001b[38;5;241m.\u001b[39mobj_space_telecentric:\n\u001b[0;32m     40\u001b[0m     \u001b[38;5;28;01mif\u001b[39;00m \u001b[38;5;28mself\u001b[39m\u001b[38;5;241m.\u001b[39moptic\u001b[38;5;241m.\u001b[39mfield_type \u001b[38;5;241m==\u001b[39m \u001b[38;5;124m\"\u001b[39m\u001b[38;5;124mangle\u001b[39m\u001b[38;5;124m\"\u001b[39m:\n",
      "File \u001b[1;32mc:\\Users\\mambf\\OneDrive\\Desktop\\Workspace\\Projects\\_Optiland_dev\\_Optiland\\optiland\\optiland\\rays\\ray_generator.py:117\u001b[0m, in \u001b[0;36mRayGenerator._get_ray_origins\u001b[1;34m(self, Hx, Hy, Px, Py, vx, vy)\u001b[0m\n\u001b[0;32m    113\u001b[0m     \u001b[38;5;28;01mraise\u001b[39;00m \u001b[38;5;167;01mValueError\u001b[39;00m(\n\u001b[0;32m    114\u001b[0m         \u001b[38;5;124m\"\u001b[39m\u001b[38;5;124mObject space cannot be telecentric for an object at infinity.\u001b[39m\u001b[38;5;124m\"\u001b[39m,\n\u001b[0;32m    115\u001b[0m     )\n\u001b[0;32m    116\u001b[0m EPL \u001b[38;5;241m=\u001b[39m \u001b[38;5;28mself\u001b[39m\u001b[38;5;241m.\u001b[39moptic\u001b[38;5;241m.\u001b[39mparaxial\u001b[38;5;241m.\u001b[39mEPL()\n\u001b[1;32m--> 117\u001b[0m EPD \u001b[38;5;241m=\u001b[39m \u001b[38;5;28;43mself\u001b[39;49m\u001b[38;5;241;43m.\u001b[39;49m\u001b[43moptic\u001b[49m\u001b[38;5;241;43m.\u001b[39;49m\u001b[43mparaxial\u001b[49m\u001b[38;5;241;43m.\u001b[39;49m\u001b[43mEPD\u001b[49m\u001b[43m(\u001b[49m\u001b[43m)\u001b[49m\n\u001b[0;32m    119\u001b[0m offset \u001b[38;5;241m=\u001b[39m \u001b[38;5;28mself\u001b[39m\u001b[38;5;241m.\u001b[39m_get_starting_z_offset()\n\u001b[0;32m    121\u001b[0m \u001b[38;5;66;03m# x, y, z positions of ray starting points\u001b[39;00m\n",
      "File \u001b[1;32mc:\\Users\\mambf\\OneDrive\\Desktop\\Workspace\\Projects\\_Optiland_dev\\_Optiland\\optiland\\optiland\\paraxial.py:169\u001b[0m, in \u001b[0;36mParaxial.EPD\u001b[1;34m(self)\u001b[0m\n\u001b[0;32m    166\u001b[0m     \u001b[38;5;28;01mreturn\u001b[39;00m ap_value\n\u001b[0;32m    168\u001b[0m \u001b[38;5;28;01mif\u001b[39;00m ap_type \u001b[38;5;241m==\u001b[39m \u001b[38;5;124m\"\u001b[39m\u001b[38;5;124mimageFNO\u001b[39m\u001b[38;5;124m\"\u001b[39m:\n\u001b[1;32m--> 169\u001b[0m     \u001b[38;5;28;01mreturn\u001b[39;00m \u001b[38;5;28;43mself\u001b[39;49m\u001b[38;5;241;43m.\u001b[39;49m\u001b[43mf2\u001b[49m\u001b[43m(\u001b[49m\u001b[43m)\u001b[49m \u001b[38;5;241m/\u001b[39m ap_value\n\u001b[0;32m    171\u001b[0m \u001b[38;5;28;01mif\u001b[39;00m ap_type \u001b[38;5;241m==\u001b[39m \u001b[38;5;124m\"\u001b[39m\u001b[38;5;124mobjectNA\u001b[39m\u001b[38;5;124m\"\u001b[39m:\n\u001b[0;32m    172\u001b[0m     obj_z \u001b[38;5;241m=\u001b[39m \u001b[38;5;28mself\u001b[39m\u001b[38;5;241m.\u001b[39moptic\u001b[38;5;241m.\u001b[39mobject_surface\u001b[38;5;241m.\u001b[39mgeometry\u001b[38;5;241m.\u001b[39mcs\u001b[38;5;241m.\u001b[39mz\n",
      "File \u001b[1;32mc:\\Users\\mambf\\OneDrive\\Desktop\\Workspace\\Projects\\_Optiland_dev\\_Optiland\\optiland\\optiland\\paraxial.py:62\u001b[0m, in \u001b[0;36mParaxial.f2\u001b[1;34m(self)\u001b[0m\n\u001b[0;32m     60\u001b[0m z_start \u001b[38;5;241m=\u001b[39m \u001b[38;5;28mself\u001b[39m\u001b[38;5;241m.\u001b[39msurfaces\u001b[38;5;241m.\u001b[39mpositions[\u001b[38;5;241m1\u001b[39m] \u001b[38;5;241m-\u001b[39m \u001b[38;5;241m1\u001b[39m\n\u001b[0;32m     61\u001b[0m wavelength \u001b[38;5;241m=\u001b[39m \u001b[38;5;28mself\u001b[39m\u001b[38;5;241m.\u001b[39moptic\u001b[38;5;241m.\u001b[39mprimary_wavelength\n\u001b[1;32m---> 62\u001b[0m y, u \u001b[38;5;241m=\u001b[39m \u001b[38;5;28;43mself\u001b[39;49m\u001b[38;5;241;43m.\u001b[39;49m\u001b[43m_trace_generic\u001b[49m\u001b[43m(\u001b[49m\u001b[38;5;241;43m1.0\u001b[39;49m\u001b[43m,\u001b[49m\u001b[43m \u001b[49m\u001b[38;5;241;43m0.0\u001b[39;49m\u001b[43m,\u001b[49m\u001b[43m \u001b[49m\u001b[43mz_start\u001b[49m\u001b[43m,\u001b[49m\u001b[43m \u001b[49m\u001b[43mwavelength\u001b[49m\u001b[43m)\u001b[49m\n\u001b[0;32m     63\u001b[0m f2 \u001b[38;5;241m=\u001b[39m \u001b[38;5;241m-\u001b[39my[\u001b[38;5;241m0\u001b[39m] \u001b[38;5;241m/\u001b[39m u[\u001b[38;5;241m-\u001b[39m\u001b[38;5;241m1\u001b[39m]\n\u001b[0;32m     64\u001b[0m \u001b[38;5;28;01mreturn\u001b[39;00m be\u001b[38;5;241m.\u001b[39mabs(f2[\u001b[38;5;241m0\u001b[39m])\n",
      "File \u001b[1;32mc:\\Users\\mambf\\OneDrive\\Desktop\\Workspace\\Projects\\_Optiland_dev\\_Optiland\\optiland\\optiland\\paraxial.py:333\u001b[0m, in \u001b[0;36mParaxial._trace_generic\u001b[1;34m(self, y, u, z, wavelength, reverse, skip)\u001b[0m\n\u001b[0;32m    315\u001b[0m \u001b[38;5;28;01mdef\u001b[39;00m\u001b[38;5;250m \u001b[39m\u001b[38;5;21m_trace_generic\u001b[39m(\u001b[38;5;28mself\u001b[39m, y, u, z, wavelength, reverse\u001b[38;5;241m=\u001b[39m\u001b[38;5;28;01mFalse\u001b[39;00m, skip\u001b[38;5;241m=\u001b[39m\u001b[38;5;241m0\u001b[39m):\n\u001b[0;32m    316\u001b[0m \u001b[38;5;250m    \u001b[39m\u001b[38;5;124;03m\"\"\"Trace generically-defined paraxial rays through the optical system.\u001b[39;00m\n\u001b[0;32m    317\u001b[0m \n\u001b[0;32m    318\u001b[0m \u001b[38;5;124;03m    Args:\u001b[39;00m\n\u001b[1;32m   (...)\u001b[0m\n\u001b[0;32m    331\u001b[0m \n\u001b[0;32m    332\u001b[0m \u001b[38;5;124;03m    \"\"\"\u001b[39;00m\n\u001b[1;32m--> 333\u001b[0m     \u001b[38;5;28;01mreturn\u001b[39;00m \u001b[38;5;28;43mself\u001b[39;49m\u001b[38;5;241;43m.\u001b[39;49m\u001b[43m_ray_tracer\u001b[49m\u001b[38;5;241;43m.\u001b[39;49m\u001b[43mtrace_generic\u001b[49m\u001b[43m(\u001b[49m\u001b[43my\u001b[49m\u001b[43m,\u001b[49m\u001b[43m \u001b[49m\u001b[43mu\u001b[49m\u001b[43m,\u001b[49m\u001b[43m \u001b[49m\u001b[43mz\u001b[49m\u001b[43m,\u001b[49m\u001b[43m \u001b[49m\u001b[43mwavelength\u001b[49m\u001b[43m,\u001b[49m\u001b[43m \u001b[49m\u001b[43mreverse\u001b[49m\u001b[43m,\u001b[49m\u001b[43m \u001b[49m\u001b[43mskip\u001b[49m\u001b[43m)\u001b[49m\n",
      "File \u001b[1;32mc:\\Users\\mambf\\OneDrive\\Desktop\\Workspace\\Projects\\_Optiland_dev\\_Optiland\\optiland\\optiland\\raytrace\\paraxial_ray_tracer.py:68\u001b[0m, in \u001b[0;36mParaxialRayTracer.trace_generic\u001b[1;34m(self, y, u, z, wavelength, reverse, skip)\u001b[0m\n\u001b[0;32m     65\u001b[0m z \u001b[38;5;241m=\u001b[39m \u001b[38;5;28mself\u001b[39m\u001b[38;5;241m.\u001b[39m_process_input(z)\n\u001b[0;32m     67\u001b[0m R \u001b[38;5;241m=\u001b[39m \u001b[38;5;28mself\u001b[39m\u001b[38;5;241m.\u001b[39moptic\u001b[38;5;241m.\u001b[39msurface_group\u001b[38;5;241m.\u001b[39mradii\n\u001b[1;32m---> 68\u001b[0m n \u001b[38;5;241m=\u001b[39m \u001b[38;5;28;43mself\u001b[39;49m\u001b[38;5;241;43m.\u001b[39;49m\u001b[43moptic\u001b[49m\u001b[38;5;241;43m.\u001b[39;49m\u001b[43mn\u001b[49m\u001b[43m(\u001b[49m\u001b[43mwavelength\u001b[49m\u001b[43m)\u001b[49m\n\u001b[0;32m     69\u001b[0m pos \u001b[38;5;241m=\u001b[39m be\u001b[38;5;241m.\u001b[39mravel(\u001b[38;5;28mself\u001b[39m\u001b[38;5;241m.\u001b[39moptic\u001b[38;5;241m.\u001b[39msurface_group\u001b[38;5;241m.\u001b[39mpositions)\n\u001b[0;32m     70\u001b[0m surfs \u001b[38;5;241m=\u001b[39m \u001b[38;5;28mself\u001b[39m\u001b[38;5;241m.\u001b[39moptic\u001b[38;5;241m.\u001b[39msurface_group\u001b[38;5;241m.\u001b[39msurfaces\n",
      "File \u001b[1;32mc:\\Users\\mambf\\OneDrive\\Desktop\\Workspace\\Projects\\_Optiland_dev\\_Optiland\\optiland\\optiland\\optic\\optic.py:404\u001b[0m, in \u001b[0;36mOptic.n\u001b[1;34m(self, wavelength)\u001b[0m\n\u001b[0;32m    402\u001b[0m \u001b[38;5;28;01mif\u001b[39;00m wavelength \u001b[38;5;241m==\u001b[39m \u001b[38;5;124m\"\u001b[39m\u001b[38;5;124mprimary\u001b[39m\u001b[38;5;124m\"\u001b[39m:\n\u001b[0;32m    403\u001b[0m     wavelength \u001b[38;5;241m=\u001b[39m \u001b[38;5;28mself\u001b[39m\u001b[38;5;241m.\u001b[39mprimary_wavelength\n\u001b[1;32m--> 404\u001b[0m \u001b[38;5;28;01mreturn\u001b[39;00m \u001b[38;5;28;43mself\u001b[39;49m\u001b[38;5;241;43m.\u001b[39;49m\u001b[43msurface_group\u001b[49m\u001b[38;5;241;43m.\u001b[39;49m\u001b[43mn\u001b[49m\u001b[43m(\u001b[49m\u001b[43mwavelength\u001b[49m\u001b[43m)\u001b[49m\n",
      "File \u001b[1;32mc:\\Users\\mambf\\OneDrive\\Desktop\\Workspace\\Projects\\_Optiland_dev\\_Optiland\\optiland\\optiland\\surfaces\\surface_group.py:178\u001b[0m, in \u001b[0;36mSurfaceGroup.n\u001b[1;34m(self, wavelength)\u001b[0m\n\u001b[0;32m    176\u001b[0m n \u001b[38;5;241m=\u001b[39m []\n\u001b[0;32m    177\u001b[0m \u001b[38;5;28;01mfor\u001b[39;00m surface \u001b[38;5;129;01min\u001b[39;00m \u001b[38;5;28mself\u001b[39m\u001b[38;5;241m.\u001b[39msurfaces:\n\u001b[1;32m--> 178\u001b[0m     n\u001b[38;5;241m.\u001b[39mappend(\u001b[43msurface\u001b[49m\u001b[38;5;241;43m.\u001b[39;49m\u001b[43mmaterial_post\u001b[49m\u001b[38;5;241;43m.\u001b[39;49m\u001b[43mn\u001b[49m\u001b[43m(\u001b[49m\u001b[43mwavelength\u001b[49m\u001b[43m)\u001b[49m)\n\u001b[0;32m    179\u001b[0m \u001b[38;5;28;01mreturn\u001b[39;00m be\u001b[38;5;241m.\u001b[39mravel(be\u001b[38;5;241m.\u001b[39marray(n))\n",
      "File \u001b[1;32mc:\\Users\\mambf\\OneDrive\\Desktop\\Workspace\\Projects\\_Optiland_dev\\_Optiland\\optiland\\optiland\\materials\\material_file.py:85\u001b[0m, in \u001b[0;36mMaterialFile.n\u001b[1;34m(self, wavelength)\u001b[0m\n\u001b[0;32m     75\u001b[0m \u001b[38;5;250m\u001b[39m\u001b[38;5;124;03m\"\"\"Calculates the refractive index of the material at given wavelengths.\u001b[39;00m\n\u001b[0;32m     76\u001b[0m \n\u001b[0;32m     77\u001b[0m \u001b[38;5;124;03mArgs:\u001b[39;00m\n\u001b[1;32m   (...)\u001b[0m\n\u001b[0;32m     82\u001b[0m \n\u001b[0;32m     83\u001b[0m \u001b[38;5;124;03m\"\"\"\u001b[39;00m\n\u001b[0;32m     84\u001b[0m func \u001b[38;5;241m=\u001b[39m \u001b[38;5;28mself\u001b[39m\u001b[38;5;241m.\u001b[39mformula_map[\u001b[38;5;28mself\u001b[39m\u001b[38;5;241m.\u001b[39m_n_formula]\n\u001b[1;32m---> 85\u001b[0m \u001b[38;5;28;01mreturn\u001b[39;00m \u001b[43mfunc\u001b[49m\u001b[43m(\u001b[49m\u001b[43mwavelength\u001b[49m\u001b[43m)\u001b[49m\n",
      "File \u001b[1;32mc:\\Users\\mambf\\OneDrive\\Desktop\\Workspace\\Projects\\_Optiland_dev\\_Optiland\\optiland\\optiland\\materials\\material_file.py:156\u001b[0m, in \u001b[0;36mMaterialFile._formula_2\u001b[1;34m(self, w)\u001b[0m\n\u001b[0;32m    154\u001b[0m \u001b[38;5;28;01mexcept\u001b[39;00m \u001b[38;5;167;01mIndexError\u001b[39;00m \u001b[38;5;28;01mas\u001b[39;00m err:\n\u001b[0;32m    155\u001b[0m     \u001b[38;5;28;01mraise\u001b[39;00m \u001b[38;5;167;01mValueError\u001b[39;00m(\u001b[38;5;124m\"\u001b[39m\u001b[38;5;124mInvalid coefficients for dispersion formula 2.\u001b[39m\u001b[38;5;124m\"\u001b[39m) \u001b[38;5;28;01mfrom\u001b[39;00m\u001b[38;5;250m \u001b[39m\u001b[38;5;21;01merr\u001b[39;00m\n\u001b[1;32m--> 156\u001b[0m \u001b[38;5;28;01mreturn\u001b[39;00m \u001b[43mbe\u001b[49m\u001b[38;5;241;43m.\u001b[39;49m\u001b[43msqrt\u001b[49m\u001b[43m(\u001b[49m\u001b[43mn\u001b[49m\u001b[43m)\u001b[49m\n",
      "\u001b[1;31mTypeError\u001b[0m: sqrt(): argument 'input' (position 1) must be Tensor, not numpy.ndarray"
     ]
    }
   ],
   "source": [
    "# 3) now run with the Torch backend\n",
    "be.set_backend(\"torch\")\n",
    "be.grad_mode.disable()\n",
    "# lift your same numpy arrays into Tensors\n",
    "Hx_be = be.array(flat_Hx)\n",
    "Hy_be = be.array(flat_Hy)\n",
    "optic.trace_generic(Hx=Hx_be,Hy=Hy_be,Px=0,Py=0,wavelength=wavelength)\n",
    "y_torch = optic.surface_group.y[-1, :].detach().cpu().numpy()\n",
    "\n",
    "# 4) compare\n",
    "print(\"max abs difference:\", np.max(np.abs(y_np - y_torch)))"
   ]
  },
  {
   "cell_type": "code",
   "execution_count": null,
   "id": "b7445e22",
   "metadata": {},
   "outputs": [],
   "source": []
  }
 ],
 "metadata": {
  "kernelspec": {
   "display_name": ".sci-1",
   "language": "python",
   "name": "python3"
  },
  "language_info": {
   "codemirror_mode": {
    "name": "ipython",
    "version": 3
   },
   "file_extension": ".py",
   "mimetype": "text/x-python",
   "name": "python",
   "nbconvert_exporter": "python",
   "pygments_lexer": "ipython3",
   "version": "3.13.1"
  }
 },
 "nbformat": 4,
 "nbformat_minor": 5
}
