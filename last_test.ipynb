{
 "cells": [
  {
   "cell_type": "code",
   "execution_count": 1,
   "id": "2b709fd3",
   "metadata": {},
   "outputs": [],
   "source": [
    "import numpy as np\n",
    "import optiland.backend as be\n",
    "from optiland.samples.objectives import TripletTelescopeObjective"
   ]
  },
  {
   "cell_type": "code",
   "execution_count": 2,
   "id": "a4abe739",
   "metadata": {},
   "outputs": [],
   "source": [
    "optic = TripletTelescopeObjective()\n",
    "wavelength = optic.primary_wavelength"
   ]
  },
  {
   "cell_type": "code",
   "execution_count": 3,
   "id": "91159a83",
   "metadata": {},
   "outputs": [],
   "source": [
    "num_points = 10\n",
    "max_field = np.sqrt(2) / 2\n",
    "extent = np.linspace(-max_field, max_field, num_points)\n",
    "Hx_np, Hy_np = np.meshgrid(extent, extent)\n",
    "flat_Hx = Hx_np.flatten()\n",
    "flat_Hy = Hy_np.flatten()"
   ]
  },
  {
   "cell_type": "code",
   "execution_count": 4,
   "id": "89aec27f",
   "metadata": {},
   "outputs": [],
   "source": [
    "be.set_backend(\"numpy\")\n",
    "\n",
    "\n",
    "# Convert to backend arrays (NumPy backend, so numpy.array)\n",
    "Hx_be = be.array(flat_Hx)\n",
    "Hy_be = be.array(flat_Hy)\n",
    "\n",
    "optic.trace_generic(Hx=Hx_be, Hy=Hy_be, Px=0, Py=0, wavelength=wavelength)\n",
    "y_np = optic.surface_group.y[-1, :].copy()"
   ]
  },
  {
   "cell_type": "code",
   "execution_count": 5,
   "id": "d24f7191",
   "metadata": {},
   "outputs": [
    {
     "name": "stderr",
     "output_type": "stream",
     "text": [
      "c:\\Users\\mambf\\OneDrive\\Desktop\\Workspace\\Projects\\_Optiland_dev\\_Optiland\\optiland\\optiland\\backend\\torch_backend.py:122: UserWarning: Creating a tensor from a list of numpy.ndarrays is extremely slow. Please consider converting the list to a single numpy.ndarray with numpy.array() before converting to a tensor. (Triggered internally at C:\\actions-runner\\_work\\pytorch\\pytorch\\pytorch\\torch\\csrc\\utils\\tensor_new.cpp:257.)\n",
      "  return torch.tensor(\n"
     ]
    },
    {
     "ename": "TypeError",
     "evalue": "unsupported operand type(s) for *: 'numpy.ndarray' and 'Tensor'",
     "output_type": "error",
     "traceback": [
      "\u001b[1;31m---------------------------------------------------------------------------\u001b[0m",
      "\u001b[1;31mTypeError\u001b[0m                                 Traceback (most recent call last)",
      "Cell \u001b[1;32mIn[5], line 7\u001b[0m\n\u001b[0;32m      5\u001b[0m Hx_be \u001b[38;5;241m=\u001b[39m be\u001b[38;5;241m.\u001b[39marray(flat_Hx)\n\u001b[0;32m      6\u001b[0m Hy_be \u001b[38;5;241m=\u001b[39m be\u001b[38;5;241m.\u001b[39marray(flat_Hy)\n\u001b[1;32m----> 7\u001b[0m \u001b[43moptic\u001b[49m\u001b[38;5;241;43m.\u001b[39;49m\u001b[43mtrace_generic\u001b[49m\u001b[43m(\u001b[49m\u001b[43mHx\u001b[49m\u001b[38;5;241;43m=\u001b[39;49m\u001b[43mHx_be\u001b[49m\u001b[43m,\u001b[49m\u001b[43mHy\u001b[49m\u001b[38;5;241;43m=\u001b[39;49m\u001b[43mHy_be\u001b[49m\u001b[43m,\u001b[49m\u001b[43mPx\u001b[49m\u001b[38;5;241;43m=\u001b[39;49m\u001b[38;5;241;43m0\u001b[39;49m\u001b[43m,\u001b[49m\u001b[43mPy\u001b[49m\u001b[38;5;241;43m=\u001b[39;49m\u001b[38;5;241;43m0\u001b[39;49m\u001b[43m,\u001b[49m\u001b[43mwavelength\u001b[49m\u001b[38;5;241;43m=\u001b[39;49m\u001b[43mwavelength\u001b[49m\u001b[43m)\u001b[49m\n\u001b[0;32m      8\u001b[0m y_torch \u001b[38;5;241m=\u001b[39m optic\u001b[38;5;241m.\u001b[39msurface_group\u001b[38;5;241m.\u001b[39my[\u001b[38;5;241m-\u001b[39m\u001b[38;5;241m1\u001b[39m, :]\u001b[38;5;241m.\u001b[39mdetach()\u001b[38;5;241m.\u001b[39mcpu()\u001b[38;5;241m.\u001b[39mnumpy()\n\u001b[0;32m     10\u001b[0m \u001b[38;5;66;03m# 4) compare\u001b[39;00m\n",
      "File \u001b[1;32mc:\\Users\\mambf\\OneDrive\\Desktop\\Workspace\\Projects\\_Optiland_dev\\_Optiland\\optiland\\optiland\\optic\\optic.py:435\u001b[0m, in \u001b[0;36mOptic.trace_generic\u001b[1;34m(self, Hx, Hy, Px, Py, wavelength)\u001b[0m\n\u001b[0;32m    424\u001b[0m \u001b[38;5;28;01mdef\u001b[39;00m\u001b[38;5;250m \u001b[39m\u001b[38;5;21mtrace_generic\u001b[39m(\u001b[38;5;28mself\u001b[39m, Hx, Hy, Px, Py, wavelength):\n\u001b[0;32m    425\u001b[0m \u001b[38;5;250m    \u001b[39m\u001b[38;5;124;03m\"\"\"Trace generic rays through the optical system.\u001b[39;00m\n\u001b[0;32m    426\u001b[0m \n\u001b[0;32m    427\u001b[0m \u001b[38;5;124;03m    Args:\u001b[39;00m\n\u001b[1;32m   (...)\u001b[0m\n\u001b[0;32m    433\u001b[0m \n\u001b[0;32m    434\u001b[0m \u001b[38;5;124;03m    \"\"\"\u001b[39;00m\n\u001b[1;32m--> 435\u001b[0m     \u001b[38;5;28;01mreturn\u001b[39;00m \u001b[38;5;28;43mself\u001b[39;49m\u001b[38;5;241;43m.\u001b[39;49m\u001b[43mray_tracer\u001b[49m\u001b[38;5;241;43m.\u001b[39;49m\u001b[43mtrace_generic\u001b[49m\u001b[43m(\u001b[49m\u001b[43mHx\u001b[49m\u001b[43m,\u001b[49m\u001b[43m \u001b[49m\u001b[43mHy\u001b[49m\u001b[43m,\u001b[49m\u001b[43m \u001b[49m\u001b[43mPx\u001b[49m\u001b[43m,\u001b[49m\u001b[43m \u001b[49m\u001b[43mPy\u001b[49m\u001b[43m,\u001b[49m\u001b[43m \u001b[49m\u001b[43mwavelength\u001b[49m\u001b[43m)\u001b[49m\n",
      "File \u001b[1;32mc:\\Users\\mambf\\OneDrive\\Desktop\\Workspace\\Projects\\_Optiland_dev\\_Optiland\\optiland\\optiland\\raytrace\\real_ray_tracer.py:86\u001b[0m, in \u001b[0;36mRealRayTracer.trace_generic\u001b[1;34m(self, Hx, Hy, Px, Py, wavelength)\u001b[0m\n\u001b[0;32m     83\u001b[0m Hx, Hy, Px, Py \u001b[38;5;241m=\u001b[39m \u001b[38;5;28mself\u001b[39m\u001b[38;5;241m.\u001b[39m_validate_array_size(Hx, Hy, Px, Py)\n\u001b[0;32m     85\u001b[0m rays \u001b[38;5;241m=\u001b[39m \u001b[38;5;28mself\u001b[39m\u001b[38;5;241m.\u001b[39mray_generator\u001b[38;5;241m.\u001b[39mgenerate_rays(Hx, Hy, Px, Py, wavelength)\n\u001b[1;32m---> 86\u001b[0m rays \u001b[38;5;241m=\u001b[39m \u001b[38;5;28;43mself\u001b[39;49m\u001b[38;5;241;43m.\u001b[39;49m\u001b[43moptic\u001b[49m\u001b[38;5;241;43m.\u001b[39;49m\u001b[43msurface_group\u001b[49m\u001b[38;5;241;43m.\u001b[39;49m\u001b[43mtrace\u001b[49m\u001b[43m(\u001b[49m\u001b[43mrays\u001b[49m\u001b[43m)\u001b[49m\n\u001b[0;32m     88\u001b[0m \u001b[38;5;66;03m# update intensity\u001b[39;00m\n\u001b[0;32m     89\u001b[0m \u001b[38;5;28mself\u001b[39m\u001b[38;5;241m.\u001b[39moptic\u001b[38;5;241m.\u001b[39msurface_group\u001b[38;5;241m.\u001b[39mintensity[\u001b[38;5;241m-\u001b[39m\u001b[38;5;241m1\u001b[39m, :] \u001b[38;5;241m=\u001b[39m rays\u001b[38;5;241m.\u001b[39mi\n",
      "File \u001b[1;32mc:\\Users\\mambf\\OneDrive\\Desktop\\Workspace\\Projects\\_Optiland_dev\\_Optiland\\optiland\\optiland\\surfaces\\surface_group.py:205\u001b[0m, in \u001b[0;36mSurfaceGroup.trace\u001b[1;34m(self, rays, skip)\u001b[0m\n\u001b[0;32m    203\u001b[0m \u001b[38;5;28mself\u001b[39m\u001b[38;5;241m.\u001b[39mreset()\n\u001b[0;32m    204\u001b[0m \u001b[38;5;28;01mfor\u001b[39;00m surface \u001b[38;5;129;01min\u001b[39;00m \u001b[38;5;28mself\u001b[39m\u001b[38;5;241m.\u001b[39msurfaces[skip:]:\n\u001b[1;32m--> 205\u001b[0m     \u001b[43msurface\u001b[49m\u001b[38;5;241;43m.\u001b[39;49m\u001b[43mtrace\u001b[49m\u001b[43m(\u001b[49m\u001b[43mrays\u001b[49m\u001b[43m)\u001b[49m\n\u001b[0;32m    206\u001b[0m \u001b[38;5;28;01mreturn\u001b[39;00m rays\n",
      "File \u001b[1;32mc:\\Users\\mambf\\OneDrive\\Desktop\\Workspace\\Projects\\_Optiland_dev\\_Optiland\\optiland\\optiland\\surfaces\\standard_surface.py:86\u001b[0m, in \u001b[0;36mSurface.trace\u001b[1;34m(self, rays)\u001b[0m\n\u001b[0;32m     84\u001b[0m     \u001b[38;5;28;01mreturn\u001b[39;00m \u001b[38;5;28mself\u001b[39m\u001b[38;5;241m.\u001b[39m_trace_paraxial(rays)\n\u001b[0;32m     85\u001b[0m \u001b[38;5;28;01mif\u001b[39;00m \u001b[38;5;28misinstance\u001b[39m(rays, RealRays):\n\u001b[1;32m---> 86\u001b[0m     \u001b[38;5;28;01mreturn\u001b[39;00m \u001b[38;5;28;43mself\u001b[39;49m\u001b[38;5;241;43m.\u001b[39;49m\u001b[43m_trace_real\u001b[49m\u001b[43m(\u001b[49m\u001b[43mrays\u001b[49m\u001b[43m)\u001b[49m\n",
      "File \u001b[1;32mc:\\Users\\mambf\\OneDrive\\Desktop\\Workspace\\Projects\\_Optiland_dev\\_Optiland\\optiland\\optiland\\surfaces\\standard_surface.py:233\u001b[0m, in \u001b[0;36mSurface._trace_real\u001b[1;34m(self, rays)\u001b[0m\n\u001b[0;32m    230\u001b[0m \u001b[38;5;28mself\u001b[39m\u001b[38;5;241m.\u001b[39mgeometry\u001b[38;5;241m.\u001b[39mlocalize(rays)\n\u001b[0;32m    232\u001b[0m \u001b[38;5;66;03m# find distance from rays to the surface\u001b[39;00m\n\u001b[1;32m--> 233\u001b[0m t \u001b[38;5;241m=\u001b[39m \u001b[38;5;28;43mself\u001b[39;49m\u001b[38;5;241;43m.\u001b[39;49m\u001b[43mgeometry\u001b[49m\u001b[38;5;241;43m.\u001b[39;49m\u001b[43mdistance\u001b[49m\u001b[43m(\u001b[49m\u001b[43mrays\u001b[49m\u001b[43m)\u001b[49m\n\u001b[0;32m    235\u001b[0m \u001b[38;5;66;03m# propagate the rays a distance t through material\u001b[39;00m\n\u001b[0;32m    236\u001b[0m rays\u001b[38;5;241m.\u001b[39mpropagate(t, \u001b[38;5;28mself\u001b[39m\u001b[38;5;241m.\u001b[39mmaterial_pre)\n",
      "File \u001b[1;32mc:\\Users\\mambf\\OneDrive\\Desktop\\Workspace\\Projects\\_Optiland_dev\\_Optiland\\optiland\\optiland\\geometries\\standard.py:79\u001b[0m, in \u001b[0;36mStandardGeometry.distance\u001b[1;34m(self, rays)\u001b[0m\n\u001b[0;32m     69\u001b[0m \u001b[38;5;28;01mdef\u001b[39;00m\u001b[38;5;250m \u001b[39m\u001b[38;5;21mdistance\u001b[39m(\u001b[38;5;28mself\u001b[39m, rays):\n\u001b[0;32m     70\u001b[0m \u001b[38;5;250m    \u001b[39m\u001b[38;5;124;03m\"\"\"Find the propagation distance to the geometry for the given rays.\u001b[39;00m\n\u001b[0;32m     71\u001b[0m \n\u001b[0;32m     72\u001b[0m \u001b[38;5;124;03m    Args:\u001b[39;00m\n\u001b[1;32m   (...)\u001b[0m\n\u001b[0;32m     77\u001b[0m \n\u001b[0;32m     78\u001b[0m \u001b[38;5;124;03m    \"\"\"\u001b[39;00m\n\u001b[1;32m---> 79\u001b[0m     a \u001b[38;5;241m=\u001b[39m \u001b[38;5;28;43mself\u001b[39;49m\u001b[38;5;241;43m.\u001b[39;49m\u001b[43mk\u001b[49m\u001b[43m \u001b[49m\u001b[38;5;241;43m*\u001b[39;49m\u001b[43m \u001b[49m\u001b[43mrays\u001b[49m\u001b[38;5;241;43m.\u001b[39;49m\u001b[43mN\u001b[49m\u001b[38;5;241;43m*\u001b[39;49m\u001b[38;5;241;43m*\u001b[39;49m\u001b[38;5;241;43m2\u001b[39;49m \u001b[38;5;241m+\u001b[39m rays\u001b[38;5;241m.\u001b[39mL\u001b[38;5;241m*\u001b[39m\u001b[38;5;241m*\u001b[39m\u001b[38;5;241m2\u001b[39m \u001b[38;5;241m+\u001b[39m rays\u001b[38;5;241m.\u001b[39mM\u001b[38;5;241m*\u001b[39m\u001b[38;5;241m*\u001b[39m\u001b[38;5;241m2\u001b[39m \u001b[38;5;241m+\u001b[39m rays\u001b[38;5;241m.\u001b[39mN\u001b[38;5;241m*\u001b[39m\u001b[38;5;241m*\u001b[39m\u001b[38;5;241m2\u001b[39m\n\u001b[0;32m     80\u001b[0m     b \u001b[38;5;241m=\u001b[39m (\n\u001b[0;32m     81\u001b[0m         \u001b[38;5;241m2\u001b[39m \u001b[38;5;241m*\u001b[39m \u001b[38;5;28mself\u001b[39m\u001b[38;5;241m.\u001b[39mk \u001b[38;5;241m*\u001b[39m rays\u001b[38;5;241m.\u001b[39mN \u001b[38;5;241m*\u001b[39m rays\u001b[38;5;241m.\u001b[39mz\n\u001b[0;32m     82\u001b[0m         \u001b[38;5;241m+\u001b[39m \u001b[38;5;241m2\u001b[39m \u001b[38;5;241m*\u001b[39m rays\u001b[38;5;241m.\u001b[39mL \u001b[38;5;241m*\u001b[39m rays\u001b[38;5;241m.\u001b[39mx\n\u001b[1;32m   (...)\u001b[0m\n\u001b[0;32m     85\u001b[0m         \u001b[38;5;241m+\u001b[39m \u001b[38;5;241m2\u001b[39m \u001b[38;5;241m*\u001b[39m rays\u001b[38;5;241m.\u001b[39mN \u001b[38;5;241m*\u001b[39m rays\u001b[38;5;241m.\u001b[39mz\n\u001b[0;32m     86\u001b[0m     )\n\u001b[0;32m     87\u001b[0m     c \u001b[38;5;241m=\u001b[39m (\n\u001b[0;32m     88\u001b[0m         \u001b[38;5;28mself\u001b[39m\u001b[38;5;241m.\u001b[39mk \u001b[38;5;241m*\u001b[39m rays\u001b[38;5;241m.\u001b[39mz\u001b[38;5;241m*\u001b[39m\u001b[38;5;241m*\u001b[39m\u001b[38;5;241m2\u001b[39m\n\u001b[0;32m     89\u001b[0m         \u001b[38;5;241m-\u001b[39m \u001b[38;5;241m2\u001b[39m \u001b[38;5;241m*\u001b[39m \u001b[38;5;28mself\u001b[39m\u001b[38;5;241m.\u001b[39mradius \u001b[38;5;241m*\u001b[39m rays\u001b[38;5;241m.\u001b[39mz\n\u001b[1;32m   (...)\u001b[0m\n\u001b[0;32m     92\u001b[0m         \u001b[38;5;241m+\u001b[39m rays\u001b[38;5;241m.\u001b[39mz\u001b[38;5;241m*\u001b[39m\u001b[38;5;241m*\u001b[39m\u001b[38;5;241m2\u001b[39m\n\u001b[0;32m     93\u001b[0m     )\n",
      "\u001b[1;31mTypeError\u001b[0m: unsupported operand type(s) for *: 'numpy.ndarray' and 'Tensor'"
     ]
    }
   ],
   "source": [
    "# 3) now run with the Torch backend\n",
    "be.set_backend(\"torch\")\n",
    "be.grad_mode.disable()\n",
    "# lift your same numpy arrays into Tensors\n",
    "Hx_be = be.array(flat_Hx)\n",
    "Hy_be = be.array(flat_Hy)\n",
    "optic.trace_generic(Hx=Hx_be,Hy=Hy_be,Px=0,Py=0,wavelength=wavelength)\n",
    "y_torch = optic.surface_group.y[-1, :].detach().cpu().numpy()\n",
    "\n",
    "# 4) compare\n",
    "print(\"max abs difference:\", np.max(np.abs(y_np - y_torch)))"
   ]
  },
  {
   "cell_type": "code",
   "execution_count": null,
   "id": "b7445e22",
   "metadata": {},
   "outputs": [],
   "source": []
  }
 ],
 "metadata": {
  "kernelspec": {
   "display_name": ".sci-1",
   "language": "python",
   "name": "python3"
  },
  "language_info": {
   "codemirror_mode": {
    "name": "ipython",
    "version": 3
   },
   "file_extension": ".py",
   "mimetype": "text/x-python",
   "name": "python",
   "nbconvert_exporter": "python",
   "pygments_lexer": "ipython3",
   "version": "3.13.1"
  }
 },
 "nbformat": 4,
 "nbformat_minor": 5
}
