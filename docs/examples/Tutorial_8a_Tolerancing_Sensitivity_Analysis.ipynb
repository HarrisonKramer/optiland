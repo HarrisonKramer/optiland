{
 "cells": [
  {
   "cell_type": "markdown",
   "metadata": {},
   "source": [
    "# Tutorial 8a - Tolerancing, Sensitivity Analyses"
   ]
  },
  {
   "cell_type": "markdown",
   "metadata": {
    "tags": [
     "nbsphinx-toctree"
    ]
   },
   "source": [
    "### September 2024"
   ]
  },
  {
   "cell_type": "markdown",
   "metadata": {},
   "source": [
    "In this tutorial, we will explore the process of tolerancing an optical system in Optiland via sensitivity analysis. Tolerancing is a crucial aspect of optical design, ensuring that the system performs adequately despite manufacturing imperfections. Sensitivity analysis helps in understanding how variations in design parameters affect the overall performance of the optical system.\n",
    "\n",
    "Tolerancing in Optiland requires 4 key components:\n",
    "\n",
    "1. Optic - the optical system to be analyzed.\n",
    "2. Operands - the metrics which are assessed e.g., wavefront error.\n",
    "3. Perturbations - the variations applied to the optic or a surface of an optic e.g., surface tilt.\n",
    "4. Compensators - a parameter of the optical system that can be adjusted to counteract the effects of a perturbation.\n",
    "\n",
    "In this example, we will apply various perturbations to our optic, one at a time, while monitoring various metrics, or operands. We will perform a sensitivity analysis, which will show the variation in each metric (operand) as a function of each perturbation. In this case, all perturbations are applied independently."
   ]
  },
  {
   "cell_type": "code",
   "execution_count": 1,
   "metadata": {},
   "outputs": [],
   "source": [
    "from optiland.samples.objectives import CookeTriplet\n",
    "from optiland.tolerancing import RangeSampler, SensitivityAnalysis, Tolerancing"
   ]
  },
  {
   "cell_type": "markdown",
   "metadata": {},
   "source": [
    "1. Defining the tolerancing object:\n",
    "\n",
    "The core of tolerancing in Optiland is the Tolerancing class. This class contains all operands, perturbations and compensators that are used during a tolerancing exercise. We start by defining a Cooke triplet and passing it to our Tolerancing class."
   ]
  },
  {
   "cell_type": "code",
   "execution_count": 2,
   "metadata": {},
   "outputs": [],
   "source": [
    "optic = CookeTriplet()"
   ]
  },
  {
   "cell_type": "code",
   "execution_count": 3,
   "metadata": {},
   "outputs": [],
   "source": [
    "tolerancing = Tolerancing(optic)"
   ]
  },
  {
   "cell_type": "markdown",
   "metadata": {},
   "source": [
    "2. Adding perturbations\n",
    "\n",
    "\n",
    "Each tolerancing object contains perturbations, or variations that are applied to the optic during a tolerancing analysis. Each perturbation requires a value that should be applied to the perturbation. For example, we may wish to tilt the first surface by 0.01 radians. The values of a given perturbation are specified via \"samplers\", which provide the perturbation value in each iteration. We define a \"RangeSampler\", in which perturbation values are defined in a linear range from a \"start\" value to a \"end\" value over a given number of \"steps\"."
   ]
  },
  {
   "cell_type": "markdown",
   "metadata": {},
   "source": [
    "For the first perturbation, we wish to specify the following properties:\n",
    "\n",
    "- Variation in radius of curvature of first surface of lens\n",
    "- Variation occurs from 15 mm to 30 mm over 128 steps\n",
    "\n",
    "This is defined and added to our tolerancing instance as follows:"
   ]
  },
  {
   "cell_type": "code",
   "execution_count": 4,
   "metadata": {},
   "outputs": [],
   "source": [
    "sampler = RangeSampler(start=15, end=30, steps=128)\n",
    "tolerancing.add_perturbation(\"radius\", sampler, surface_number=1)"
   ]
  },
  {
   "cell_type": "markdown",
   "metadata": {},
   "source": [
    "For the next perturbation, we will apply a variation of x-tilt to the first surface:"
   ]
  },
  {
   "cell_type": "code",
   "execution_count": 5,
   "metadata": {},
   "outputs": [],
   "source": [
    "sampler = RangeSampler(start=-0.05, end=0.05, steps=128)  # radians\n",
    "tolerancing.add_perturbation(\"tilt\", sampler, surface_number=1, axis=\"x\")"
   ]
  },
  {
   "cell_type": "markdown",
   "metadata": {},
   "source": [
    "For the last perturbation, we will vary the thickness of our first lens (at surface 1):"
   ]
  },
  {
   "cell_type": "code",
   "execution_count": 6,
   "metadata": {},
   "outputs": [],
   "source": [
    "sampler = RangeSampler(start=2, end=5, steps=128)\n",
    "tolerancing.add_perturbation(\"thickness\", sampler, surface_number=1)"
   ]
  },
  {
   "cell_type": "markdown",
   "metadata": {},
   "source": [
    "3. Adding operands\n",
    "\n",
    "When we apply perturbations, we want to monitor various performance metrics. Here, we will monitor:\n",
    "\n",
    "- focal length\n",
    "- RMS spot size\n",
    "- mean OPD difference\n",
    "\n",
    "The syntax used here follows that used in the optimization module when variables are defined. In general, we pass the following arguments to the \"add_operand\" method to create a new operand:\n",
    "\n",
    "- operand type - see optiland.optimization.operand for complete list of options.\n",
    "- input_data - a dictionary containing the optic instance at a minimum, and generally other parameters related to the operand, such as wavelength.\n",
    "- target (optional) - if an operand has a target, we may specify it here. This is only used when we apply compensation, or optimize the system to counteract perturbations.\n",
    "- weight (optional) - if an operand is more important than others, it may be given a larger weight during compensation.\n",
    "\n",
    "We define the 3 operands as follows:"
   ]
  },
  {
   "cell_type": "code",
   "execution_count": 7,
   "metadata": {},
   "outputs": [],
   "source": [
    "input_data = {\"optic\": optic}\n",
    "tolerancing.add_operand(\"f2\", input_data)\n",
    "\n",
    "input_data = {\n",
    "    \"optic\": optic,\n",
    "    \"surface_number\": -1,\n",
    "    \"Hx\": 0,\n",
    "    \"Hy\": 0.0,\n",
    "    \"wavelength\": 0.55,\n",
    "    \"num_rays\": 5,\n",
    "}  # surface_number=-1 means the last surface\n",
    "tolerancing.add_operand(\"rms_spot_size\", input_data, target=0)\n",
    "\n",
    "input_data = {\"optic\": optic, \"Hx\": 0, \"Hy\": 1, \"wavelength\": 0.55, \"num_rays\": 5}\n",
    "tolerancing.add_operand(\"OPD_difference\", input_data)"
   ]
  },
  {
   "cell_type": "markdown",
   "metadata": {},
   "source": [
    "4. Run sensitivity analysis\n",
    "\n",
    "\n",
    "The next step is to pass our tolerancing variable to a \"SensitivityAnalysis\" instance. This class performs all sensitivity operations, saves the results, and provides an interface to view the results."
   ]
  },
  {
   "cell_type": "code",
   "execution_count": 8,
   "metadata": {},
   "outputs": [],
   "source": [
    "sensitivity_analysis = SensitivityAnalysis(tolerancing)"
   ]
  },
  {
   "cell_type": "markdown",
   "metadata": {},
   "source": [
    "And we can now run the analysis. The duration of the analysis will depend on the number of operands, perturbations and their ranges, as well as whether compensators are applied. On the author's machine, this analysis takes a couple seconds (for ≈400 evaluations in total)."
   ]
  },
  {
   "cell_type": "code",
   "execution_count": 9,
   "metadata": {},
   "outputs": [],
   "source": [
    "sensitivity_analysis.run()"
   ]
  },
  {
   "cell_type": "markdown",
   "metadata": {},
   "source": [
    "5. View and analyze results\n",
    "\n",
    "\n",
    "We can call the \"view\" method of SensitivityAnalysis to show effect of the perturbations on the operands:"
   ]
  },
  {
   "cell_type": "code",
   "execution_count": 10,
   "metadata": {},
   "outputs": [
    {
     "data": {
      "image/png": "[encoded data removed]",
      "text/plain": [
       "<Figure size 990x750 with 9 Axes>"
      ]
     },
     "metadata": {},
     "output_type": "display_data"
    }
   ],
   "source": [
    "sensitivity_analysis.view()"
   ]
  },
  {
   "cell_type": "markdown",
   "metadata": {},
   "source": [
    "As we defined 3 operands and 3 perturbations, we see a collection of 9 (3x3) plots. The rows represent the operands and the columns represent the perturbations. A few relationships we can observe:\n",
    "\n",
    "- the strongest effect by far is perturbation of the radius of curvature\n",
    "- the RMS spot size and OPD difference are a minimum at the nominal radius of curvature value (≈22mm)\n",
    "- tilting or changing the thickness of surface 1 has little impact on the focal length\n",
    "- tilt has a small impact on the OPD difference, with a minimum near 0 radians"
   ]
  },
  {
   "cell_type": "markdown",
   "metadata": {},
   "source": [
    "Lastly, if we wish to further analyze the results, we can retrieve all results via the \"get_results\" method, which returns a pandas DataFrame."
   ]
  },
  {
   "cell_type": "code",
   "execution_count": 11,
   "metadata": {},
   "outputs": [],
   "source": [
    "df = sensitivity_analysis.get_results()"
   ]
  },
  {
   "cell_type": "code",
   "execution_count": 12,
   "metadata": {},
   "outputs": [
    {
     "data": {
      "text/html": [
       "<div>\n",
       "<style scoped>\n",
       "    .dataframe tbody tr th:only-of-type {\n",
       "        vertical-align: middle;\n",
       "    }\n",
       "\n",
       "    .dataframe tbody tr th {\n",
       "        vertical-align: top;\n",
       "    }\n",
       "\n",
       "    .dataframe thead th {\n",
       "        text-align: right;\n",
       "    }\n",
       "</style>\n",
       "<table border=\"1\" class=\"dataframe\">\n",
       "  <thead>\n",
       "    <tr style=\"text-align: right;\">\n",
       "      <th></th>\n",
       "      <th>perturbation_type</th>\n",
       "      <th>perturbation_value</th>\n",
       "      <th>0: f2</th>\n",
       "      <th>1: rms spot size</th>\n",
       "      <th>2: OPD difference</th>\n",
       "    </tr>\n",
       "  </thead>\n",
       "  <tbody>\n",
       "    <tr>\n",
       "      <th>0</th>\n",
       "      <td>Radius of Curvature, Surface 1</td>\n",
       "      <td>15.000000</td>\n",
       "      <td>33.469945</td>\n",
       "      <td>2.701670</td>\n",
       "      <td>10.590084</td>\n",
       "    </tr>\n",
       "    <tr>\n",
       "      <th>1</th>\n",
       "      <td>Radius of Curvature, Surface 1</td>\n",
       "      <td>15.118110</td>\n",
       "      <td>33.743491</td>\n",
       "      <td>2.634001</td>\n",
       "      <td>10.438667</td>\n",
       "    </tr>\n",
       "    <tr>\n",
       "      <th>2</th>\n",
       "      <td>Radius of Curvature, Surface 1</td>\n",
       "      <td>15.236220</td>\n",
       "      <td>34.017200</td>\n",
       "      <td>2.567470</td>\n",
       "      <td>10.281144</td>\n",
       "    </tr>\n",
       "    <tr>\n",
       "      <th>3</th>\n",
       "      <td>Radius of Curvature, Surface 1</td>\n",
       "      <td>15.354331</td>\n",
       "      <td>34.291071</td>\n",
       "      <td>2.502048</td>\n",
       "      <td>10.118328</td>\n",
       "    </tr>\n",
       "    <tr>\n",
       "      <th>4</th>\n",
       "      <td>Radius of Curvature, Surface 1</td>\n",
       "      <td>15.472441</td>\n",
       "      <td>34.565104</td>\n",
       "      <td>2.437704</td>\n",
       "      <td>9.950932</td>\n",
       "    </tr>\n",
       "  </tbody>\n",
       "</table>\n",
       "</div>"
      ],
      "text/plain": [
       "                perturbation_type  perturbation_value      0: f2  \\\n",
       "0  Radius of Curvature, Surface 1           15.000000  33.469945   \n",
       "1  Radius of Curvature, Surface 1           15.118110  33.743491   \n",
       "2  Radius of Curvature, Surface 1           15.236220  34.017200   \n",
       "3  Radius of Curvature, Surface 1           15.354331  34.291071   \n",
       "4  Radius of Curvature, Surface 1           15.472441  34.565104   \n",
       "\n",
       "   1: rms spot size  2: OPD difference  \n",
       "0          2.701670          10.590084  \n",
       "1          2.634001          10.438667  \n",
       "2          2.567470          10.281144  \n",
       "3          2.502048          10.118328  \n",
       "4          2.437704           9.950932  "
      ]
     },
     "execution_count": 12,
     "metadata": {},
     "output_type": "execute_result"
    }
   ],
   "source": [
    "df.head()"
   ]
  },
  {
   "cell_type": "code",
   "execution_count": 13,
   "metadata": {},
   "outputs": [
    {
     "data": {
      "text/html": [
       "<div>\n",
       "<style scoped>\n",
       "    .dataframe tbody tr th:only-of-type {\n",
       "        vertical-align: middle;\n",
       "    }\n",
       "\n",
       "    .dataframe tbody tr th {\n",
       "        vertical-align: top;\n",
       "    }\n",
       "\n",
       "    .dataframe thead th {\n",
       "        text-align: right;\n",
       "    }\n",
       "</style>\n",
       "<table border=\"1\" class=\"dataframe\">\n",
       "  <thead>\n",
       "    <tr style=\"text-align: right;\">\n",
       "      <th></th>\n",
       "      <th>perturbation_value</th>\n",
       "      <th>0: f2</th>\n",
       "      <th>1: rms spot size</th>\n",
       "      <th>2: OPD difference</th>\n",
       "    </tr>\n",
       "  </thead>\n",
       "  <tbody>\n",
       "    <tr>\n",
       "      <th>count</th>\n",
       "      <td>384.000000</td>\n",
       "      <td>384.000000</td>\n",
       "      <td>384.000000</td>\n",
       "      <td>384.000000</td>\n",
       "    </tr>\n",
       "    <tr>\n",
       "      <th>mean</th>\n",
       "      <td>8.666667</td>\n",
       "      <td>50.424385</td>\n",
       "      <td>0.363349</td>\n",
       "      <td>1.853603</td>\n",
       "    </tr>\n",
       "    <tr>\n",
       "      <th>std</th>\n",
       "      <td>10.227280</td>\n",
       "      <td>6.099911</td>\n",
       "      <td>0.585420</td>\n",
       "      <td>2.730398</td>\n",
       "    </tr>\n",
       "    <tr>\n",
       "      <th>min</th>\n",
       "      <td>-0.050000</td>\n",
       "      <td>33.469945</td>\n",
       "      <td>0.004343</td>\n",
       "      <td>0.028153</td>\n",
       "    </tr>\n",
       "    <tr>\n",
       "      <th>25%</th>\n",
       "      <td>0.025394</td>\n",
       "      <td>49.955874</td>\n",
       "      <td>0.016517</td>\n",
       "      <td>0.216752</td>\n",
       "    </tr>\n",
       "    <tr>\n",
       "      <th>50%</th>\n",
       "      <td>3.500000</td>\n",
       "      <td>49.999783</td>\n",
       "      <td>0.070662</td>\n",
       "      <td>0.433987</td>\n",
       "    </tr>\n",
       "    <tr>\n",
       "      <th>75%</th>\n",
       "      <td>18.690945</td>\n",
       "      <td>50.029381</td>\n",
       "      <td>0.479762</td>\n",
       "      <td>2.460403</td>\n",
       "    </tr>\n",
       "    <tr>\n",
       "      <th>max</th>\n",
       "      <td>30.000000</td>\n",
       "      <td>69.558794</td>\n",
       "      <td>2.701670</td>\n",
       "      <td>10.590084</td>\n",
       "    </tr>\n",
       "  </tbody>\n",
       "</table>\n",
       "</div>"
      ],
      "text/plain": [
       "       perturbation_value       0: f2  1: rms spot size  2: OPD difference\n",
       "count          384.000000  384.000000        384.000000         384.000000\n",
       "mean             8.666667   50.424385          0.363349           1.853603\n",
       "std             10.227280    6.099911          0.585420           2.730398\n",
       "min             -0.050000   33.469945          0.004343           0.028153\n",
       "25%              0.025394   49.955874          0.016517           0.216752\n",
       "50%              3.500000   49.999783          0.070662           0.433987\n",
       "75%             18.690945   50.029381          0.479762           2.460403\n",
       "max             30.000000   69.558794          2.701670          10.590084"
      ]
     },
     "execution_count": 13,
     "metadata": {},
     "output_type": "execute_result"
    }
   ],
   "source": [
    "df.describe()"
   ]
  },
  {
   "cell_type": "markdown",
   "metadata": {},
   "source": [
    "We may also save the results to a csv file:"
   ]
  },
  {
   "cell_type": "code",
   "execution_count": 14,
   "metadata": {},
   "outputs": [],
   "source": [
    "df.to_csv(\"sensitivity_analysis.csv\")"
   ]
  },
  {
   "cell_type": "markdown",
   "metadata": {},
   "source": [
    "Conclusions\n",
    "\n",
    "- This tutorial demonstrated the basics of tolerancing in Optiland.\n",
    "- Tolerancers in Optiland require:\n",
    "\n",
    "    1) an optic\n",
    "    2) operand(s)\n",
    "    3) perturbation(s)\n",
    "    4) (optional) compensator(s)\n",
    "- A sensitivity analysis can be performed by first defining a tolerancing object, then passing it to SensitivityAnalysis and calling the \"run\" method.\n",
    "- The results of a sensitivity analysis can be retrieved as a pandas DataFrame and saved for further analysis."
   ]
  }
 ],
 "metadata": {
  "kernelspec": {
   "display_name": ".venv",
   "language": "python",
   "name": "python3"
  },
  "language_info": {
   "codemirror_mode": {
    "name": "ipython",
    "version": 3
   },
   "file_extension": ".py",
   "mimetype": "text/x-python",
   "name": "python",
   "nbconvert_exporter": "python",
   "pygments_lexer": "ipython3",
   "version": "3.11.1"
  }
 },
 "nbformat": 4,
 "nbformat_minor": 2
}
