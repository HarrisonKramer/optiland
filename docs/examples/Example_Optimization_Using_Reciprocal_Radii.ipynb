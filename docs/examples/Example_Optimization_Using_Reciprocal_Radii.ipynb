{
 "cells": [
  {
   "cell_type": "markdown",
   "id": "0a7bf11e-2620-48d0-bd11-e377baae7ddf",
   "metadata": {},
   "source": [
    "# Example - Optimization Using Reciprocal Radii\n",
    "\n",
    "### April 2025\n",
    "\n",
    "This example demonstrates smooth surface transitions during optimization using the \"reciprocal_radius\" variable. This approach helps design optical systems without initially knowing whether each surface should be concave or convex.\n",
    "\n",
    "The \"reciprocal_radius\" is defined as 1/radius (the inverse of the radius of curvature). You define initial conditions using the regular \"radius\" parameter, but the optimization operates on this proxy variable instead.\n",
    "\n",
    "While the libary code attempts to handle edge cases, there are limitations. It's best to avoid setting the initial radius to exactly zero (which is physically meaningless) or infinity. If you do create a system with a radius of ±infinity or if you manually set reciprocal_radius to zero, it is possible that the optimization stops prematurely. In this case, just re-run the optimization from where it stopped, using either the same algorithm or a different one."
   ]
  },
  {
   "cell_type": "code",
   "execution_count": 1,
   "id": "6403783e-b126-406d-8299-339780cfa1c6",
   "metadata": {},
   "outputs": [],
   "source": [
    "import logging\n",
    "\n",
    "import numpy as np\n",
    "\n",
    "from optiland import analysis, optic, optimization\n",
    "\n",
    "# Disable the warning \"findfont: Font family 'cambria' not found.\" when running on Linux\n",
    "logging.getLogger(\"matplotlib.font_manager\").disabled = True"
   ]
  },
  {
   "cell_type": "markdown",
   "id": "b5ad6d48-081d-4a54-8501-4811fcda5c99",
   "metadata": {},
   "source": [
    " ## 1. Definition of initial system\n",
    "\n",
    " We'll define a simple BK7 plano-concave singlet and optimize it to focus on the focal plane.\n",
    "\n",
    " We'll try two optimization approaches:\n",
    " - First using the standard \"radius\" variable\n",
    " - Then using the \"reciprocal_radius\" variable"
   ]
  },
  {
   "cell_type": "code",
   "execution_count": 2,
   "id": "099b5744-2fa1-4a40-abf3-9d1220a7b897",
   "metadata": {},
   "outputs": [],
   "source": [
    "class Singlet(optic.Optic):\n",
    "    def __init__(self):\n",
    "        super().__init__()\n",
    "\n",
    "        # Define surfaces\n",
    "        # object plane:\n",
    "        self.add_surface(index=0, thickness=np.inf)\n",
    "        # first surface, initially concave:\n",
    "        self.add_surface(\n",
    "            index=1, radius=-100, thickness=5, material=\"BK7\", is_stop=True\n",
    "        )\n",
    "        # the second surface is flat:\n",
    "        self.add_surface(index=2, radius=np.inf, thickness=45)\n",
    "        # image plane:\n",
    "        self.add_surface(index=3)\n",
    "\n",
    "        # Define aperture\n",
    "        self.set_aperture(aperture_type=\"EPD\", value=10.0)\n",
    "\n",
    "        # Define fields\n",
    "        self.set_field_type(field_type=\"angle\")\n",
    "        self.add_field(y=0)\n",
    "        self.add_field(y=1)\n",
    "        self.add_field(y=2)\n",
    "\n",
    "        # Define wavelengths\n",
    "        # Uncomment the blue and red wavelengths to see chromatic aberration effects\n",
    "        # self.add_wavelength(value=0.4861)\n",
    "        self.add_wavelength(value=0.5876, is_primary=True)\n",
    "        # self.add_wavelength(value=0.6563)"
   ]
  },
  {
   "cell_type": "markdown",
   "id": "d289e9e2-2b62-4447-bf5b-e38ffa18d412",
   "metadata": {},
   "source": [
    "Here's our starting lens configuration:"
   ]
  },
  {
   "cell_type": "code",
   "execution_count": 3,
   "id": "b9284227-b308-40b2-bcfc-2ed4d3449969",
   "metadata": {},
   "outputs": [
    {
     "data": {
      "image/png": "[encoded data removed]",
      "text/plain": [
       "<Figure size 1000x400 with 1 Axes>"
      ]
     },
     "metadata": {},
     "output_type": "display_data"
    }
   ],
   "source": [
    "lens = Singlet()\n",
    "lens.draw()"
   ]
  },
  {
   "cell_type": "markdown",
   "id": "eef5a20a-3d32-4460-a9b1-212127a1f4f2",
   "metadata": {},
   "source": [
    "## 2. Optimization\n",
    "\n",
    "Now we'll define the optimization problem to achieve focus on a specific plane and minimize the RMS spot size."
   ]
  },
  {
   "cell_type": "code",
   "execution_count": 4,
   "id": "6714b791-563a-40ef-99b2-d404e315b219",
   "metadata": {},
   "outputs": [],
   "source": [
    "problem = optimization.OptimizationProblem()\n",
    "\n",
    "# Add requirement for spot size\n",
    "for field in lens.fields.get_field_coords():\n",
    "    input_data = {\n",
    "        \"optic\": lens,\n",
    "        \"Hx\": field[0],\n",
    "        \"Hy\": field[1],\n",
    "        \"num_rays\": 5,\n",
    "        \"wavelength\": \"all\",\n",
    "        \"distribution\": \"hexapolar\",\n",
    "        \"surface_number\": 3,\n",
    "    }\n",
    "    problem.add_operand(\n",
    "        operand_type=\"rms_spot_size\", target=0, weight=1, input_data=input_data\n",
    "    )"
   ]
  },
  {
   "cell_type": "markdown",
   "id": "378b4242-5686-4894-8a6f-c7cb1a8c9245",
   "metadata": {},
   "source": [
    "### Approach 1: Optimizing with \"radius\"\n",
    "\n",
    "First, let's try optimizing using the standard \"radius\" variable. We don't set limits here because we can't easily specify that radius should be outside an interval (e.g., radius ≥ 10 or radius ≤ -10)."
   ]
  },
  {
   "cell_type": "code",
   "execution_count": 5,
   "id": "1ee03754-1b53-4cdd-9a20-c5794535d7f1",
   "metadata": {},
   "outputs": [],
   "source": [
    "problem.add_variable(lens, \"radius\", surface_number=1)"
   ]
  },
  {
   "cell_type": "markdown",
   "id": "004e9639-324e-408c-bb00-a08d0e251ee6",
   "metadata": {},
   "source": [
    "Let's check the initial problem configuration:"
   ]
  },
  {
   "cell_type": "code",
   "execution_count": 6,
   "id": "12463866-f393-47b9-9148-08b5a8c563aa",
   "metadata": {},
   "outputs": [
    {
     "name": "stdout",
     "output_type": "stream",
     "text": [
      "╒════╤════════════════════════╤═══════════════════╕\n",
      "│    │   Merit Function Value │   Improvement (%) │\n",
      "╞════╪════════════════════════╪═══════════════════╡\n",
      "│  0 │                69.5755 │                 0 │\n",
      "╘════╧════════════════════════╧═══════════════════╛\n",
      "╒════╤════════════════╤══════════╤══════════════╤══════════════╤══════════╤═════════╤═════════╤════════════════╕\n",
      "│    │ Operand Type   │   Target │ Min. Bound   │ Max. Bound   │   Weight │   Value │   Delta │   Contrib. [%] │\n",
      "╞════╪════════════════╪══════════╪══════════════╪══════════════╪══════════╪═════════╪═════════╪════════════════╡\n",
      "│  0 │ rms spot size  │        0 │              │              │        1 │   4.815 │   4.815 │          33.32 │\n",
      "│  1 │ rms spot size  │        0 │              │              │        1 │   4.816 │   4.816 │          33.33 │\n",
      "│  2 │ rms spot size  │        0 │              │              │        1 │   4.817 │   4.817 │          33.35 │\n",
      "╘════╧════════════════╧══════════╧══════════════╧══════════════╧══════════╧═════════╧═════════╧════════════════╛\n",
      "╒════╤═════════════════╤═══════════╤═════════╤══════════════╤══════════════╕\n",
      "│    │ Variable Type   │   Surface │   Value │ Min. Bound   │ Max. Bound   │\n",
      "╞════╪═════════════════╪═══════════╪═════════╪══════════════╪══════════════╡\n",
      "│  0 │ radius          │         1 │    -100 │              │              │\n",
      "╘════╧═════════════════╧═══════════╧═════════╧══════════════╧══════════════╛\n"
     ]
    }
   ],
   "source": [
    "problem.info()"
   ]
  },
  {
   "cell_type": "markdown",
   "id": "88d41f54-a823-401c-981a-ea733250c840",
   "metadata": {},
   "source": [
    "Now we'll run the optimization:"
   ]
  },
  {
   "cell_type": "code",
   "execution_count": 7,
   "id": "a27cb47b-dec8-4410-b205-39ace5477c01",
   "metadata": {},
   "outputs": [
    {
     "name": "stdout",
     "output_type": "stream",
     "text": [
      "RUNNING THE L-BFGS-B CODE\n",
      "\n",
      "           * * *\n",
      "\n",
      "Machine precision = 2.220D-16\n",
      " N =            1     M =           10\n",
      "\n",
      "At X0         0 variables are exactly at the bounds\n",
      "\n",
      "At iterate    0    f=  6.95755D+01    |proj g|=  2.79464D+01\n",
      "\n",
      "At iterate    1    f=  5.63264D+01    |proj g|=  6.26513D+00\n",
      "\n",
      "At iterate    2    f=  5.47559D+01    |proj g|=  4.71442D+00\n",
      "\n",
      "At iterate    3    f=  5.18047D+01    |proj g|=  2.39333D+00\n",
      "\n",
      "At iterate    4    f=  5.01328D+01    |proj g|=  1.42324D+00\n",
      "\n",
      "At iterate    5    f=  4.87170D+01    |proj g|=  7.97435D-01\n",
      "\n",
      "At iterate    6    f=  4.76943D+01    |proj g|=  4.57275D-01\n",
      "\n",
      "At iterate    7    f=  4.69095D+01    |proj g|=  2.59918D-01\n",
      "\n",
      "At iterate    8    f=  4.63210D+01    |proj g|=  1.48244D-01\n",
      "\n",
      "At iterate    9    f=  4.58757D+01    |proj g|=  8.44444D-02\n",
      "\n",
      "At iterate   10    f=  4.55399D+01    |proj g|=  4.81243D-02\n",
      "\n",
      "At iterate   11    f=  4.52863D+01    |proj g|=  2.74234D-02\n",
      "\n",
      "At iterate   12    f=  4.50949D+01    |proj g|=  1.56255D-02\n",
      "\n",
      "At iterate   13    f=  4.49504D+01    |proj g|=  8.90452D-03\n",
      "\n",
      "At iterate   14    f=  4.48414D+01    |proj g|=  5.07612D-03\n"
     ]
    },
    {
     "name": "stderr",
     "output_type": "stream",
     "text": [
      " This problem is unconstrained.\n"
     ]
    },
    {
     "name": "stdout",
     "output_type": "stream",
     "text": [
      "\n",
      "At iterate   15    f=  4.47590D+01    |proj g|=  2.89049D-03\n",
      "\n",
      "At iterate   16    f=  4.46969D+01    |proj g|=  1.64633D-03\n",
      "\n",
      "At iterate   17    f=  4.46500D+01    |proj g|=  9.38626D-04\n",
      "\n",
      "At iterate   18    f=  4.46146D+01    |proj g|=  5.37170D-04\n",
      "\n",
      "At iterate   19    f=  4.45877D+01    |proj g|=  3.06954D-04\n",
      "\n",
      "At iterate   20    f=  4.45673D+01    |proj g|=  1.70530D-04\n",
      "\n",
      "At iterate   21    f=  4.45527D+01    |proj g|=  1.00186D-04\n",
      "\n",
      "At iterate   22    f=  4.45408D+01    |proj g|=  5.32907D-05\n",
      "\n",
      "At iterate   23    f=  4.45329D+01    |proj g|=  3.12639D-05\n",
      "\n",
      "At iterate   24    f=  4.45161D+01    |proj g|=  1.49216D-05\n",
      "\n",
      "At iterate   25    f=  4.45123D+01    |proj g|=  7.10550D-06\n",
      "\n"
     ]
    },
    {
     "name": "stderr",
     "output_type": "stream",
     "text": [
      "\n",
      " Bad direction in the line search;\n",
      "   refresh the lbfgs memory and restart the iteration.\n"
     ]
    },
    {
     "name": "stdout",
     "output_type": "stream",
     "text": [
      "At iterate   26    f=  4.45123D+01    |proj g|=  7.74500D-05\n",
      "\n",
      "           * * *\n",
      "\n",
      "Tit   = total number of iterations\n",
      "Tnf   = total number of function evaluations\n",
      "Tnint = total number of segments explored during Cauchy searches\n",
      "Skip  = number of BFGS updates skipped\n",
      "Nact  = number of active bounds at final generalized Cauchy point\n",
      "Projg = norm of the final projected gradient\n",
      "F     = final function value\n",
      "\n",
      "           * * *\n",
      "\n",
      "   N    Tit     Tnf  Tnint  Skip  Nact     Projg        F\n",
      "    1     26     55      2     0     0   7.745D-05   4.451D+01\n",
      "  F =   44.512321103130290     \n",
      "\n",
      "CONVERGENCE: REL_REDUCTION_OF_F_<=_FACTR*EPSMCH             \n"
     ]
    }
   ],
   "source": [
    "optimizer = optimization.OptimizerGeneric(problem)\n",
    "res = optimizer.optimize(tol=1e-9)"
   ]
  },
  {
   "cell_type": "markdown",
   "id": "42f0544a-eae9-4c58-9381-e2d7bd215833",
   "metadata": {},
   "source": [
    "Let's examine the optimization results:"
   ]
  },
  {
   "cell_type": "code",
   "execution_count": 8,
   "id": "36adbdf7-ec60-41c1-b930-d2239e221463",
   "metadata": {},
   "outputs": [
    {
     "name": "stdout",
     "output_type": "stream",
     "text": [
      "╒════╤════════════════════════╤═══════════════════╕\n",
      "│    │   Merit Function Value │   Improvement (%) │\n",
      "╞════╪════════════════════════╪═══════════════════╡\n",
      "│  0 │                44.5123 │           36.0229 │\n",
      "╘════╧════════════════════════╧═══════════════════╛\n",
      "╒════╤════════════════╤══════════╤══════════════╤══════════════╤══════════╤═════════╤═════════╤════════════════╕\n",
      "│    │ Operand Type   │   Target │ Min. Bound   │ Max. Bound   │   Weight │   Value │   Delta │   Contrib. [%] │\n",
      "╞════╪════════════════╪══════════╪══════════════╪══════════════╪══════════╪═════════╪═════════╪════════════════╡\n",
      "│  0 │ rms spot size  │        0 │              │              │        1 │   3.852 │   3.852 │          33.33 │\n",
      "│  1 │ rms spot size  │        0 │              │              │        1 │   3.852 │   3.852 │          33.33 │\n",
      "│  2 │ rms spot size  │        0 │              │              │        1 │   3.852 │   3.852 │          33.33 │\n",
      "╘════╧════════════════╧══════════╧══════════════╧══════════════╧══════════╧═════════╧═════════╧════════════════╛\n",
      "╒════╤═════════════════╤═══════════╤═════════╤══════════════╤══════════════╕\n",
      "│    │ Variable Type   │   Surface │   Value │ Min. Bound   │ Max. Bound   │\n",
      "╞════╪═════════════════╪═══════════╪═════════╪══════════════╪══════════════╡\n",
      "│  0 │ radius          │         1 │ -325669 │              │              │\n",
      "╘════╧═════════════════╧═══════════╧═════════╧══════════════╧══════════════╛\n"
     ]
    },
    {
     "data": {
      "image/png": "[encoded data removed]",
      "text/plain": [
       "<Figure size 1000x400 with 1 Axes>"
      ]
     },
     "metadata": {},
     "output_type": "display_data"
    }
   ],
   "source": [
    "problem.info()\n",
    "lens.draw()"
   ]
  },
  {
   "cell_type": "markdown",
   "id": "02465ebe-5427-4f35-8589-5273fb1eff1c",
   "metadata": {},
   "source": [
    "The optimization struggles to converge to a good solution. This happens because there's no continuous path from a concave to a convex surface when using the \"radius\" directly.\n",
    "\n",
    "### Approach 2: Optimizing with \"reciprocal_radius\""
   ]
  },
  {
   "cell_type": "code",
   "execution_count": 9,
   "id": "af939f57-77a8-4a33-8ed1-5ac068fc375d",
   "metadata": {},
   "outputs": [],
   "source": [
    "lens = Singlet()\n",
    "\n",
    "problem = optimization.OptimizationProblem()\n",
    "\n",
    "# Add requirement for spot size\n",
    "for field in lens.fields.get_field_coords():\n",
    "    input_data = {\n",
    "        \"optic\": lens,\n",
    "        \"Hx\": field[0],\n",
    "        \"Hy\": field[1],\n",
    "        \"num_rays\": 5,\n",
    "        \"wavelength\": \"all\",\n",
    "        \"distribution\": \"hexapolar\",\n",
    "        \"surface_number\": 3,\n",
    "    }\n",
    "    problem.add_operand(\n",
    "        operand_type=\"rms_spot_size\", target=0, weight=1, input_data=input_data\n",
    "    )\n",
    "\n",
    "# Use reciprocal_radius instead of radius for optimization\n",
    "problem.add_variable(lens, \"reciprocal_radius\", surface_number=1)"
   ]
  },
  {
   "cell_type": "markdown",
   "id": "350d2910-de1b-4091-9bc2-c3723a49ef0d",
   "metadata": {},
   "source": [
    "Let's run the optimization:"
   ]
  },
  {
   "cell_type": "code",
   "execution_count": 10,
   "id": "13912949-1a8d-44e8-bb07-0b61a31e4b9a",
   "metadata": {},
   "outputs": [
    {
     "name": "stdout",
     "output_type": "stream",
     "text": [
      "RUNNING THE L-BFGS-B CODE\n",
      "\n",
      "           * * *\n",
      "\n",
      "Machine precision = 2.220D-16\n",
      " N =            1     M =           10\n",
      "\n",
      "At X0         0 variables are exactly at the bounds\n",
      "\n",
      "At iterate    0    f=  6.95755D+01    |proj g|=  2.79464D+00\n",
      "\n",
      "At iterate    1    f=  5.63264D+01    |proj g|=  2.50605D+00\n",
      "\n",
      "At iterate    2    f=  4.71862D-02    |proj g|=  7.42588D-02\n",
      "\n",
      "At iterate    3    f=  5.95316D-04    |proj g|=  4.07913D-03\n",
      "\n",
      "At iterate    4    f=  4.55029D-04    |proj g|=  1.49063D-05\n",
      "\n",
      "At iterate    5    f=  4.55027D-04    |proj g|=  3.39355D-09\n",
      "\n",
      "At iterate    6    f=  4.55027D-04    |proj g|=  1.81604D-09\n",
      "\n",
      "           * * *\n",
      "\n",
      "Tit   = total number of iterations\n",
      "Tnf   = total number of function evaluations\n",
      "Tnint = total number of segments explored during Cauchy searches\n",
      "Skip  = number of BFGS updates skipped\n",
      "Nact  = number of active bounds at final generalized Cauchy point\n",
      "Projg = norm of the final projected gradient\n",
      "F     = final function value\n",
      "\n",
      "           * * *\n",
      "\n",
      "   N    Tit     Tnf  Tnint  Skip  Nact     Projg        F\n",
      "    1      6     10      1     0     0   1.816D-09   4.550D-04\n",
      "  F =   4.5502738477963967E-004\n",
      "\n",
      "CONVERGENCE: REL_REDUCTION_OF_F_<=_FACTR*EPSMCH             \n"
     ]
    },
    {
     "name": "stderr",
     "output_type": "stream",
     "text": [
      " This problem is unconstrained.\n"
     ]
    }
   ],
   "source": [
    "optimizer = optimization.OptimizerGeneric(problem)\n",
    "res = optimizer.optimize(tol=1e-9)"
   ]
  },
  {
   "cell_type": "markdown",
   "id": "b27c6e22-eabd-4fe0-881e-ef7e544b6dbc",
   "metadata": {},
   "source": [
    "And check the results:"
   ]
  },
  {
   "cell_type": "code",
   "execution_count": 11,
   "id": "d634712a-58f1-4ff0-aa73-3d8657326fec",
   "metadata": {},
   "outputs": [
    {
     "name": "stdout",
     "output_type": "stream",
     "text": [
      "╒════╤════════════════════════╤═══════════════════╕\n",
      "│    │   Merit Function Value │   Improvement (%) │\n",
      "╞════╪════════════════════════╪═══════════════════╡\n",
      "│  0 │            0.000455027 │           99.9993 │\n",
      "╘════╧════════════════════════╧═══════════════════╛\n",
      "╒════╤════════════════╤══════════╤══════════════╤══════════════╤══════════╤═════════╤═════════╤════════════════╕\n",
      "│    │ Operand Type   │   Target │ Min. Bound   │ Max. Bound   │   Weight │   Value │   Delta │   Contrib. [%] │\n",
      "╞════╪════════════════╪══════════╪══════════════╪══════════════╪══════════╪═════════╪═════════╪════════════════╡\n",
      "│  0 │ rms spot size  │        0 │              │              │        1 │   0.012 │   0.012 │          32.21 │\n",
      "│  1 │ rms spot size  │        0 │              │              │        1 │   0.012 │   0.012 │          31.48 │\n",
      "│  2 │ rms spot size  │        0 │              │              │        1 │   0.013 │   0.013 │          36.31 │\n",
      "╘════╧════════════════╧══════════╧══════════════╧══════════════╧══════════╧═════════╧═════════╧════════════════╛\n",
      "╒════╤═══════════════════╤═══════════╤═══════════╤══════════════╤══════════════╕\n",
      "│    │ Variable Type     │   Surface │     Value │ Min. Bound   │ Max. Bound   │\n",
      "╞════╪═══════════════════╪═══════════╪═══════════╪══════════════╪══════════════╡\n",
      "│  0 │ reciprocal_radius │         1 │ 0.0396763 │              │              │\n",
      "╘════╧═══════════════════╧═══════════╧═══════════╧══════════════╧══════════════╛\n"
     ]
    },
    {
     "data": {
      "image/png": "[encoded data removed]",
      "text/plain": [
       "<Figure size 1000x400 with 1 Axes>"
      ]
     },
     "metadata": {},
     "output_type": "display_data"
    }
   ],
   "source": [
    "problem.info()\n",
    "lens.draw()"
   ]
  },
  {
   "cell_type": "markdown",
   "id": "16bb0170-76be-43e0-b52e-69366ae1f8f5",
   "metadata": {},
   "source": [
    "## Conclusions\n",
    "\n",
    "- When using the \"radius\" variable directly, the optimizer often struggles find solutions that require changing from concave to convex or vice versa.\n",
    "- The \"reciprocal_radius\" variable allows for smooth transitions between concave and convex surfaces, producing better optimization results in this specific example.\n",
    "- Initial system conditions are still specified with \"radius\" in the lens definition, but the optimization works on \"reciprocal_radius\" internally.\n",
    "- For fine tuning, after surfaces have reached the correct concavity/convexity, there is no problem in switching back to \"radius\" for the final optimization steps.\n",
    "- If the optimization stops prematurely due to edge cases (e.g., initial radius equal to ±infinity), simply re-run the optimization from where it stopped, using either the same algorithm or a different one."
   ]
  }
 ],
 "metadata": {
  "kernelspec": {
   "display_name": "imagepress",
   "language": "python",
   "name": "python3"
  },
  "language_info": {
   "codemirror_mode": {
    "name": "ipython",
    "version": 3
   },
   "file_extension": ".py",
   "mimetype": "text/x-python",
   "name": "python",
   "nbconvert_exporter": "python",
   "pygments_lexer": "ipython3",
   "version": "3.12.5"
  }
 },
 "nbformat": 4,
 "nbformat_minor": 2
}
