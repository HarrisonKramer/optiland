{
 "cells": [
  {
   "cell_type": "markdown",
   "metadata": {
    "vscode": {
     "languageId": "plaintext"
    }
   },
   "source": [
    "# Tutorial 5d - User-defined Optimization Operands"
   ]
  },
  {
   "cell_type": "markdown",
   "metadata": {
    "tags": [
     "nbsphinx-toctree"
    ]
   },
   "source": [
    "### November 2024"
   ]
  },
  {
   "cell_type": "markdown",
   "metadata": {},
   "source": [
    "This tutorial demonstrates how to create a user-defined optimization metric in Optiland. This allows for the optimization of essentially any custom metric, providing flexibility to tailor the optimization process to specific needs. By the end of this tutorial, you will be able to:\n",
    "\n",
    "- Define custom optimization metrics.\n",
    "- Integrate these metrics into the Optiland optimization framework.\n",
    "- Apply the custom metrics to optimize an optical system.\n",
    "\n",
    "In this example, we will create a custom metric to optimize a freeform surface such that the spot forms an ellipse on the image plane. In particular, we will enforce that the ratio of the ellipse axes equals the golden ratio, or ≈1.618."
   ]
  },
  {
   "cell_type": "markdown",
   "metadata": {},
   "source": [
    "All operands, or optimization metrics, in Optiland are defined in the so-called _operand registry_. By defining, then adding a new metric into this registry, we can use it like any other optimization metric. More details of the operand registry can be found in the documentation or in `optiland.optimization.operand`."
   ]
  },
  {
   "cell_type": "code",
   "execution_count": 1,
   "metadata": {},
   "outputs": [],
   "source": [
    "import numpy as np\n",
    "\n",
    "from optiland import analysis, optic, optimization\n",
    "from optiland.optimization.operand import operand_registry"
   ]
  },
  {
   "cell_type": "markdown",
   "metadata": {},
   "source": [
    "We start by defining the function that computes our custom metric. The only requirement is that the function returns a scalar value. We can perform any analyses we want within the function and we can choose to include any input arguments we wish.\n",
    "\n",
    "We will define the function `spot_ellipse_ratio`, which traces rays through the provided lens system, then computes the ratio of the major and minor axes of the spot diagram (ray intersection points at the image plane)."
   ]
  },
  {
   "cell_type": "code",
   "execution_count": 2,
   "metadata": {},
   "outputs": [],
   "source": [
    "def spot_ellipse_ratio(lens):\n",
    "    \"\"\"Find the ratio of the major and minor axes for an elliptical spot diagram.\n",
    "\n",
    "    This function traces rays through the lens and computes the ratio of the major and\n",
    "    minor axes of the ellipse that best fits the spot diagram.\n",
    "\n",
    "    Args:\n",
    "        lens: The lens object.\n",
    "\n",
    "    Returns:\n",
    "        The ratio of the major and minor axes of the ellipse.\n",
    "\n",
    "    \"\"\"\n",
    "    rays_out = lens.trace(\n",
    "        Hx=0,\n",
    "        Hy=0,\n",
    "        wavelength=0.55,\n",
    "        num_rays=15,\n",
    "        distribution=\"hexapolar\",\n",
    "    )\n",
    "\n",
    "    # Extract the x and y coordinates of the rays at last surface = image plane\n",
    "    x = rays_out.x\n",
    "    y = rays_out.y\n",
    "\n",
    "    # Stack x and y to compute the covariance matrix of the points\n",
    "    points = np.vstack((x, y))\n",
    "    cov_matrix = np.cov(points)\n",
    "\n",
    "    # Calculate the eigenvalues of the covariance matrix\n",
    "    eigenvalues = np.linalg.eigvalsh(cov_matrix)\n",
    "\n",
    "    # Sort eigenvalues to identify the major and minor axes (a >= b)\n",
    "    a2, b2 = np.sort(eigenvalues)[::-1]\n",
    "\n",
    "    # Calculate ratio of major and minor axes\n",
    "    a = np.sqrt(a2)\n",
    "    b = np.sqrt(b2)\n",
    "    ratio = a / b\n",
    "\n",
    "    return ratio"
   ]
  },
  {
   "cell_type": "markdown",
   "metadata": {},
   "source": [
    "We now simply add our function to the operand registry, which was imported from `optiland.optimization.operand`. We need to provide the name of the operand and the function itself. We choose the name `'ellipse_ratio'`, which we will use to reference our function later on. Lastly, we may choose to allow overwriting an existing registered function by passing `overwrite=True`. This is useful if you are testing the function and making frequent changes. Without allowing overwriting, an error will be raised."
   ]
  },
  {
   "cell_type": "code",
   "execution_count": 3,
   "metadata": {},
   "outputs": [],
   "source": [
    "operand_registry.register(\"ellipse_ratio\", spot_ellipse_ratio, overwrite=True)"
   ]
  },
  {
   "cell_type": "markdown",
   "metadata": {},
   "source": [
    "Next, we define a simple singlet value with a polynomial surface type on the first surface. Other tutorials (see [here](https://github.com/HarrisonKramer/optiland/blob/master/docs/examples/Tutorial_7c_Freeform_Surfaces.ipynb)) and the documentation elaborate on polynomial surfaces. We will omit those details here."
   ]
  },
  {
   "cell_type": "code",
   "execution_count": 4,
   "metadata": {},
   "outputs": [],
   "source": [
    "class Singlet(optic.Optic):\n",
    "    def __init__(self):\n",
    "        super().__init__()\n",
    "\n",
    "        # add surfaces\n",
    "        self.add_surface(index=0, radius=np.inf, thickness=np.inf)\n",
    "\n",
    "        self.add_surface(\n",
    "            index=1,\n",
    "            radius=100,\n",
    "            thickness=5,\n",
    "            surface_type=\"polynomial\",\n",
    "            is_stop=True,\n",
    "            material=\"SF11\",\n",
    "            coefficients=[],\n",
    "        )\n",
    "\n",
    "        self.add_surface(index=2, thickness=100)\n",
    "        self.add_surface(index=3)\n",
    "\n",
    "        # add aperture\n",
    "        self.set_aperture(aperture_type=\"EPD\", value=25)\n",
    "\n",
    "        # add field\n",
    "        self.set_field_type(field_type=\"angle\")\n",
    "        self.add_field(y=0)\n",
    "\n",
    "        # add wavelength\n",
    "        self.add_wavelength(value=0.55, is_primary=True)"
   ]
  },
  {
   "cell_type": "markdown",
   "metadata": {},
   "source": [
    "We create a view the initial lens."
   ]
  },
  {
   "cell_type": "code",
   "execution_count": 5,
   "metadata": {},
   "outputs": [
    {
     "data": {
      "image/png": "[encoded data removed]",
      "text/plain": [
       "<Figure size 1000x400 with 1 Axes>"
      ]
     },
     "metadata": {},
     "output_type": "display_data"
    }
   ],
   "source": [
    "lens = Singlet()\n",
    "lens.draw()"
   ]
  },
  {
   "cell_type": "markdown",
   "metadata": {},
   "source": [
    "We now define the optimization problem. We start by defining an OptimizationProblem instance."
   ]
  },
  {
   "cell_type": "code",
   "execution_count": 6,
   "metadata": {},
   "outputs": [],
   "source": [
    "problem = optimization.OptimizationProblem()"
   ]
  },
  {
   "cell_type": "markdown",
   "metadata": {},
   "source": [
    "Next, we add our custom optimization operand to the optimization problem. Recall that we called our new metric `'ellipse_ratio'`. We will specify this as the operand type and set the target to 1.618. Note that we must also provide an `input_data` argument. This is a dictionary in which the keys must match the arguments of our function. As our function only requires the argument `lens`, this is the only input we include. A user-defined function can have as many arguments as you wish, but all must be included in the `input_data` dictionary with their values."
   ]
  },
  {
   "cell_type": "code",
   "execution_count": 7,
   "metadata": {},
   "outputs": [],
   "source": [
    "input_data = {\"lens\": lens}\n",
    "problem.add_operand(\n",
    "    operand_type=\"ellipse_ratio\",\n",
    "    target=1.618,\n",
    "    weight=1,\n",
    "    input_data=input_data,\n",
    ")"
   ]
  },
  {
   "cell_type": "markdown",
   "metadata": {},
   "source": [
    "We now add variables representing the coefficients of our polynomial surface."
   ]
  },
  {
   "cell_type": "code",
   "execution_count": 8,
   "metadata": {},
   "outputs": [],
   "source": [
    "for i in range(2):\n",
    "    for j in range(2):\n",
    "        problem.add_variable(\n",
    "            lens,\n",
    "            \"polynomial_coeff\",\n",
    "            surface_number=1,\n",
    "            coeff_index=(i, j),\n",
    "        )"
   ]
  },
  {
   "cell_type": "markdown",
   "metadata": {},
   "source": [
    "Let's view the details of the optimization problem to see its current, non-optimized status"
   ]
  },
  {
   "cell_type": "code",
   "execution_count": 9,
   "metadata": {},
   "outputs": [
    {
     "name": "stdout",
     "output_type": "stream",
     "text": [
      "╒════╤════════════════════════╤═══════════════════╕\n",
      "│    │   Merit Function Value │   Improvement (%) │\n",
      "╞════╪════════════════════════╪═══════════════════╡\n",
      "│  0 │               0.381924 │                 0 │\n",
      "╘════╧════════════════════════╧═══════════════════╛\n",
      "╒════╤════════════════╤══════════╤══════════════╤══════════════╤══════════╤═════════╤═════════╤════════════════╕\n",
      "│    │ Operand Type   │   Target │ Min. Bound   │ Max. Bound   │   Weight │   Value │   Delta │   Contrib. [%] │\n",
      "╞════╪════════════════╪══════════╪══════════════╪══════════════╪══════════╪═════════╪═════════╪════════════════╡\n",
      "│  0 │ ellipse ratio  │    1.618 │              │              │        1 │       1 │  -0.618 │            100 │\n",
      "╘════╧════════════════╧══════════╧══════════════╧══════════════╧══════════╧═════════╧═════════╧════════════════╛\n",
      "╒════╤══════════════════╤═══════════╤═════════╤══════════════╤══════════════╕\n",
      "│    │ Variable Type    │   Surface │   Value │ Min. Bound   │ Max. Bound   │\n",
      "╞════╪══════════════════╪═══════════╪═════════╪══════════════╪══════════════╡\n",
      "│  0 │ polynomial_coeff │         1 │       0 │              │              │\n",
      "│  1 │ polynomial_coeff │         1 │       0 │              │              │\n",
      "│  2 │ polynomial_coeff │         1 │       0 │              │              │\n",
      "│  3 │ polynomial_coeff │         1 │       0 │              │              │\n",
      "╘════╧══════════════════╧═══════════╧═════════╧══════════════╧══════════════╛\n"
     ]
    }
   ],
   "source": [
    "problem.info()"
   ]
  },
  {
   "cell_type": "markdown",
   "metadata": {},
   "source": [
    "Finally, we create our optimizer and optimize the system."
   ]
  },
  {
   "cell_type": "code",
   "execution_count": 10,
   "metadata": {},
   "outputs": [],
   "source": [
    "optimizer = optimization.OptimizerGeneric(problem)"
   ]
  },
  {
   "cell_type": "code",
   "execution_count": 11,
   "metadata": {},
   "outputs": [],
   "source": [
    "res = optimizer.optimize(tol=1e-6)"
   ]
  },
  {
   "cell_type": "markdown",
   "metadata": {},
   "source": [
    "We can optionally view the optimization output details. We see that the optimization was successful and that the function was called 140 times. On the author's computer, the optimization completed in 0.3 seconds."
   ]
  },
  {
   "cell_type": "code",
   "execution_count": 12,
   "metadata": {},
   "outputs": [
    {
     "data": {
      "text/plain": [
       "  message: CONVERGENCE: RELATIVE REDUCTION OF F <= FACTR*EPSMCH\n",
       "  success: True\n",
       "   status: 0\n",
       "      fun: 4.610224594082534e-12\n",
       "        x: [ 3.312e-05 -2.164e-10 -4.314e-10  9.576e-03]\n",
       "      nit: 5\n",
       "      jac: [ 1.026e-07  9.535e-14  0.000e+00 -2.927e-04]\n",
       "     nfev: 140\n",
       "     njev: 28\n",
       " hess_inv: <4x4 LbfgsInvHessProduct with dtype=float64>"
      ]
     },
     "execution_count": 12,
     "metadata": {},
     "output_type": "execute_result"
    }
   ],
   "source": [
    "res"
   ]
  },
  {
   "cell_type": "markdown",
   "metadata": {},
   "source": [
    "We now view the optimization problem result. The optimization was indeed a success and we see that our operand has the target value of ≈1.618."
   ]
  },
  {
   "cell_type": "code",
   "execution_count": 13,
   "metadata": {},
   "outputs": [
    {
     "name": "stdout",
     "output_type": "stream",
     "text": [
      "╒════╤════════════════════════╤═══════════════════╕\n",
      "│    │   Merit Function Value │   Improvement (%) │\n",
      "╞════╪════════════════════════╪═══════════════════╡\n",
      "│  0 │            4.61022e-12 │               100 │\n",
      "╘════╧════════════════════════╧═══════════════════╛\n",
      "╒════╤════════════════╤══════════╤══════════════╤══════════════╤══════════╤═════════╤═════════╤════════════════╕\n",
      "│    │ Operand Type   │   Target │ Min. Bound   │ Max. Bound   │   Weight │   Value │   Delta │   Contrib. [%] │\n",
      "╞════╪════════════════╪══════════╪══════════════╪══════════════╪══════════╪═════════╪═════════╪════════════════╡\n",
      "│  0 │ ellipse ratio  │    1.618 │              │              │        1 │   1.618 │       0 │            100 │\n",
      "╘════╧════════════════╧══════════╧══════════════╧══════════════╧══════════╧═════════╧═════════╧════════════════╛\n",
      "╒════╤══════════════════╤═══════════╤══════════════╤══════════════╤══════════════╕\n",
      "│    │ Variable Type    │   Surface │        Value │ Min. Bound   │ Max. Bound   │\n",
      "╞════╪══════════════════╪═══════════╪══════════════╪══════════════╪══════════════╡\n",
      "│  0 │ polynomial_coeff │         1 │  3.31221e-05 │              │              │\n",
      "│  1 │ polynomial_coeff │         1 │ -2.16406e-10 │              │              │\n",
      "│  2 │ polynomial_coeff │         1 │ -4.31446e-10 │              │              │\n",
      "│  3 │ polynomial_coeff │         1 │  0.00957621  │              │              │\n",
      "╘════╧══════════════════╧═══════════╧══════════════╧══════════════╧══════════════╛\n"
     ]
    }
   ],
   "source": [
    "problem.info()"
   ]
  },
  {
   "cell_type": "markdown",
   "metadata": {},
   "source": [
    "Lastly, let's view the spot diagram to see if it truly appears elliptical."
   ]
  },
  {
   "cell_type": "code",
   "execution_count": 14,
   "metadata": {},
   "outputs": [
    {
     "data": {
      "image/png": "[encoded data removed]",
      "text/plain": [
       "<Figure size 1200x400 with 1 Axes>"
      ]
     },
     "metadata": {},
     "output_type": "display_data"
    }
   ],
   "source": [
    "spot = analysis.SpotDiagram(lens, num_rings=15)\n",
    "spot.view()"
   ]
  },
  {
   "cell_type": "markdown",
   "metadata": {},
   "source": [
    "Conclusions:\n",
    "\n",
    "- This tutorial showed how to define a custom optimization operand in Optiland and how to use it within an optimization problem.\n",
    "- The operand registry defines all optimization operands in Optiland. Adding a user-defined operand to this registry makes it available for optimization.\n",
    "- An operand function requires only that a scalar output value is generated. The function may have any number of input arguments. The values of the input arguments must be passed as input data to the operand when it is defined for the optimization problem.\n",
    "- Following the steps here, any arbitrary operand can be optimized within Optiland."
   ]
  }
 ],
 "metadata": {
  "kernelspec": {
   "display_name": ".venv",
   "language": "python",
   "name": "python3"
  },
  "language_info": {
   "codemirror_mode": {
    "name": "ipython",
    "version": 3
   },
   "file_extension": ".py",
   "mimetype": "text/x-python",
   "name": "python",
   "nbconvert_exporter": "python",
   "pygments_lexer": "ipython3",
   "version": "3.13.2"
  }
 },
 "nbformat": 4,
 "nbformat_minor": 2
}
