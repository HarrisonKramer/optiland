{
 "cells": [
  {
   "cell_type": "markdown",
   "metadata": {},
   "source": [
    "## Zernike Phase Example\n",
    "\n",
    "This notebook demonstrates how to create a surface with a Zernike phase profile."
   ]
  },
  {
   "cell_type": "code",
   "execution_count": null,
   "metadata": {},
   "outputs": [],
   "source": [
    "from optiland import Optic, IdealMaterial, be\n",
    "from optiland.phase.zernike import ZernikePhaseProfile\n",
    "from optiland.zernike import Zernike\n",
    "\n",
    "optic = Optic()\n",
    "optic.add_surface(index=0, radius=be.inf, thickness=be.inf)\n",
    "\n",
    "zernike = Zernike(coefficients={5: 1.0})\n",
    "phase_profile = ZernikePhaseProfile(zernike=zernike, radius=5.0)\n",
    "\n",
    "optic.add_surface(\n",
    "    index=1,\n",
    "    surface_type=\"plane\",\n",
    "    interaction_type=\"phase\",\n",
    "    phase_profile=phase_profile,\n",
    "    is_stop=True,\n",
    "    material=\"air\",\n",
    "    thickness=100.0,\n",
    ")\n",
    "optic.add_surface(index=2)\n",
    "\n",
    "optic.add_wavelength(0.55)\n",
    "optic.set_field_type(\"angle\")\n",
    "optic.add_field(0)\n",
    "optic.set_aperture(\"EPD\", 10.0)\n",
    "\n",
    "optic.draw();"
   ]
  }
 ],
 "metadata": {
  "kernelspec": {
   "display_name": "Python 3",
   "language": "python",
   "name": "python3"
  },
  "language_info": {
   "codemirror_mode": {
    "name": "ipython",
    "version": 3
   },
   "file_extension": ".py",
   "mimetype": "text/x-python",
   "name": "python",
   "nbconvert_exporter": "python",
   "pygments_lexer": "ipython3",
   "version": "3.12.12"
  }
 },
 "nbformat": 4,
 "nbformat_minor": 2
}
