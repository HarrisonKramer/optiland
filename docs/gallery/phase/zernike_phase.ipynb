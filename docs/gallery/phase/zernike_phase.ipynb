{
 "cells": [
  {
   "cell_type": "markdown",
   "metadata": {},
   "source": [
    "## Zernike Phase\n",
    "\n",
    "This notebook demonstrates how to create a surface with a Zernike phase profile."
   ]
  },
  {
   "cell_type": "code",
   "execution_count": 1,
   "metadata": {},
   "outputs": [],
   "source": [
    "from optiland.optic import Optic\n",
    "import optiland.backend as be\n",
    "from optiland.phase import ZernikePhaseProfile"
   ]
  },
  {
   "cell_type": "code",
   "execution_count": null,
   "metadata": {},
   "outputs": [],
   "source": [
    "optic = Optic()\n",
    "optic.add_surface(index=0, radius=be.inf, thickness=be.inf)\n",
    "\n",
    "# Create a Zernike phase profile with a single coefficient for defocus\n",
    "zernike_profile = ZernikePhaseProfile(\n",
    "    zernike_type=\"fringe\",\n",
    "    coefficients=[0, 0, 0, 1e-3],\n",
    "    norm_radius=10.0\n",
    ")\n",
    "\n",
    "optic.add_surface(\n",
    "    index=1,\n",
    "    phase_profile=zernike_profile,\n",
    "    is_stop=True,\n",
    "    material=\"SF2\",\n",
    "    thickness=10.0,\n",
    ")\n",
    "\n",
    "optic.add_surface(index=2, thickness=110.0)\n",
    "optic.add_surface(index=3)\n",
    "\n",
    "optic.add_wavelength(0.55)\n",
    "optic.set_field_type(\"angle\")\n",
    "optic.add_field(0)\n",
    "optic.set_aperture(\"EPD\", 50.0)\n",
    "\n",
    "_ = optic.draw(wavelengths=[0.45, 0.55, 0.65], num_rays=3)"
   ]
  },
  {
   "cell_type": "code",
   "execution_count": null,
   "metadata": {},
   "outputs": [],
   "source": []
  }
 ],
 "metadata": {
  "kernelspec": {
   "display_name": "optiland (3.13.2)",
   "language": "python",
   "name": "python3"
  },
  "language_info": {
   "codemirror_mode": {
    "name": "ipython",
    "version": 3
   },
   "file_extension": ".py",
   "mimetype": "text/x-python",
   "name": "python",
   "nbconvert_exporter": "python",
   "pygments_lexer": "ipython3",
   "version": "3.13.2"
  }
 },
 "nbformat": 4,
 "nbformat_minor": 2
}
