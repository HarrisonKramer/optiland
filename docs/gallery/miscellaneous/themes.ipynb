{
 "cells": [
  {
   "cell_type": "markdown",
   "metadata": {},
   "source": [
    "# Visualization Themes\\n",
    "This notebook demonstrates how to change the visualization theme in Optiland."
   ]
  },
  {
   "cell_type": "code",
   "execution_count": 1,
   "metadata": {},
   "outputs": [],
   "source": [
    "import numpy as np\\n",
    "\\n",
    "from optiland import analysis, mtf, optic, psf, wavefront, visualization"
   ]
  },
  {
   "cell_type": "code",
   "execution_count": 2,
   "metadata": {},
   "outputs": [],
   "source": [
    "lens = optic.Optic()\\n",
    "\\n",
    "lens.add_surface(index=0, radius=np.inf, thickness=np.inf)\\n",
    "lens.add_surface(index=1, radius=22.01359, thickness=3.25896, material=\\"SK16\\")\\n",
    "lens.add_surface(index=2, radius=-435.76044, thickness=6.00755)\\n",
    "lens.add_surface(\\n",
    "    index=3,\\n",
    "    radius=-22.21328,\\n",
    "    thickness=0.99997,\\n",
    "    material=(\\"F2\\", \\"schott\\"),\\n",
    ")\\n",
    "lens.add_surface(index=4, radius=20.29192, thickness=4.75041, is_stop=True)\\n",
    "lens.add_surface(index=5, radius=79.68360, thickness=2.95208, material=\\"SK16\\")\\n",
    "lens.add_surface(index=6, radius=-18.39533, thickness=42.20778)\\n",
    "lens.add_surface(index=7)\\n",
    "\\n",
    "# add aperture\\n",
    "lens.set_aperture(aperture_type=\\"EPD\\", value=10)\\n",
    "\\n",
    "# add field\\n",
    "lens.set_field_type(field_type=\\"angle\\")\\n",
    "lens.add_field(y=0)\\n",
    "lens.add_field(y=14)\\n",
    "lens.add_field(y=20)\\n",
    "\\n",
    "# add wavelength\\n",
    "lens.add_wavelength(value=0.48)\\n",
    "lens.add_wavelength(value=0.55, is_primary=True)\\n",
    "lens.add_wavelength(value=0.65)\\n",
    "\\n",
    "lens.update_paraxial()"
   ]
  },
  {
   "cell_type": "markdown",
   "metadata": {},
   "source": [
    "## Available Themes"
   ]
  },
  {
   "cell_type": "code",
   "metadata": {},
   "outputs": [],
   "source": [
    "print(visualization.themes.list_themes())"
   ]
  },
  {
   "cell_type": "markdown",
   "metadata": {},
   "source": [
    "## Applying Themes"
   ]
  },
  {
   "cell_type": "code",
   "metadata": {},
   "source": [
    "for theme in visualization.themes.list_themes():\\n",
    "    with visualization.theme_context(theme):\\n",
    "        fig = lens.draw()\\n",
    "        fig.suptitle(f'Theme: {theme}')"
   ]
  },
    {
   "cell_type": "markdown",
   "metadata": {},
   "source": [
    "## Custom Themes\\n",
    "You can also create and register your own custom themes."
   ]
  },
  {
   "cell_type": "code",
   "metadata": {},
   "source": [
    "custom_theme = {\\n",
    "    'rays': '#FF00FF',\\n",
    "    'surface': '#00FFFF',\\n",
    "    'background': '#333333',\\n",
    "    'text': '#FFFFFF',\\n",
    "}\\n",
    "visualization.themes.register_theme('custom', custom_theme)\\n",
    "with visualization.theme_context('custom'):\\n",
    "    fig = lens.draw()\\n",
    "    fig.suptitle('Custom Theme')"
   ]
  }
 ],
 "metadata": {
  "kernelspec": {
   "display_name": ".venv",
   "language": "python",
   "name": "python3"
  },
  "language_info": {
   "codemirror_mode": {
    "name": "ipython",
    "version": 3
   },
   "file_extension": ".py",
   "mimetype": "text/x-python",
   "name": "python",
   "nbconvert_exporter": "python",
   "pygments_lexer": "ipython3",
   "version": "3.12.4"
  }
 },
 "nbformat": 4,
 "nbformat_minor": 2
}
