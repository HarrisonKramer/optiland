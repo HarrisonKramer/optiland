{
 "cells": [
  {
   "cell_type": "markdown",
   "metadata": {},
   "source": [
    "# Beam Expander Design"
   ]
  },
  {
   "cell_type": "code",
   "execution_count": 1,
   "metadata": {},
   "outputs": [],
   "source": [
    "import numpy as np\n",
    "\n",
    "from optiland import optic, optimization"
   ]
  },
  {
   "cell_type": "markdown",
   "metadata": {},
   "source": [
    "Define a starting lens:"
   ]
  },
  {
   "cell_type": "code",
   "execution_count": 2,
   "metadata": {},
   "outputs": [
    {
     "data": {
      "image/png": "[encoded data removed]",
      "text/plain": [
       "<Figure size 1000x400 with 1 Axes>"
      ]
     },
     "metadata": {},
     "output_type": "display_data"
    }
   ],
   "source": [
    "lens = optic.Optic()\n",
    "\n",
    "# define beam expander properties\n",
    "radius_start = 5\n",
    "radius_end = 15\n",
    "\n",
    "# add surfaces\n",
    "lens.add_surface(index=0, thickness=np.inf)\n",
    "lens.add_surface(index=1, thickness=5, radius=-50, material=\"N-BK7\", is_stop=True)\n",
    "lens.add_surface(index=2, thickness=75, radius=np.inf)\n",
    "lens.add_surface(index=3, thickness=5, radius=np.inf, material=\"N-BK7\")\n",
    "lens.add_surface(index=4, thickness=50, radius=-300)\n",
    "lens.add_surface(index=5)\n",
    "\n",
    "# set aperture\n",
    "lens.set_aperture(aperture_type=\"EPD\", value=2 * radius_start)\n",
    "\n",
    "# add field\n",
    "lens.set_field_type(field_type=\"angle\")\n",
    "lens.add_field(y=0)\n",
    "\n",
    "# add wavelength\n",
    "lens.add_wavelength(value=0.633, is_primary=True)\n",
    "\n",
    "# draw lens\n",
    "lens.draw(num_rays=5)"
   ]
  },
  {
   "cell_type": "markdown",
   "metadata": {},
   "source": [
    "Define optimization problem:"
   ]
  },
  {
   "cell_type": "code",
   "execution_count": 3,
   "metadata": {},
   "outputs": [],
   "source": [
    "problem = optimization.OptimizationProblem()"
   ]
  },
  {
   "cell_type": "markdown",
   "metadata": {},
   "source": [
    "Add operands (targets for optimization):"
   ]
  },
  {
   "cell_type": "code",
   "execution_count": null,
   "metadata": {},
   "outputs": [],
   "source": [
    "# Ray y-intersect at last lens surface\n",
    "input_data = {\n",
    "    \"optic\": lens,\n",
    "    \"surface_number\": 4,\n",
    "    \"Hx\": 0,\n",
    "    \"Hy\": 0,\n",
    "    \"Px\": 0,\n",
    "    \"Py\": 1,\n",
    "    \"wavelength\": 0.633,\n",
    "}\n",
    "problem.add_operand(\n",
    "    operand_type=\"real_y_intercept\",\n",
    "    target=radius_end,\n",
    "    weight=1,\n",
    "    input_data=input_data,\n",
    ")\n",
    "\n",
    "# Ray y-intersect at image surface\n",
    "input_data = {\n",
    "    \"optic\": lens,\n",
    "    \"surface_number\": 5,\n",
    "    \"Hx\": 0,\n",
    "    \"Hy\": 0,\n",
    "    \"Px\": 0,\n",
    "    \"Py\": 1,\n",
    "    \"wavelength\": 0.633,\n",
    "}\n",
    "problem.add_operand(\n",
    "    operand_type=\"real_y_intercept\",\n",
    "    target=radius_end,\n",
    "    weight=1,\n",
    "    input_data=input_data,\n",
    ")"
   ]
  },
  {
   "cell_type": "markdown",
   "metadata": {},
   "source": [
    "Define variables - let two radii of curvature vary:"
   ]
  },
  {
   "cell_type": "code",
   "execution_count": 5,
   "metadata": {},
   "outputs": [],
   "source": [
    "problem.add_variable(lens, \"radius\", surface_number=1)  # first surface of first lens\n",
    "problem.add_variable(lens, \"radius\", surface_number=4)  # second surface of second lens"
   ]
  },
  {
   "cell_type": "markdown",
   "metadata": {},
   "source": [
    "Check initial merit function value and system properties:"
   ]
  },
  {
   "cell_type": "code",
   "execution_count": 6,
   "metadata": {},
   "outputs": [
    {
     "name": "stdout",
     "output_type": "stream",
     "text": [
      "╒════╤════════════════════════╤═══════════════════╕\n",
      "│    │   Merit Function Value │   Improvement (%) │\n",
      "╞════╪════════════════════════╪═══════════════════╡\n",
      "│  0 │                 49.144 │                 0 │\n",
      "╘════╧════════════════════════╧═══════════════════╛\n",
      "╒════╤══════════════════╤══════════╤══════════╤══════════╤══════════╤════════════════════╕\n",
      "│    │ Operand Type     │   Target │   Weight │    Value │    Delta │   Contribution (%) │\n",
      "╞════╪══════════════════╪══════════╪══════════╪══════════╪══════════╪════════════════════╡\n",
      "│  0 │ real y intercept │       15 │        1 │  9.22613 │ -5.77387 │            67.8366 │\n",
      "│  1 │ real y intercept │       15 │        1 │ 11.0243  │ -3.97572 │            32.1634 │\n",
      "╘════╧══════════════════╧══════════╧══════════╧══════════╧══════════╧════════════════════╛\n",
      "╒════╤═════════════════╤═══════════╤═════════╤══════════════╤══════════════╕\n",
      "│    │ Variable Type   │   Surface │   Value │ Min. Bound   │ Max. Bound   │\n",
      "╞════╪═════════════════╪═══════════╪═════════╪══════════════╪══════════════╡\n",
      "│  0 │ radius          │         1 │     -50 │              │              │\n",
      "│  1 │ radius          │         4 │    -300 │              │              │\n",
      "╘════╧═════════════════╧═══════════╧═════════╧══════════════╧══════════════╛\n"
     ]
    }
   ],
   "source": [
    "problem.info()"
   ]
  },
  {
   "cell_type": "markdown",
   "metadata": {},
   "source": [
    "Define optimizer:"
   ]
  },
  {
   "cell_type": "code",
   "execution_count": 7,
   "metadata": {},
   "outputs": [],
   "source": [
    "optimizer = optimization.OptimizerGeneric(problem)"
   ]
  },
  {
   "cell_type": "markdown",
   "metadata": {},
   "source": [
    "Run optimization:"
   ]
  },
  {
   "cell_type": "code",
   "execution_count": 8,
   "metadata": {},
   "outputs": [
    {
     "data": {
      "text/plain": [
       "  message: CONVERGENCE: REL_REDUCTION_OF_F_<=_FACTR*EPSMCH\n",
       "  success: True\n",
       "   status: 0\n",
       "      fun: 2.2236952958197887e-12\n",
       "        x: [-1.214e+00 -1.641e+00]\n",
       "      nit: 19\n",
       "      jac: [-1.639e-04  2.945e-05]\n",
       "     nfev: 111\n",
       "     njev: 37\n",
       " hess_inv: <2x2 LbfgsInvHessProduct with dtype=float64>"
      ]
     },
     "execution_count": 8,
     "metadata": {},
     "output_type": "execute_result"
    }
   ],
   "source": [
    "optimizer.optimize(tol=1e-6)"
   ]
  },
  {
   "cell_type": "markdown",
   "metadata": {},
   "source": [
    "Print merit function value and system properties after optimization:"
   ]
  },
  {
   "cell_type": "code",
   "execution_count": 9,
   "metadata": {},
   "outputs": [
    {
     "name": "stdout",
     "output_type": "stream",
     "text": [
      "╒════╤════════════════════════╤═══════════════════╕\n",
      "│    │   Merit Function Value │   Improvement (%) │\n",
      "╞════╪════════════════════════╪═══════════════════╡\n",
      "│  0 │            2.51819e-12 │               100 │\n",
      "╘════╧════════════════════════╧═══════════════════╛\n",
      "╒════╤══════════════════╤══════════╤══════════╤═════════╤══════════════╤════════════════════╕\n",
      "│    │ Operand Type     │   Target │   Weight │   Value │        Delta │   Contribution (%) │\n",
      "╞════╪══════════════════╪══════════╪══════════╪═════════╪══════════════╪════════════════════╡\n",
      "│  0 │ real y intercept │       15 │        1 │      15 │ -7.01452e-07 │            19.5393 │\n",
      "│  1 │ real y intercept │       15 │        1 │      15 │ -1.42343e-06 │            80.4607 │\n",
      "╘════╧══════════════════╧══════════╧══════════╧═════════╧══════════════╧════════════════════╛\n",
      "╒════╤═════════════════╤═══════════╤══════════╤══════════════╤══════════════╕\n",
      "│    │ Variable Type   │   Surface │    Value │ Min. Bound   │ Max. Bound   │\n",
      "╞════╪═════════════════╪═══════════╪══════════╪══════════════╪══════════════╡\n",
      "│  0 │ radius          │         1 │ -21.3565 │              │              │\n",
      "│  1 │ radius          │         4 │ -64.0695 │              │              │\n",
      "╘════╧═════════════════╧═══════════╧══════════╧══════════════╧══════════════╛\n"
     ]
    }
   ],
   "source": [
    "problem.info()"
   ]
  },
  {
   "cell_type": "markdown",
   "metadata": {},
   "source": [
    "Draw final lens:"
   ]
  },
  {
   "cell_type": "code",
   "execution_count": 10,
   "metadata": {},
   "outputs": [
    {
     "data": {
      "image/png": "[encoded data removed]",
      "text/plain": [
       "<Figure size 1000x400 with 1 Axes>"
      ]
     },
     "metadata": {},
     "output_type": "display_data"
    }
   ],
   "source": [
    "lens.draw(num_rays=5)"
   ]
  }
 ],
 "metadata": {
  "kernelspec": {
   "display_name": ".venv",
   "language": "python",
   "name": "python3"
  },
  "language_info": {
   "codemirror_mode": {
    "name": "ipython",
    "version": 3
   },
   "file_extension": ".py",
   "mimetype": "text/x-python",
   "name": "python",
   "nbconvert_exporter": "python",
   "pygments_lexer": "ipython3",
   "version": "3.11.1"
  }
 },
 "nbformat": 4,
 "nbformat_minor": 2
}
