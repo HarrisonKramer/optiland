{
 "cells": [
  {
   "cell_type": "markdown",
   "metadata": {},
   "source": [
    "# Pickups"
   ]
  },
  {
   "cell_type": "markdown",
   "metadata": {},
   "source": [
    "Pickups define relationships between the components of a lens. For instance, in a singlet lens, the radii of curvature can be constrained to be equal in magnitude but opposite in sign."
   ]
  },
  {
   "cell_type": "code",
   "execution_count": 1,
   "metadata": {},
   "outputs": [],
   "source": [
    "import numpy as np\n",
    "\n",
    "from optiland import optic, optimization"
   ]
  },
  {
   "cell_type": "markdown",
   "metadata": {},
   "source": [
    "Define a starting lens:"
   ]
  },
  {
   "cell_type": "code",
   "execution_count": 2,
   "metadata": {},
   "outputs": [
    {
     "data": {
      "image/png": "[encoded data removed]",
      "text/plain": [
       "<Figure size 1000x400 with 1 Axes>"
      ]
     },
     "metadata": {},
     "output_type": "display_data"
    }
   ],
   "source": [
    "lens = optic.Optic()\n",
    "\n",
    "# add surfaces\n",
    "lens.add_surface(index=0, radius=np.inf, thickness=np.inf)\n",
    "lens.add_surface(index=1, radius=50, thickness=3, material=\"SK16\", is_stop=True)\n",
    "lens.add_surface(index=2, radius=-50, thickness=30)\n",
    "lens.add_surface(index=3)\n",
    "\n",
    "# set aperture\n",
    "lens.set_aperture(aperture_type=\"EPD\", value=10)\n",
    "\n",
    "# set fields\n",
    "lens.set_field_type(field_type=\"angle\")\n",
    "lens.add_field(y=0)\n",
    "\n",
    "# set wavelengths\n",
    "lens.add_wavelength(value=0.48)\n",
    "lens.add_wavelength(value=0.55, is_primary=True)\n",
    "lens.add_wavelength(value=0.65)\n",
    "\n",
    "lens.draw()"
   ]
  },
  {
   "cell_type": "markdown",
   "metadata": {},
   "source": [
    "Define pickups:"
   ]
  },
  {
   "cell_type": "code",
   "execution_count": null,
   "metadata": {},
   "outputs": [],
   "source": [
    "lens.pickups.add(\n",
    "    source_surface_idx=1,\n",
    "    attr_type=\"radius\",\n",
    "    target_surface_idx=2,\n",
    "    scale=-1,\n",
    "    offset=0,\n",
    ")"
   ]
  },
  {
   "cell_type": "markdown",
   "metadata": {},
   "source": [
    "Define optimization problem:"
   ]
  },
  {
   "cell_type": "code",
   "execution_count": 4,
   "metadata": {},
   "outputs": [],
   "source": [
    "problem = optimization.OptimizationProblem()"
   ]
  },
  {
   "cell_type": "markdown",
   "metadata": {},
   "source": [
    "Add operands (targets for optimization):"
   ]
  },
  {
   "cell_type": "code",
   "execution_count": null,
   "metadata": {},
   "outputs": [],
   "source": [
    "\"\"\"\n",
    "Add a wavefront error operand for all wavelengths.\n",
    "\n",
    "Use Gaussian quadrature distribution for the rays (see distribution documentation for\n",
    "more information).\n",
    "\"\"\"\n",
    "\n",
    "for wave in lens.wavelengths.get_wavelengths():\n",
    "    input_data = {\n",
    "        \"optic\": lens,\n",
    "        \"Hx\": 0,\n",
    "        \"Hy\": 0,\n",
    "        \"num_rays\": 3,\n",
    "        \"wavelength\": wave,\n",
    "        \"distribution\": \"gaussian_quad\",\n",
    "    }\n",
    "    problem.add_operand(\n",
    "        operand_type=\"OPD_difference\",\n",
    "        target=0,\n",
    "        weight=1,\n",
    "        input_data=input_data,\n",
    "    )"
   ]
  },
  {
   "cell_type": "markdown",
   "metadata": {},
   "source": [
    "Define variables - let first radius of curvature vary (the second surface will match this value, but with opposite sign):"
   ]
  },
  {
   "cell_type": "code",
   "execution_count": 6,
   "metadata": {},
   "outputs": [],
   "source": [
    "problem.add_variable(lens, \"radius\", surface_number=1)"
   ]
  },
  {
   "cell_type": "markdown",
   "metadata": {},
   "source": [
    "Check initial merit function value and system properties:"
   ]
  },
  {
   "cell_type": "code",
   "execution_count": 7,
   "metadata": {},
   "outputs": [
    {
     "name": "stdout",
     "output_type": "stream",
     "text": [
      "╒════╤════════════════════════╤═══════════════════╕\n",
      "│    │   Merit Function Value │   Improvement (%) │\n",
      "╞════╪════════════════════════╪═══════════════════╡\n",
      "│  0 │                3879.67 │                 0 │\n",
      "╘════╧════════════════════════╧═══════════════════╛\n",
      "╒════╤════════════════╤══════════╤══════════╤═════════╤═════════╤════════════════════╕\n",
      "│    │ Operand Type   │   Target │   Weight │   Value │   Delta │   Contribution (%) │\n",
      "╞════╪════════════════╪══════════╪══════════╪═════════╪═════════╪════════════════════╡\n",
      "│  0 │ OPD difference │        0 │        1 │ 40.0587 │ 40.0587 │            41.3618 │\n",
      "│  1 │ OPD difference │        0 │        1 │ 36.0072 │ 36.0072 │            33.4184 │\n",
      "│  2 │ OPD difference │        0 │        1 │ 31.2801 │ 31.2801 │            25.2198 │\n",
      "╘════╧════════════════╧══════════╧══════════╧═════════╧═════════╧════════════════════╛\n",
      "╒════╤═════════════════╤═══════════╤═════════╤══════════════╤══════════════╕\n",
      "│    │ Variable Type   │   Surface │   Value │ Min. Bound   │ Max. Bound   │\n",
      "╞════╪═════════════════╪═══════════╪═════════╪══════════════╪══════════════╡\n",
      "│  0 │ radius          │         1 │      50 │              │              │\n",
      "╘════╧═════════════════╧═══════════╧═════════╧══════════════╧══════════════╛\n"
     ]
    }
   ],
   "source": [
    "problem.info()"
   ]
  },
  {
   "cell_type": "markdown",
   "metadata": {},
   "source": [
    "Define optimizer:"
   ]
  },
  {
   "cell_type": "code",
   "execution_count": 8,
   "metadata": {},
   "outputs": [],
   "source": [
    "optimizer = optimization.OptimizerGeneric(problem)"
   ]
  },
  {
   "cell_type": "markdown",
   "metadata": {},
   "source": [
    "Run optimization:"
   ]
  },
  {
   "cell_type": "code",
   "execution_count": 9,
   "metadata": {},
   "outputs": [
    {
     "data": {
      "text/plain": [
       "  message: CONVERGENCE: REL_REDUCTION_OF_F_<=_FACTR*EPSMCH\n",
       "  success: True\n",
       "   status: 0\n",
       "      fun: 7.40021876171174\n",
       "        x: [-6.131e-01]\n",
       "      nit: 9\n",
       "      jac: [ 2.496e+02]\n",
       "     nfev: 58\n",
       "     njev: 29\n",
       " hess_inv: <1x1 LbfgsInvHessProduct with dtype=float64>"
      ]
     },
     "execution_count": 9,
     "metadata": {},
     "output_type": "execute_result"
    }
   ],
   "source": [
    "optimizer.optimize()"
   ]
  },
  {
   "cell_type": "markdown",
   "metadata": {},
   "source": [
    "Print merit function value and system properties after optimization:"
   ]
  },
  {
   "cell_type": "code",
   "execution_count": 10,
   "metadata": {},
   "outputs": [
    {
     "name": "stdout",
     "output_type": "stream",
     "text": [
      "╒════╤════════════════════════╤═══════════════════╕\n",
      "│    │   Merit Function Value │   Improvement (%) │\n",
      "╞════╪════════════════════════╪═══════════════════╡\n",
      "│  0 │                7.40022 │           99.8093 │\n",
      "╘════╧════════════════════════╧═══════════════════╛\n",
      "╒════╤════════════════╤══════════╤══════════╤══════════╤══════════╤════════════════════╕\n",
      "│    │ Operand Type   │   Target │   Weight │    Value │    Delta │   Contribution (%) │\n",
      "╞════╪════════════════╪══════════╪══════════╪══════════╪══════════╪════════════════════╡\n",
      "│  0 │ OPD difference │        0 │        1 │ 1.81071  │ 1.81071  │            44.3049 │\n",
      "│  1 │ OPD difference │        0 │        1 │ 0.899126 │ 0.899126 │            10.9244 │\n",
      "│  2 │ OPD difference │        0 │        1 │ 1.8202   │ 1.8202   │            44.7707 │\n",
      "╘════╧════════════════╧══════════╧══════════╧══════════╧══════════╧════════════════════╛\n",
      "╒════╤═════════════════╤═══════════╤═════════╤══════════════╤══════════════╕\n",
      "│    │ Variable Type   │   Surface │   Value │ Min. Bound   │ Max. Bound   │\n",
      "╞════╪═════════════════╪═══════════╪═════════╪══════════════╪══════════════╡\n",
      "│  0 │ radius          │         1 │ 38.6889 │              │              │\n",
      "╘════╧═════════════════╧═══════════╧═════════╧══════════════╧══════════════╛\n"
     ]
    }
   ],
   "source": [
    "problem.info()"
   ]
  },
  {
   "cell_type": "markdown",
   "metadata": {},
   "source": [
    "Draw final lens:"
   ]
  },
  {
   "cell_type": "code",
   "execution_count": 11,
   "metadata": {},
   "outputs": [
    {
     "data": {
      "image/png": "[encoded data removed]",
      "text/plain": [
       "<Figure size 1000x400 with 1 Axes>"
      ]
     },
     "metadata": {},
     "output_type": "display_data"
    }
   ],
   "source": [
    "lens.draw(num_rays=5)"
   ]
  },
  {
   "cell_type": "markdown",
   "metadata": {},
   "source": [
    "Confirm that the radii of curvature are equal and opposite:"
   ]
  },
  {
   "cell_type": "code",
   "execution_count": 12,
   "metadata": {},
   "outputs": [
    {
     "name": "stdout",
     "output_type": "stream",
     "text": [
      "╒════╤═════════════════╤══════════╤═════════════╤════════════╤═════════╤═════════════════╕\n",
      "│    │ Type            │   Radius │   Thickness │ Material   │   Conic │   Semi-aperture │\n",
      "╞════╪═════════════════╪══════════╪═════════════╪════════════╪═════════╪═════════════════╡\n",
      "│  0 │ Planar          │ inf      │         inf │ Air        │       0 │        5        │\n",
      "│  1 │ Stop - Standard │  38.6889 │           3 │ SK16       │       0 │        5        │\n",
      "│  2 │ Standard        │ -38.6889 │          30 │ Air        │       0 │        4.85123  │\n",
      "│  3 │ Planar          │ inf      │         nan │ Air        │       0 │        0.095248 │\n",
      "╘════╧═════════════════╧══════════╧═════════════╧════════════╧═════════╧═════════════════╛\n"
     ]
    }
   ],
   "source": [
    "lens.info()"
   ]
  }
 ],
 "metadata": {
  "kernelspec": {
   "display_name": ".venv",
   "language": "python",
   "name": "python3"
  },
  "language_info": {
   "codemirror_mode": {
    "name": "ipython",
    "version": 3
   },
   "file_extension": ".py",
   "mimetype": "text/x-python",
   "name": "python",
   "nbconvert_exporter": "python",
   "pygments_lexer": "ipython3",
   "version": "3.11.1"
  }
 },
 "nbformat": 4,
 "nbformat_minor": 2
}
