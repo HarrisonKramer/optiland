{
 "cells": [
  {
   "cell_type": "markdown",
   "metadata": {},
   "source": [
    "# Glass Expert Optimization Example\n",
    "\n",
    "This notebook demonstrates how to use the `GlassExpert` optimizer in Optiland to optimize an optical system with both continuous (e.g., radii, thicknesses) and categorical (glass types) variables."
   ]
  },
  {
   "cell_type": "code",
   "execution_count": null,
   "metadata": {},
   "outputs": [],
   "source": [
    "import matplotlib.pyplot as plt\n",
    "from IPython.display import display, clear_output\n",
    "\n",
    "import optiland.backend as be\n",
    "from optiland import optic, optimization\n",
    "from optiland.materials import glasses_selection\n",
    "from optiland.visualization import plot_optic_history_matplotlib, plot_error_history_matplotlib"
   ]
  },
  {
   "cell_type": "markdown",
   "metadata": {},
   "source": [
    "## 1. Define the Optical System\n",
    "\n",
    "We'll use a simple Cooke Triplet as the starting point for our optimization."
   ]
  },
  {
   "cell_type": "code",
   "execution_count": null,
   "metadata": {},
   "outputs": [],
   "source": [
    "class CookeTripletStartPoint(optic.Optic):\n",
    "    def __init__(self):\n",
    "        super().__init__()\n",
    "        self.add_surface(index=0, radius=be.inf, thickness=be.inf) # Object surface\n",
    "        self.add_surface(index=1, radius=25.0, thickness=2.5, material=\"N-BK7\")\n",
    "        self.add_surface(index=2, radius=-150.0, thickness=7.5)\n",
    "        self.add_surface(index=3, radius=-25.0, thickness=1.5, material=\"N-F2\") # Stop surface\n",
    "        self.add_surface(index=4, radius=25.0, thickness=5.0)\n",
    "        self.add_surface(index=5, radius=150.0, thickness=2.5, material=\"N-BK7\")\n",
    "        self.add_surface(index=6, radius=-25.0, thickness=40.0)\n",
    "        self.add_surface(index=7) # Image surface\n",
    "\n",
    "        self.surfaces[3].is_stop = True\n",
    "\n",
    "        self.set_aperture(aperture_type=\"EPD\", value=10)\n",
    "        self.set_field_type(field_type=\"angle\")\n",
    "        self.add_field(y=0)\n",
    "        self.add_field(y=5)\n",
    "        self.add_field(y=10)\n",
    "\n",
    "        self.add_wavelength(value=0.4861)  # F\n",
    "        self.add_wavelength(value=0.5876, is_primary=True)  # d\n",
    "        self.add_wavelength(value=0.6563)  # C\n",
    "\n",
    "lens_system = CookeTripletStartPoint()\n",
    "\n",
    "# Display initial lens\n",
    "fig_initial = lens_system.draw(title=\"Initial Cooke Triplet\")\n",
    "display(fig_initial)\n",
    "plt.close(fig_initial) # Close to prevent double display in some environments\n",
    "lens_system.info()"
   ]
  },
  {
   "cell_type": "markdown",
   "metadata": {},
   "source": [
    "## 2. Define the Optimization Problem\n",
    "\n",
    "We'll set up operands to minimize RMS spot size and maintain a target focal length. Variables will include radii, thicknesses, and the materials of the lenses."
   ]
  },
  {
   "cell_type": "code",
   "execution_count": null,
   "metadata": {},
   "outputs": [],
   "source": [
    "problem = optimization.OptimizationProblem(optic=lens_system)\n",
    "target_focal_length = 50.0\n",
    "\n",
    "# Operand: Effective Focal Length (EFL)\n",
    "problem.add_operand(\n",
    "    operand_type=\"effective_focal_length\",\n",
    "    target=target_focal_length,\n",
    "    weight=1.0\n",
    ")\n",
    "\n",
    "# Operands: RMS Spot Size for each field\n",
    "for field_coord in lens_system.fields.get_field_coords():\n",
    "    problem.add_operand(\n",
    "        operand_type=\"rms_spot_size\",\n",
    "        target=0.0,\n",
    "        weight=10.0,\n",
    "        input_data={\n",
    "            \"optic\": lens_system,\n",
    "            \"surface_number\": lens_system.surfaces.last_surface_index,\n",
    "            \"Hx\": field_coord[0],\n",
    "            \"Hy\": field_coord[1],\n",
    "            \"num_rays\": 16, # Rays on one axis for 'uniform' distribution\n",
    "            \"wavelength\": lens_system.wavelengths.primary_wavelength.value,\n",
    "            \"distribution\": \"uniform\"\n",
    "        }\n",
    "    )\n",
    "\n",
    "# Variables: Radii\n",
    "problem.add_variable(lens_system, \"radius\", surface_number=1, min_val=10, max_val=100)\n",
    "problem.add_variable(lens_system, \"radius\", surface_number=2, min_val=-200, max_val=-20)\n",
    "problem.add_variable(lens_system, \"radius\", surface_number=3, min_val=-100, max_val=-10)\n",
    "problem.add_variable(lens_system, \"radius\", surface_number=4, min_val=10, max_val=100)\n",
    "problem.add_variable(lens_system, \"radius\", surface_number=5, min_val=20, max_val=200)\n",
    "problem.add_variable(lens_system, \"radius\", surface_number=6, min_val=-100, max_val=-10)\n",
    "\n",
    "# Variables: Thicknesses (air and glass)\n",
    "problem.add_variable(lens_system, \"thickness\", surface_number=1, min_val=1, max_val=5) # Lens 1 thickness\n",
    "problem.add_variable(lens_system, \"thickness\", surface_number=2, min_val=1, max_val=15) # Air space 1\n",
    "problem.add_variable(lens_system, \"thickness\", surface_number=3, min_val=1, max_val=5) # Lens 2 thickness\n",
    "problem.add_variable(lens_system, \"thickness\", surface_number=4, min_val=1, max_val=15) # Air space 2\n",
    "problem.add_variable(lens_system, \"thickness\", surface_number=5, min_val=1, max_val=5) # Lens 3 thickness\n",
    "problem.add_variable(lens_system, \"thickness\", surface_number=6, min_val=30, max_val=60) # Back focal length (approx)\n",
    "\n",
    "# Variables: Materials (using Glass Expert)\n",
    "available_glasses = glasses_selection(min_nd=1.45, max_nd=1.95, min_vd=20, max_vd=70, catalogs=[\"schott\", \"ohara_common\"])\n",
    "problem.add_variable(lens_system, \"material\", surface_number=1, glass_selection=available_glasses)\n",
    "problem.add_variable(lens_system, \"material\", surface_number=3, glass_selection=available_glasses)\n",
    "problem.add_variable(lens_system, \"material\", surface_number=5, glass_selection=available_glasses)\n",
    "\n",
    "problem.info()"
   ]
  },
  {
   "cell_type": "markdown",
   "metadata": {},
   "source": [
    "## 3. Run the Glass Expert Optimization"
   ]
  },
  {
   "cell_type": "code",
   "execution_count": null,
   "metadata": {},
   "outputs": [],
   "source": [
    "optimizer = optimization.GlassExpert(problem)\n",
    "\n",
    "optic_history = []\n",
    "error_history = []\n",
    "\n",
    "# Create display handles for updating plots live\n",
    "lens_disp_handle = display(display_id=True)\n",
    "error_disp_handle = display(display_id=True)\n",
    "\n",
    "def optimization_callback(*args):\n",
    "    # Store current state for plotting history\n",
    "    optic_history.append(lens_system.copy())\n",
    "    error_history.append(optimizer.problem.sum_squared())\n",
    "    \n",
    "    # Update lens plot (optional, can slow down optimization)\n",
    "    # if len(optic_history) % 5 == 0: # Update every 5 iterations\n",
    "    #     fig_lens = plot_optic_history_matplotlib(optic_history, iteration=-1, title_comment=\"Optimizing...\")\n",
    "    #     lens_disp_handle.update(fig_lens)\n",
    "    #     plt.close(fig_lens)\n",
    "    \n",
    "    # Update error plot\n",
    "    fig_error = plot_error_history_matplotlib(error_history)\n",
    "    error_disp_handle.update(fig_error)\n",
    "    plt.close(fig_error)\n",
    "    \n",
    "    # Clear previous lens plot output to save space if not updating it every time\n",
    "    # lens_disp_handle.update(None) \n",
    "    clear_output(wait=True) # Clears all previous outputs, use with caution or refine display updates\n",
    "\n",
    "print(f\"Initial Merit Function: {problem.initial_value:.4f}\")\n",
    "\n",
    "result = optimizer.run(\n",
    "    num_neighbours=5,  # Reduced for faster example\n",
    "    maxiter=50,        # Reduced for faster example\n",
    "    tol=1e-4,\n",
    "    callback=optimization_callback,\n",
    "    verbose=True,\n",
    "    plot_glass_map=False # Disable glass map plotting for gallery example\n",
    ")\n",
    "\n",
    "# Final plots after optimization\n",
    "clear_output(wait=True)\n",
    "fig_final_lens = lens_system.draw(title=f\"Optimized Cooke Triplet (Merit: {result.fun:.4f})\")\n",
    "display(fig_final_lens)\n",
    "plt.close(fig_final_lens)\n",
    "\n",
    "if error_history:\n",
    "    fig_final_error = plot_error_history_matplotlib(error_history, title=\"Merit Function Evolution\")\n",
    "    display(fig_final_error)\n",
    "    plt.close(fig_final_error)\n",
    "\n",
    "lens_system.info()\n",
    "print(f\"\\nFinal glasses: {[v.value for v in problem.variables if v.type == 'material']}\")"
   ]
  },
  {
   "cell_type": "markdown",
   "metadata": {},
   "source": [
    "## 4. Analyze Results\n",
    "\n",
    "The plots above show the lens system before and after optimization, and the evolution of the merit function. The `GlassExpert` helps in finding a good combination of real glasses from the provided catalog, alongside optimizing the continuous parameters."
   ]
  }
 ],
 "metadata": {
  "kernelspec": {
   "display_name": "Python 3 (ipykernel)",
   "language": "python",
   "name": "python3"
  },
  "language_info": {
   "codemirror_mode": {
    "name": "ipython",
    "version": 3
   },
   "file_extension": ".py",
   "mimetype": "text/x-python",
   "name": "python",
   "nbconvert_exporter": "python",
   "pygments_lexer": "ipython3",
   "version": "3.11.7"
  }
 },
 "nbformat": 4,
 "nbformat_minor": 5
}
