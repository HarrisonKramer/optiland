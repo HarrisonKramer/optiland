{
 "cells": [
  {
   "cell_type": "markdown",
   "id": "540ba6c2",
   "metadata": {},
   "source": [
    "# Optiland Backend Consistency Check\n",
    "Compare NumPy vs Torch results for `optic.trace_generic`.\n"
   ]
  },
  {
   "cell_type": "code",
   "execution_count": 6,
   "id": "f777627b",
   "metadata": {},
   "outputs": [],
   "source": [
    "import numpy as np\n",
    "import optiland.backend as be\n",
    "from optiland.samples.objectives import TripletTelescopeObjective"
   ]
  },
  {
   "cell_type": "code",
   "execution_count": 7,
   "id": "15097d79",
   "metadata": {},
   "outputs": [],
   "source": [
    "optic = TripletTelescopeObjective()\n",
    "wavelength = optic.primary_wavelength"
   ]
  },
  {
   "cell_type": "code",
   "execution_count": 8,
   "id": "de9da067",
   "metadata": {},
   "outputs": [],
   "source": [
    "num_points = 10\n",
    "max_field = np.sqrt(2) / 2\n",
    "extent = np.linspace(-max_field, max_field, num_points)\n",
    "Hx_np, Hy_np = np.meshgrid(extent, extent)\n",
    "flat_Hx = Hx_np.flatten()\n",
    "flat_Hy = Hy_np.flatten()"
   ]
  },
  {
   "cell_type": "markdown",
   "id": "bdd1dc73",
   "metadata": {},
   "source": [
    "## NumPy backend trace"
   ]
  },
  {
   "cell_type": "code",
   "execution_count": 12,
   "id": "37da46fa",
   "metadata": {},
   "outputs": [
    {
     "ename": "TypeError",
     "evalue": "Concatenation operation is not implemented for NumPy arrays, use np.concatenate() instead. Please do not rely on this error; it may not be given on all Python implementations.",
     "output_type": "error",
     "traceback": [
      "\u001b[1;31m---------------------------------------------------------------------------\u001b[0m",
      "\u001b[1;31mTypeError\u001b[0m                                 Traceback (most recent call last)",
      "Cell \u001b[1;32mIn[12], line 8\u001b[0m\n\u001b[0;32m      5\u001b[0m Hx_be \u001b[38;5;241m=\u001b[39m be\u001b[38;5;241m.\u001b[39marray(flat_Hx)\n\u001b[0;32m      6\u001b[0m Hy_be \u001b[38;5;241m=\u001b[39m be\u001b[38;5;241m.\u001b[39marray(flat_Hy)\n\u001b[1;32m----> 8\u001b[0m \u001b[43moptic\u001b[49m\u001b[38;5;241;43m.\u001b[39;49m\u001b[43mtrace_generic\u001b[49m\u001b[43m(\u001b[49m\u001b[43mHx\u001b[49m\u001b[38;5;241;43m=\u001b[39;49m\u001b[43mHx_be\u001b[49m\u001b[43m,\u001b[49m\u001b[43m \u001b[49m\u001b[43mHy\u001b[49m\u001b[38;5;241;43m=\u001b[39;49m\u001b[43mHy_be\u001b[49m\u001b[43m,\u001b[49m\u001b[43m \u001b[49m\u001b[43mPx\u001b[49m\u001b[38;5;241;43m=\u001b[39;49m\u001b[38;5;241;43m0\u001b[39;49m\u001b[43m,\u001b[49m\u001b[43m \u001b[49m\u001b[43mPy\u001b[49m\u001b[38;5;241;43m=\u001b[39;49m\u001b[38;5;241;43m0\u001b[39;49m\u001b[43m,\u001b[49m\u001b[43m \u001b[49m\u001b[43mwavelength\u001b[49m\u001b[38;5;241;43m=\u001b[39;49m\u001b[43mwavelength\u001b[49m\u001b[43m)\u001b[49m\n\u001b[0;32m      9\u001b[0m y_np \u001b[38;5;241m=\u001b[39m optic\u001b[38;5;241m.\u001b[39msurface_group\u001b[38;5;241m.\u001b[39my[\u001b[38;5;241m-\u001b[39m\u001b[38;5;241m1\u001b[39m, :]\u001b[38;5;241m.\u001b[39mcopy()\n",
      "File \u001b[1;32mc:\\Users\\mambf\\OneDrive\\Desktop\\Workspace\\Projects\\_Optiland_dev\\_Optiland\\optiland\\optiland\\optic\\optic.py:435\u001b[0m, in \u001b[0;36mOptic.trace_generic\u001b[1;34m(self, Hx, Hy, Px, Py, wavelength)\u001b[0m\n\u001b[0;32m    424\u001b[0m \u001b[38;5;28;01mdef\u001b[39;00m\u001b[38;5;250m \u001b[39m\u001b[38;5;21mtrace_generic\u001b[39m(\u001b[38;5;28mself\u001b[39m, Hx, Hy, Px, Py, wavelength):\n\u001b[0;32m    425\u001b[0m \u001b[38;5;250m    \u001b[39m\u001b[38;5;124;03m\"\"\"Trace generic rays through the optical system.\u001b[39;00m\n\u001b[0;32m    426\u001b[0m \n\u001b[0;32m    427\u001b[0m \u001b[38;5;124;03m    Args:\u001b[39;00m\n\u001b[1;32m   (...)\u001b[0m\n\u001b[0;32m    433\u001b[0m \n\u001b[0;32m    434\u001b[0m \u001b[38;5;124;03m    \"\"\"\u001b[39;00m\n\u001b[1;32m--> 435\u001b[0m     \u001b[38;5;28;01mreturn\u001b[39;00m \u001b[38;5;28;43mself\u001b[39;49m\u001b[38;5;241;43m.\u001b[39;49m\u001b[43mray_tracer\u001b[49m\u001b[38;5;241;43m.\u001b[39;49m\u001b[43mtrace_generic\u001b[49m\u001b[43m(\u001b[49m\u001b[43mHx\u001b[49m\u001b[43m,\u001b[49m\u001b[43m \u001b[49m\u001b[43mHy\u001b[49m\u001b[43m,\u001b[49m\u001b[43m \u001b[49m\u001b[43mPx\u001b[49m\u001b[43m,\u001b[49m\u001b[43m \u001b[49m\u001b[43mPy\u001b[49m\u001b[43m,\u001b[49m\u001b[43m \u001b[49m\u001b[43mwavelength\u001b[49m\u001b[43m)\u001b[49m\n",
      "File \u001b[1;32mc:\\Users\\mambf\\OneDrive\\Desktop\\Workspace\\Projects\\_Optiland_dev\\_Optiland\\optiland\\optiland\\raytrace\\real_ray_tracer.py:85\u001b[0m, in \u001b[0;36mRealRayTracer.trace_generic\u001b[1;34m(self, Hx, Hy, Px, Py, wavelength)\u001b[0m\n\u001b[0;32m      0\u001b[0m <Error retrieving source code with stack_data see ipython/ipython#13598>\n",
      "File \u001b[1;32mc:\\Users\\mambf\\OneDrive\\Desktop\\Workspace\\Projects\\_Optiland_dev\\_Optiland\\optiland\\optiland\\rays\\ray_generator.py:37\u001b[0m, in \u001b[0;36mRayGenerator.generate_rays\u001b[1;34m(self, Hx, Hy, Px, Py, wavelength)\u001b[0m\n\u001b[0;32m     35\u001b[0m vx \u001b[38;5;241m=\u001b[39m \u001b[38;5;241m1\u001b[39m \u001b[38;5;241m-\u001b[39m be\u001b[38;5;241m.\u001b[39marray(vxf)\n\u001b[0;32m     36\u001b[0m vy \u001b[38;5;241m=\u001b[39m \u001b[38;5;241m1\u001b[39m \u001b[38;5;241m-\u001b[39m be\u001b[38;5;241m.\u001b[39marray(vyf)\n\u001b[1;32m---> 37\u001b[0m x0, y0, z0 \u001b[38;5;241m=\u001b[39m \u001b[38;5;28;43mself\u001b[39;49m\u001b[38;5;241;43m.\u001b[39;49m\u001b[43m_get_ray_origins\u001b[49m\u001b[43m(\u001b[49m\u001b[43mHx\u001b[49m\u001b[43m,\u001b[49m\u001b[43m \u001b[49m\u001b[43mHy\u001b[49m\u001b[43m,\u001b[49m\u001b[43m \u001b[49m\u001b[43mPx\u001b[49m\u001b[43m,\u001b[49m\u001b[43m \u001b[49m\u001b[43mPy\u001b[49m\u001b[43m,\u001b[49m\u001b[43m \u001b[49m\u001b[43mvx\u001b[49m\u001b[43m,\u001b[49m\u001b[43m \u001b[49m\u001b[43mvy\u001b[49m\u001b[43m)\u001b[49m\n\u001b[0;32m     39\u001b[0m \u001b[38;5;28;01mif\u001b[39;00m \u001b[38;5;28mself\u001b[39m\u001b[38;5;241m.\u001b[39moptic\u001b[38;5;241m.\u001b[39mobj_space_telecentric:\n\u001b[0;32m     40\u001b[0m     \u001b[38;5;28;01mif\u001b[39;00m \u001b[38;5;28mself\u001b[39m\u001b[38;5;241m.\u001b[39moptic\u001b[38;5;241m.\u001b[39mfield_type \u001b[38;5;241m==\u001b[39m \u001b[38;5;124m\"\u001b[39m\u001b[38;5;124mangle\u001b[39m\u001b[38;5;124m\"\u001b[39m:\n",
      "File \u001b[1;32mc:\\Users\\mambf\\OneDrive\\Desktop\\Workspace\\Projects\\_Optiland_dev\\_Optiland\\optiland\\optiland\\rays\\ray_generator.py:116\u001b[0m, in \u001b[0;36mRayGenerator._get_ray_origins\u001b[1;34m(self, Hx, Hy, Px, Py, vx, vy)\u001b[0m\n\u001b[0;32m    112\u001b[0m \u001b[38;5;28;01mif\u001b[39;00m \u001b[38;5;28mself\u001b[39m\u001b[38;5;241m.\u001b[39moptic\u001b[38;5;241m.\u001b[39mobj_space_telecentric:\n\u001b[0;32m    113\u001b[0m     \u001b[38;5;28;01mraise\u001b[39;00m \u001b[38;5;167;01mValueError\u001b[39;00m(\n\u001b[0;32m    114\u001b[0m         \u001b[38;5;124m\"\u001b[39m\u001b[38;5;124mObject space cannot be telecentric for an object at infinity.\u001b[39m\u001b[38;5;124m\"\u001b[39m,\n\u001b[0;32m    115\u001b[0m     )\n\u001b[1;32m--> 116\u001b[0m EPL \u001b[38;5;241m=\u001b[39m \u001b[38;5;28;43mself\u001b[39;49m\u001b[38;5;241;43m.\u001b[39;49m\u001b[43moptic\u001b[49m\u001b[38;5;241;43m.\u001b[39;49m\u001b[43mparaxial\u001b[49m\u001b[38;5;241;43m.\u001b[39;49m\u001b[43mEPL\u001b[49m\u001b[43m(\u001b[49m\u001b[43m)\u001b[49m\n\u001b[0;32m    117\u001b[0m EPD \u001b[38;5;241m=\u001b[39m \u001b[38;5;28mself\u001b[39m\u001b[38;5;241m.\u001b[39moptic\u001b[38;5;241m.\u001b[39mparaxial\u001b[38;5;241m.\u001b[39mEPD()\n\u001b[0;32m    119\u001b[0m offset \u001b[38;5;241m=\u001b[39m \u001b[38;5;28mself\u001b[39m\u001b[38;5;241m.\u001b[39m_get_starting_z_offset()\n",
      "File \u001b[1;32mc:\\Users\\mambf\\OneDrive\\Desktop\\Workspace\\Projects\\_Optiland_dev\\_Optiland\\optiland\\optiland\\paraxial.py:140\u001b[0m, in \u001b[0;36mParaxial.EPL\u001b[1;34m(self)\u001b[0m\n\u001b[0;32m    138\u001b[0m stop_index \u001b[38;5;241m=\u001b[39m \u001b[38;5;28mself\u001b[39m\u001b[38;5;241m.\u001b[39msurfaces\u001b[38;5;241m.\u001b[39mstop_index\n\u001b[0;32m    139\u001b[0m \u001b[38;5;28;01mif\u001b[39;00m stop_index \u001b[38;5;241m==\u001b[39m \u001b[38;5;241m1\u001b[39m:\n\u001b[1;32m--> 140\u001b[0m     \u001b[38;5;28;01mreturn\u001b[39;00m \u001b[38;5;28;43mself\u001b[39;49m\u001b[38;5;241;43m.\u001b[39;49m\u001b[43msurfaces\u001b[49m\u001b[38;5;241;43m.\u001b[39;49m\u001b[43mpositions\u001b[49m[\u001b[38;5;241m1\u001b[39m, \u001b[38;5;241m0\u001b[39m]\n\u001b[0;32m    142\u001b[0m y0 \u001b[38;5;241m=\u001b[39m \u001b[38;5;241m0\u001b[39m\n\u001b[0;32m    143\u001b[0m u0 \u001b[38;5;241m=\u001b[39m \u001b[38;5;241m0.1\u001b[39m\n",
      "File \u001b[1;32mc:\\Users\\mambf\\OneDrive\\Desktop\\Workspace\\Projects\\_Optiland_dev\\_Optiland\\optiland\\optiland\\surfaces\\surface_group.py:115\u001b[0m, in \u001b[0;36mSurfaceGroup.positions\u001b[1;34m(self)\u001b[0m\n\u001b[0;32m    111\u001b[0m \u001b[38;5;129m@property\u001b[39m\n\u001b[0;32m    112\u001b[0m \u001b[38;5;28;01mdef\u001b[39;00m\u001b[38;5;250m \u001b[39m\u001b[38;5;21mpositions\u001b[39m(\u001b[38;5;28mself\u001b[39m):\n\u001b[0;32m    113\u001b[0m \u001b[38;5;250m    \u001b[39m\u001b[38;5;124;03m\"\"\"np.array: z positions of surface vertices\"\"\"\u001b[39;00m\n\u001b[0;32m    114\u001b[0m     positions \u001b[38;5;241m=\u001b[39m be\u001b[38;5;241m.\u001b[39marray(\n\u001b[1;32m--> 115\u001b[0m         [\u001b[43msurf\u001b[49m\u001b[38;5;241;43m.\u001b[39;49m\u001b[43mgeometry\u001b[49m\u001b[38;5;241;43m.\u001b[39;49m\u001b[43mcs\u001b[49m\u001b[38;5;241;43m.\u001b[39;49m\u001b[43mposition_in_gcs\u001b[49m[\u001b[38;5;241m2\u001b[39m] \u001b[38;5;28;01mfor\u001b[39;00m surf \u001b[38;5;129;01min\u001b[39;00m \u001b[38;5;28mself\u001b[39m\u001b[38;5;241m.\u001b[39msurfaces]\n\u001b[0;32m    116\u001b[0m     )\n\u001b[0;32m    117\u001b[0m     \u001b[38;5;28;01mreturn\u001b[39;00m positions\u001b[38;5;241m.\u001b[39mreshape(\u001b[38;5;241m-\u001b[39m\u001b[38;5;241m1\u001b[39m, \u001b[38;5;241m1\u001b[39m)\n",
      "File \u001b[1;32mc:\\Users\\mambf\\OneDrive\\Desktop\\Workspace\\Projects\\_Optiland_dev\\_Optiland\\optiland\\optiland\\coordinate_system.py:107\u001b[0m, in \u001b[0;36mCoordinateSystem.position_in_gcs\u001b[1;34m(self)\u001b[0m\n\u001b[0;32m     99\u001b[0m \u001b[38;5;250m\u001b[39m\u001b[38;5;124;03m\"\"\"Returns the position of the coordinate system in the global coordinate\u001b[39;00m\n\u001b[0;32m    100\u001b[0m \u001b[38;5;124;03m    system.\u001b[39;00m\n\u001b[0;32m    101\u001b[0m \n\u001b[1;32m   (...)\u001b[0m\n\u001b[0;32m    104\u001b[0m \n\u001b[0;32m    105\u001b[0m \u001b[38;5;124;03m\"\"\"\u001b[39;00m\n\u001b[0;32m    106\u001b[0m vector \u001b[38;5;241m=\u001b[39m RealRays(\u001b[38;5;241m0\u001b[39m, \u001b[38;5;241m0\u001b[39m, \u001b[38;5;241m0\u001b[39m, \u001b[38;5;241m0\u001b[39m, \u001b[38;5;241m0\u001b[39m, \u001b[38;5;241m1\u001b[39m, \u001b[38;5;241m1\u001b[39m, \u001b[38;5;241m1\u001b[39m)\n\u001b[1;32m--> 107\u001b[0m \u001b[38;5;28;43mself\u001b[39;49m\u001b[38;5;241;43m.\u001b[39;49m\u001b[43mglobalize\u001b[49m\u001b[43m(\u001b[49m\u001b[43mvector\u001b[49m\u001b[43m)\u001b[49m\n\u001b[0;32m    108\u001b[0m \u001b[38;5;28;01mreturn\u001b[39;00m vector\u001b[38;5;241m.\u001b[39mx, vector\u001b[38;5;241m.\u001b[39my, vector\u001b[38;5;241m.\u001b[39mz\n",
      "File \u001b[1;32mc:\\Users\\mambf\\OneDrive\\Desktop\\Workspace\\Projects\\_Optiland_dev\\_Optiland\\optiland\\optiland\\coordinate_system.py:92\u001b[0m, in \u001b[0;36mCoordinateSystem.globalize\u001b[1;34m(self, rays)\u001b[0m\n\u001b[0;32m     90\u001b[0m \u001b[38;5;28;01mif\u001b[39;00m \u001b[38;5;28mself\u001b[39m\u001b[38;5;241m.\u001b[39mrx:\n\u001b[0;32m     91\u001b[0m     rays\u001b[38;5;241m.\u001b[39mrotate_x(\u001b[38;5;28mself\u001b[39m\u001b[38;5;241m.\u001b[39mrx)\n\u001b[1;32m---> 92\u001b[0m \u001b[43mrays\u001b[49m\u001b[38;5;241;43m.\u001b[39;49m\u001b[43mtranslate\u001b[49m\u001b[43m(\u001b[49m\u001b[38;5;28;43mself\u001b[39;49m\u001b[38;5;241;43m.\u001b[39;49m\u001b[43mx\u001b[49m\u001b[43m,\u001b[49m\u001b[43m \u001b[49m\u001b[38;5;28;43mself\u001b[39;49m\u001b[38;5;241;43m.\u001b[39;49m\u001b[43my\u001b[49m\u001b[43m,\u001b[49m\u001b[43m \u001b[49m\u001b[38;5;28;43mself\u001b[39;49m\u001b[38;5;241;43m.\u001b[39;49m\u001b[43mz\u001b[49m\u001b[43m)\u001b[49m\n\u001b[0;32m     94\u001b[0m \u001b[38;5;28;01mif\u001b[39;00m \u001b[38;5;28mself\u001b[39m\u001b[38;5;241m.\u001b[39mreference_cs:\n\u001b[0;32m     95\u001b[0m     \u001b[38;5;28mself\u001b[39m\u001b[38;5;241m.\u001b[39mreference_cs\u001b[38;5;241m.\u001b[39mglobalize(rays)\n",
      "File \u001b[1;32mc:\\Users\\mambf\\OneDrive\\Desktop\\Workspace\\Projects\\_Optiland_dev\\_Optiland\\optiland\\optiland\\rays\\base.py:30\u001b[0m, in \u001b[0;36mBaseRays.translate\u001b[1;34m(self, dx, dy, dz)\u001b[0m\n\u001b[0;32m     21\u001b[0m \u001b[38;5;28;01mdef\u001b[39;00m\u001b[38;5;250m \u001b[39m\u001b[38;5;21mtranslate\u001b[39m(\u001b[38;5;28mself\u001b[39m, dx: \u001b[38;5;28mfloat\u001b[39m, dy: \u001b[38;5;28mfloat\u001b[39m, dz: \u001b[38;5;28mfloat\u001b[39m):\n\u001b[0;32m     22\u001b[0m \u001b[38;5;250m    \u001b[39m\u001b[38;5;124;03m\"\"\"Shifts the rays in the x, y, and z directions.\u001b[39;00m\n\u001b[0;32m     23\u001b[0m \n\u001b[0;32m     24\u001b[0m \u001b[38;5;124;03m    Args:\u001b[39;00m\n\u001b[1;32m   (...)\u001b[0m\n\u001b[0;32m     28\u001b[0m \n\u001b[0;32m     29\u001b[0m \u001b[38;5;124;03m    \"\"\"\u001b[39;00m\n\u001b[1;32m---> 30\u001b[0m     \u001b[38;5;28mself\u001b[39m\u001b[38;5;241m.\u001b[39mx \u001b[38;5;241m=\u001b[39m \u001b[38;5;28;43mself\u001b[39;49m\u001b[38;5;241;43m.\u001b[39;49m\u001b[43mx\u001b[49m\u001b[43m \u001b[49m\u001b[38;5;241;43m+\u001b[39;49m\u001b[43m \u001b[49m\u001b[43mdx\u001b[49m\n\u001b[0;32m     31\u001b[0m     \u001b[38;5;28mself\u001b[39m\u001b[38;5;241m.\u001b[39my \u001b[38;5;241m=\u001b[39m \u001b[38;5;28mself\u001b[39m\u001b[38;5;241m.\u001b[39my \u001b[38;5;241m+\u001b[39m dy\n\u001b[0;32m     32\u001b[0m     \u001b[38;5;28mself\u001b[39m\u001b[38;5;241m.\u001b[39mz \u001b[38;5;241m=\u001b[39m \u001b[38;5;28mself\u001b[39m\u001b[38;5;241m.\u001b[39mz \u001b[38;5;241m+\u001b[39m dz\n",
      "\u001b[1;31mTypeError\u001b[0m: Concatenation operation is not implemented for NumPy arrays, use np.concatenate() instead. Please do not rely on this error; it may not be given on all Python implementations."
     ]
    }
   ],
   "source": [
    "be.set_backend(\"numpy\")\n",
    "\n",
    "\n",
    "# Convert to backend arrays (NumPy backend, so numpy.array)\n",
    "Hx_be = be.array(flat_Hx)\n",
    "Hy_be = be.array(flat_Hy)\n",
    "\n",
    "optic.trace_generic(Hx=Hx_be, Hy=Hy_be, Px=0, Py=0, wavelength=wavelength)\n",
    "y_np = optic.surface_group.y[-1, :].copy()"
   ]
  },
  {
   "cell_type": "code",
   "execution_count": null,
   "id": "482bb776",
   "metadata": {},
   "outputs": [],
   "source": []
  }
 ],
 "metadata": {
  "kernelspec": {
   "display_name": ".sci-1",
   "language": "python",
   "name": "python3"
  },
  "language_info": {
   "codemirror_mode": {
    "name": "ipython",
    "version": 3
   },
   "file_extension": ".py",
   "mimetype": "text/x-python",
   "name": "python",
   "nbconvert_exporter": "python",
   "pygments_lexer": "ipython3",
   "version": "3.13.1"
  }
 },
 "nbformat": 4,
 "nbformat_minor": 5
}
